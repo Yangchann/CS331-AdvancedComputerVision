{
 "cells": [
  {
   "cell_type": "markdown",
   "id": "a0d4307c",
   "metadata": {},
   "source": [
    "#### **Clone Vision Utilities for Faster R-CNN Training**"
   ]
  },
  {
   "cell_type": "code",
   "execution_count": 1,
   "id": "7e73e070",
   "metadata": {
    "execution": {
     "iopub.execute_input": "2025-01-14T06:42:28.841432Z",
     "iopub.status.busy": "2025-01-14T06:42:28.841121Z",
     "iopub.status.idle": "2025-01-14T06:43:48.145594Z",
     "shell.execute_reply": "2025-01-14T06:43:48.144670Z"
    },
    "papermill": {
     "duration": 79.310479,
     "end_time": "2025-01-14T06:43:48.147195",
     "exception": false,
     "start_time": "2025-01-14T06:42:28.836716",
     "status": "completed"
    },
    "tags": []
   },
   "outputs": [
    {
     "name": "stdout",
     "output_type": "stream",
     "text": [
      "Cloning into 'vision'...\r\n",
      "remote: Enumerating objects: 591764, done.\u001b[K\r\n",
      "remote: Counting objects: 100% (2042/2042), done.\u001b[K\r\n",
      "remote: Compressing objects: 100% (953/953), done.\u001b[K\r\n",
      "remote: Total 591764 (delta 1792), reused 1148 (delta 1084), pack-reused 589722 (from 7)\u001b[K\r\n",
      "Receiving objects: 100% (591764/591764), 1.12 GiB | 46.33 MiB/s, done.\r\n",
      "Resolving deltas: 100% (552848/552848), done.\r\n",
      "fatal: not a git repository (or any parent up to mount point /kaggle)\r\n",
      "Stopping at filesystem boundary (GIT_DISCOVERY_ACROSS_FILESYSTEM not set).\r\n"
     ]
    }
   ],
   "source": [
    "!pip install pycocotools --quiet\n",
    "!git clone https://github.com/pytorch/vision.git\n",
    "!git checkout v0.3.0\n",
    "\n",
    "!cp vision/references/detection/utils.py ./\n",
    "\n",
    "!cp vision/references/detection/transforms.py ./\n",
    "!cp vision/references/detection/coco_eval.py ./\n",
    "!cp vision/references/detection/engine.py ./\n",
    "!cp vision/references/detection/coco_utils.py ./"
   ]
  },
  {
   "cell_type": "markdown",
   "id": "96d0de34",
   "metadata": {},
   "source": [
    "#### **Import Required Libraries**"
   ]
  },
  {
   "cell_type": "code",
   "execution_count": 2,
   "id": "6872ec9a",
   "metadata": {
    "execution": {
     "iopub.execute_input": "2025-01-14T06:43:48.178661Z",
     "iopub.status.busy": "2025-01-14T06:43:48.178420Z",
     "iopub.status.idle": "2025-01-14T06:43:54.969059Z",
     "shell.execute_reply": "2025-01-14T06:43:54.968119Z"
    },
    "papermill": {
     "duration": 6.807617,
     "end_time": "2025-01-14T06:43:54.970475",
     "exception": false,
     "start_time": "2025-01-14T06:43:48.162858",
     "status": "completed"
    },
    "tags": []
   },
   "outputs": [
    {
     "name": "stderr",
     "output_type": "stream",
     "text": [
      "/usr/local/lib/python3.10/dist-packages/albumentations/__init__.py:13: UserWarning: A new version of Albumentations is available: 2.0.0 (you have 1.4.15). Upgrade using: pip install -U albumentations. To disable automatic update checks, set the environment variable NO_ALBUMENTATIONS_UPDATE to 1.\n",
      "  check_for_updates()\n"
     ]
    }
   ],
   "source": [
    "import os\n",
    "import shutil\n",
    "import logging\n",
    "import random\n",
    "import warnings\n",
    "import time\n",
    "import io\n",
    "import sys\n",
    "from tqdm import tqdm\n",
    "from pathlib import Path\n",
    "\n",
    "# Data handling and transformations\n",
    "import cv2\n",
    "import numpy as np\n",
    "from PIL import Image\n",
    "import xml.etree.ElementTree as ET\n",
    "\n",
    "# Machine learning and deep learning libraries\n",
    "import torch\n",
    "import torchvision\n",
    "from torchvision import transforms as torchtrans\n",
    "from torchvision.models.detection.faster_rcnn import FastRCNNPredictor\n",
    "from sklearn.model_selection import train_test_split\n",
    "from sklearn.metrics import precision_recall_fscore_support\n",
    "\n",
    "# For image augmentations\n",
    "import albumentations as A\n",
    "from albumentations.pytorch.transforms import ToTensorV2\n",
    "\n",
    "# Custom libraries\n",
    "import utils\n",
    "import transforms as T\n",
    "import engine"
   ]
  },
  {
   "cell_type": "markdown",
   "id": "0fc41c1e",
   "metadata": {},
   "source": [
    "#### **Organize and Split Dataset for Traning**"
   ]
  },
  {
   "cell_type": "code",
   "execution_count": 3,
   "id": "9d5042b0",
   "metadata": {
    "_cell_guid": "b1076dfc-b9ad-4769-8c92-a6c4dae69d19",
    "_uuid": "8f2839f25d086af736a60e9eeb907d3b93b6e0e5",
    "execution": {
     "iopub.execute_input": "2025-01-14T06:43:55.001744Z",
     "iopub.status.busy": "2025-01-14T06:43:55.001370Z",
     "iopub.status.idle": "2025-01-14T06:48:22.681538Z",
     "shell.execute_reply": "2025-01-14T06:48:22.680582Z"
    },
    "papermill": {
     "duration": 267.696865,
     "end_time": "2025-01-14T06:48:22.682875",
     "exception": false,
     "start_time": "2025-01-14T06:43:54.986010",
     "status": "completed"
    },
    "tags": []
   },
   "outputs": [
    {
     "name": "stdout",
     "output_type": "stream",
     "text": [
      "Train: 5183 | Val: 1296 | Test: 1620\n",
      "Copying train files...\n"
     ]
    },
    {
     "name": "stderr",
     "output_type": "stream",
     "text": [
      "100%|██████████| 5183/5183 [02:49<00:00, 30.54it/s]\n"
     ]
    },
    {
     "name": "stdout",
     "output_type": "stream",
     "text": [
      "Copying val files...\n"
     ]
    },
    {
     "name": "stderr",
     "output_type": "stream",
     "text": [
      "100%|██████████| 1296/1296 [00:43<00:00, 30.11it/s]\n"
     ]
    },
    {
     "name": "stdout",
     "output_type": "stream",
     "text": [
      "Copying test files...\n"
     ]
    },
    {
     "name": "stderr",
     "output_type": "stream",
     "text": [
      "100%|██████████| 1620/1620 [00:54<00:00, 29.52it/s]"
     ]
    },
    {
     "name": "stdout",
     "output_type": "stream",
     "text": [
      "Data prepared!\n"
     ]
    },
    {
     "name": "stderr",
     "output_type": "stream",
     "text": [
      "\n"
     ]
    }
   ],
   "source": [
    "data_dir = \"/kaggle/input/sh17-dataset-for-ppe-detection\"\n",
    "output_dir = \"/kaggle/working/data\"\n",
    "\n",
    "train_txt = os.path.join(data_dir, \"train_files.txt\")\n",
    "val_txt = os.path.join(data_dir, \"val_files.txt\")\n",
    "\n",
    "os.makedirs(os.path.join(output_dir, \"train\", \"images\"), exist_ok=True)\n",
    "os.makedirs(os.path.join(output_dir, \"train\", \"labels\"), exist_ok=True)\n",
    "os.makedirs(os.path.join(output_dir, \"val\", \"images\"), exist_ok=True)\n",
    "os.makedirs(os.path.join(output_dir, \"val\", \"labels\"), exist_ok=True)\n",
    "os.makedirs(os.path.join(output_dir, \"test\", \"images\"), exist_ok=True)\n",
    "os.makedirs(os.path.join(output_dir, \"test\", \"labels\"), exist_ok=True)\n",
    "\n",
    "# Read file paths\n",
    "with open(train_txt, \"r\") as f:\n",
    "    train_files = f.read().splitlines()\n",
    "\n",
    "with open(val_txt, \"r\") as f:\n",
    "    test_files = f.read().splitlines()\n",
    "\n",
    "# Split train into train and val (80:20)\n",
    "train_files, val_files = train_test_split(train_files, test_size=0.2, random_state=42, shuffle=True)\n",
    "print(f\"Train: {len(train_files)} | Val: {len(val_files)} | Test: {len(test_files)}\")\n",
    "\n",
    "# Copy files to respective folders\n",
    "def copy_files(file_list, src_images, src_labels, dst_images, dst_labels):\n",
    "    for file in tqdm(file_list):\n",
    "        image_file = os.path.join(src_images, file)\n",
    "        label_file = os.path.join(src_labels, file.split(\".\")[0] + \".xml\")\n",
    "\n",
    "        # Copy images and labels\n",
    "        if os.path.exists(image_file):\n",
    "            shutil.copy(image_file, dst_images)\n",
    "        else:\n",
    "            print(f\"Image not found: {image_file}\")\n",
    "\n",
    "        if os.path.exists(label_file):\n",
    "            shutil.copy(label_file, dst_labels)\n",
    "        else:\n",
    "            print(f\"Label not found: {label_file}\")\n",
    "\n",
    "# Define source and destination folders\n",
    "src_images = os.path.join(data_dir, \"images\")\n",
    "src_labels = os.path.join(data_dir, \"voc_labels\")\n",
    "\n",
    "print(\"Copying train files...\")\n",
    "copy_files(train_files, src_images, src_labels,\n",
    "           os.path.join(output_dir, \"train\", \"images\"),\n",
    "           os.path.join(output_dir, \"train\", \"labels\"))\n",
    "\n",
    "print(\"Copying val files...\")\n",
    "copy_files(val_files, src_images, src_labels,\n",
    "           os.path.join(output_dir, \"val\", \"images\"),\n",
    "           os.path.join(output_dir, \"val\", \"labels\"))\n",
    "\n",
    "print(\"Copying test files...\")\n",
    "copy_files(test_files, src_images, src_labels,\n",
    "           os.path.join(output_dir, \"test\", \"images\"),\n",
    "           os.path.join(output_dir, \"test\", \"labels\"))\n",
    "\n",
    "print(\"Data prepared!\")"
   ]
  },
  {
   "cell_type": "markdown",
   "id": "f4cda1c2",
   "metadata": {},
   "source": [
    "#### **Validate and Update Invalid Bounding Boxes**"
   ]
  },
  {
   "cell_type": "code",
   "execution_count": 4,
   "id": "4b54b58d",
   "metadata": {
    "execution": {
     "iopub.execute_input": "2025-01-14T06:48:22.929928Z",
     "iopub.status.busy": "2025-01-14T06:48:22.929569Z",
     "iopub.status.idle": "2025-01-14T06:48:22.942190Z",
     "shell.execute_reply": "2025-01-14T06:48:22.941392Z"
    },
    "papermill": {
     "duration": 0.11612,
     "end_time": "2025-01-14T06:48:22.943601",
     "exception": false,
     "start_time": "2025-01-14T06:48:22.827481",
     "status": "completed"
    },
    "tags": []
   },
   "outputs": [],
   "source": [
    "# ========================================\n",
    "# Check and update invalid bounding boxes\n",
    "# ========================================\n",
    "\n",
    "class BBoxValidator:\n",
    "    def __init__(self, data_dir):\n",
    "        \"\"\"\n",
    "        Initialize the BBoxValidator with the directory containing XML files.\n",
    "\n",
    "        Parameters:\n",
    "            data_dir: Path to the base directory containing train, val, and test folders.\n",
    "        \"\"\"\n",
    "        self.data_dir = data_dir\n",
    "\n",
    "    def validate_bbox(self, file_path):\n",
    "        \"\"\"\n",
    "        Validate bounding boxes in a given XML file.\n",
    "\n",
    "        Parameters:\n",
    "            file_path (str): Path to the XML file.\n",
    "\n",
    "        Returns:\n",
    "            list: A list of invalid bounding boxes, each represented as a tuple (xmin, xmax, ymin, ymax).\n",
    "        \"\"\"\n",
    "        invalid_bboxes = []\n",
    "        try:\n",
    "            tree = ET.parse(file_path)\n",
    "            root = tree.getroot()\n",
    "            size = root.find('size')\n",
    "            image_width = int(size.find('width').text)\n",
    "            image_height = int(size.find('height').text)\n",
    "\n",
    "            for obj in root.findall('object'):\n",
    "                bndbox = obj.find('bndbox')\n",
    "                xmin = int(bndbox.find('xmin').text)\n",
    "                xmax = int(bndbox.find('xmax').text)\n",
    "                ymin = int(bndbox.find('ymin').text)\n",
    "                ymax = int(bndbox.find('ymax').text)\n",
    "\n",
    "                # Check for invalid bounding box conditions\n",
    "                if xmin < 0 or ymin < 0 or xmax > image_width or ymax > image_height or xmin >= xmax or ymin >= ymax:\n",
    "                    invalid_bboxes.append((xmin, xmax, ymin, ymax))\n",
    "        except Exception as e:\n",
    "            print(f\"Error validating {file_path}: {e}\")\n",
    "\n",
    "        return invalid_bboxes\n",
    "\n",
    "    def find_invalid_files(self, labels_dir):\n",
    "        \"\"\"\n",
    "        Find all XML files with invalid bounding boxes in a given directory.\n",
    "\n",
    "        Parameters:\n",
    "            labels_dir (str): Path to the directory containing XML label files.\n",
    "\n",
    "        Returns:\n",
    "            list: A list of tuples (file_name, invalid_bboxes).\n",
    "        \"\"\"\n",
    "        invalid_files = []\n",
    "        for file_name in os.listdir(labels_dir):\n",
    "            if file_name.endswith('.xml'):\n",
    "                file_path = os.path.join(labels_dir, file_name)\n",
    "                invalid_bboxes = self.validate_bbox(file_path)\n",
    "                if invalid_bboxes:\n",
    "                    invalid_files.append((file_name, invalid_bboxes))\n",
    "        return invalid_files\n",
    "\n",
    "    def update_invalid_bboxes(self, labels_dir):\n",
    "        \"\"\"\n",
    "        Update invalid bounding boxes in all XML files within the given directory.\n",
    "\n",
    "        Parameters:\n",
    "            labels_dir (str): Path to the directory containing XML label files.\n",
    "        \"\"\"\n",
    "        for file_name in os.listdir(labels_dir):\n",
    "            if file_name.endswith('.xml'):\n",
    "                file_path = os.path.join(labels_dir, file_name)\n",
    "                try:\n",
    "                    tree = ET.parse(file_path)\n",
    "                    root = tree.getroot()\n",
    "                    size = root.find('size')\n",
    "                    image_width = int(size.find('width').text)\n",
    "                    image_height = int(size.find('height').text)\n",
    "\n",
    "                    updated = False\n",
    "\n",
    "                    for obj in root.findall('object'):\n",
    "                        bbox = obj.find('bndbox')\n",
    "                        if bbox is None:\n",
    "                            continue\n",
    "\n",
    "                        xmin = int(bbox.find('xmin').text)\n",
    "                        ymin = int(bbox.find('ymin').text)\n",
    "                        xmax = int(bbox.find('xmax').text)\n",
    "                        ymax = int(bbox.find('ymax').text)\n",
    "\n",
    "                        # Correct invalid bounding boxes\n",
    "                        if xmin < 0:\n",
    "                            bbox.find('xmin').text = '0'\n",
    "                            updated = True\n",
    "                        if ymin < 0:\n",
    "                            bbox.find('ymin').text = '0'\n",
    "                            updated = True\n",
    "                        if xmax > image_width:\n",
    "                            bbox.find('xmax').text = str(image_width)\n",
    "                            updated = True\n",
    "                        if ymax > image_height:\n",
    "                            bbox.find('ymax').text = str(image_height)\n",
    "                            updated = True\n",
    "                        if xmin >= xmax:\n",
    "                            bbox.find('xmax').text = str(xmin + 1)\n",
    "                            updated = True\n",
    "                        if ymin >= ymax:\n",
    "                            bbox.find('ymax').text = str(ymin + 1)\n",
    "                            updated = True\n",
    "\n",
    "                    if updated:\n",
    "                        tree.write(file_path)\n",
    "                        print(f\"    => Updated invalid bounding boxes in {file_path}\")\n",
    "\n",
    "                except Exception as e:\n",
    "                    print(f\"Error processing file {file_path}: {e}\")\n",
    "\n",
    "    def process_all_folders(self):\n",
    "        \"\"\"\n",
    "        Validate and update bounding boxes in train, val, and test label folders.\n",
    "        \"\"\"\n",
    "        for folder in ['train', 'val', 'test']:\n",
    "            labels_dir = os.path.join(self.data_dir, folder, 'labels')\n",
    "            print(f\"\\nProcessing {labels_dir}...\")\n",
    "\n",
    "            # Find and print invalid files\n",
    "            invalid_files = self.find_invalid_files(labels_dir)\n",
    "            if invalid_files:\n",
    "                print(f\"    Files with invalid bounding boxes in {folder}:\")\n",
    "                for file_name, bboxes in invalid_files:\n",
    "                    print(f\"        File: {file_name}\")\n",
    "                    for bbox in bboxes:\n",
    "                        print(f\"              Invalid BBox: {bbox}\")\n",
    "            else:\n",
    "                print(f\"    No invalid bounding boxes found in {folder}.\")\n",
    "\n",
    "            # Update invalid bounding boxes\n",
    "            self.update_invalid_bboxes(labels_dir)"
   ]
  },
  {
   "cell_type": "code",
   "execution_count": 5,
   "id": "3427b0bb",
   "metadata": {
    "execution": {
     "iopub.execute_input": "2025-01-14T06:48:23.144189Z",
     "iopub.status.busy": "2025-01-14T06:48:23.143884Z",
     "iopub.status.idle": "2025-01-14T06:48:26.026958Z",
     "shell.execute_reply": "2025-01-14T06:48:26.026228Z"
    },
    "papermill": {
     "duration": 2.985025,
     "end_time": "2025-01-14T06:48:26.028488",
     "exception": false,
     "start_time": "2025-01-14T06:48:23.043463",
     "status": "completed"
    },
    "tags": []
   },
   "outputs": [
    {
     "name": "stdout",
     "output_type": "stream",
     "text": [
      "\n",
      "Processing /kaggle/working/data/train/labels...\n",
      "    Files with invalid bounding boxes in train:\n",
      "        File: pexels-photo-258626.xml\n",
      "              Invalid BBox: (1725, 1874, 4430, 4664)\n",
      "        File: pexels-photo-259265.xml\n",
      "              Invalid BBox: (1559, 3509, 123, 1358)\n",
      "    => Updated invalid bounding boxes in /kaggle/working/data/train/labels/pexels-photo-258626.xml\n",
      "    => Updated invalid bounding boxes in /kaggle/working/data/train/labels/pexels-photo-259265.xml\n",
      "\n",
      "Processing /kaggle/working/data/val/labels...\n",
      "    No invalid bounding boxes found in val.\n",
      "\n",
      "Processing /kaggle/working/data/test/labels...\n",
      "    No invalid bounding boxes found in test.\n"
     ]
    }
   ],
   "source": [
    "data_dir = '/kaggle/working/data'\n",
    "validator = BBoxValidator(data_dir)\n",
    "validator.process_all_folders()"
   ]
  },
  {
   "cell_type": "markdown",
   "id": "569f098d",
   "metadata": {},
   "source": [
    "#### **Define Custom Dataset Class**"
   ]
  },
  {
   "cell_type": "code",
   "execution_count": 6,
   "id": "6df66bc7",
   "metadata": {
    "execution": {
     "iopub.execute_input": "2025-01-14T06:48:26.231229Z",
     "iopub.status.busy": "2025-01-14T06:48:26.230936Z",
     "iopub.status.idle": "2025-01-14T06:48:26.242719Z",
     "shell.execute_reply": "2025-01-14T06:48:26.242091Z"
    },
    "papermill": {
     "duration": 0.114374,
     "end_time": "2025-01-14T06:48:26.244009",
     "exception": false,
     "start_time": "2025-01-14T06:48:26.129635",
     "status": "completed"
    },
    "tags": []
   },
   "outputs": [],
   "source": [
    "# ========================================\n",
    "# Class Custom Dataset\n",
    "# ========================================\n",
    "class CustomDataset(torch.utils.data.Dataset):\n",
    "    def __init__(self, root, class_mapping, transforms=None):\n",
    "        self.root = root\n",
    "        self.class_mapping = class_mapping\n",
    "        self.transforms = transforms\n",
    "        self.images = sorted(os.listdir(os.path.join(root, \"images\")))  # Sort images\n",
    "        self.labels = sorted(os.listdir(os.path.join(root, \"labels\")))  # Sort labels\n",
    "\n",
    "        # Ensure the same number of images and labels\n",
    "        assert len(self.images) == len(self.labels), \"Mismatch between number of images and labels\"\n",
    "\n",
    "        # Optionally ensure filenames (without extensions) match between images and labels\n",
    "        for img, label in zip(self.images, self.labels):\n",
    "            assert img.split('.')[0] == label.split('.')[0], f\"Image {img} and label {label} do not match\"\n",
    "\n",
    "    def __len__(self):\n",
    "        return len(self.images)\n",
    "\n",
    "    def __getitem__(self, idx):\n",
    "        img_path = os.path.join(self.root, \"images\", self.images[idx])\n",
    "        label_path = os.path.join(self.root, \"labels\", self.labels[idx])\n",
    "        img = Image.open(img_path).convert(\"RGB\")\n",
    "        tree = ET.parse(label_path)\n",
    "        root = tree.getroot()\n",
    "\n",
    "        boxes = []\n",
    "        labels = []\n",
    "        img_width, img_height = img.size\n",
    "        for obj in root.findall(\"object\"):\n",
    "            bbox = obj.find(\"bndbox\")\n",
    "            xmin = int(bbox.find(\"xmin\").text)\n",
    "            ymin = int(bbox.find(\"ymin\").text)\n",
    "            xmax = int(bbox.find(\"xmax\").text)\n",
    "            ymax = int(bbox.find(\"ymax\").text)\n",
    "            boxes.append([xmin, ymin, xmax, ymax])\n",
    "            name = obj.find(\"name\").text\n",
    "\n",
    "            if name in self.class_mapping:\n",
    "                labels.append(self.class_mapping[name])\n",
    "            else:\n",
    "                raise ValueError(f\"Unknown label '{name}' in {label_path}\")\n",
    "\n",
    "        # Convert boxes to numpy array for albumentations (no manual normalization here)\n",
    "        boxes = np.array(boxes, dtype=np.float32)\n",
    "\n",
    "        # Apply transformations if provided\n",
    "        if self.transforms:\n",
    "            # albumentations requires input to be a dictionary with 'image' and 'bboxes'\n",
    "            augmented = self.transforms(image=np.array(img), bboxes=boxes, labels=labels)\n",
    "            img = augmented['image']\n",
    "            boxes = augmented['bboxes']\n",
    "\n",
    "        # Convert boxes to tensor\n",
    "        boxes = torch.as_tensor(boxes, dtype=torch.float32)\n",
    "        labels = torch.as_tensor(labels, dtype=torch.int64)\n",
    "\n",
    "        # Calculate area of each box\n",
    "        area = (boxes[:, 3] - boxes[:, 1]) * (boxes[:, 2] - boxes[:, 0])\n",
    "\n",
    "        # Suppose all instances are not crowd\n",
    "        iscrowd = torch.zeros((boxes.shape[0],), dtype=torch.int64)\n",
    "\n",
    "        # Prepare the target dictionary\n",
    "        target = {\n",
    "            \"boxes\": boxes,\n",
    "            \"labels\": labels,\n",
    "            \"area\": area,\n",
    "            \"iscrowd\": iscrowd,\n",
    "            \"image_id\": int(idx)\n",
    "        }\n",
    "\n",
    "        return img, target\n",
    "\n",
    "\n",
    "\n",
    "# =================================\n",
    "# Data Loaders\n",
    "# =================================\n",
    "def collate_fn(batch):\n",
    "    return tuple(zip(*batch))\n",
    "\n",
    "def get_dataloaders(data_dir, class_mapping, batch_size=4):\n",
    "    # Define albumentations transformations\n",
    "    image_transforms = A.Compose(\n",
    "        [\n",
    "            A.Resize(640, 640),\n",
    "            A.Normalize(mean=[0.485, 0.456, 0.406], std=[0.229, 0.224, 0.225], max_pixel_value=255.0),\n",
    "            ToTensorV2(),\n",
    "        ],\n",
    "        bbox_params=A.BboxParams(format='pascal_voc', label_fields=['labels'])\n",
    "    )\n",
    "\n",
    "\n",
    "\n",
    "    # Create dataset instances\n",
    "    train_dataset = CustomDataset(os.path.join(data_dir, \"train\"), class_mapping, transforms=image_transforms)\n",
    "    val_dataset = CustomDataset(os.path.join(data_dir, \"val\"), class_mapping, transforms=image_transforms)\n",
    "    test_dataset = CustomDataset(os.path.join(data_dir, \"test\"), class_mapping, transforms=image_transforms)\n",
    "\n",
    "    # Create data loaders\n",
    "    train_loader = torch.utils.data.DataLoader(train_dataset, batch_size=batch_size, shuffle=True, collate_fn=collate_fn)\n",
    "    val_loader = torch.utils.data.DataLoader(val_dataset, batch_size=batch_size, shuffle=False, collate_fn=collate_fn)\n",
    "    test_loader = torch.utils.data.DataLoader(test_dataset, batch_size=batch_size, shuffle=False, collate_fn=collate_fn)\n",
    "\n",
    "    return train_loader, val_loader, test_loader"
   ]
  },
  {
   "cell_type": "markdown",
   "id": "70ba7b26",
   "metadata": {},
   "source": [
    "#### **Define dataloader with Weighted Random Sampler** "
   ]
  },
  {
   "cell_type": "code",
   "execution_count": 9,
   "id": "f33f44be",
   "metadata": {
    "execution": {
     "iopub.execute_input": "2025-01-14T06:48:27.060408Z",
     "iopub.status.busy": "2025-01-14T06:48:27.060046Z",
     "iopub.status.idle": "2025-01-14T06:48:27.071436Z",
     "shell.execute_reply": "2025-01-14T06:48:27.070575Z"
    },
    "papermill": {
     "duration": 0.112682,
     "end_time": "2025-01-14T06:48:27.072786",
     "exception": false,
     "start_time": "2025-01-14T06:48:26.960104",
     "status": "completed"
    },
    "tags": []
   },
   "outputs": [],
   "source": [
    "import pickle\n",
    "from collections import Counter\n",
    "from torch.utils.data import WeightedRandomSampler\n",
    "\n",
    "def get_weighted_random_sampler(dataset, class_mapping):\n",
    "    \"\"\"\n",
    "    Create a WeightedRandomSampler for weighted sampling based on class distribution.\n",
    "\n",
    "    Args:\n",
    "        dataset (torch.utils.data.Dataset): The dataset to sample from.\n",
    "        class_mapping (dict): A dictionary mapping class names to class indices.\n",
    "\n",
    "    Returns:\n",
    "        WeightedRandomSampler: A sampler that samples based on the calculated weights.\n",
    "    \"\"\"\n",
    "    # Collect all labels in the dataset\n",
    "    all_labels = []\n",
    "    for _, target in tqdm(dataset, desc=\"Collecting labels\"):\n",
    "        all_labels.extend(label.item() for label in target[\"labels\"])\n",
    "\n",
    "    # Count the occurrences of each class\n",
    "    class_counts = Counter(all_labels)\n",
    "\n",
    "    # Calculate class weights (inverse proportional to class frequency)\n",
    "    total_samples = sum(class_counts.values())\n",
    "    class_weights = {\n",
    "        cls_id: (total_samples / count if count > 0 else 0)\n",
    "        for cls_id, count in class_counts.items()\n",
    "    }\n",
    "    print(\"Class weights:\", class_weights)\n",
    "\n",
    "    # File to save/load class weights\n",
    "    weights_file = \"/kaggle/working/class_weights.pkl\"\n",
    "\n",
    "    # Load weights if file exists; otherwise, save newly computed weights\n",
    "    if os.path.exists(weights_file):\n",
    "        with open(weights_file, \"rb\") as f:\n",
    "            class_weights = pickle.load(f)\n",
    "        print(f\"Loaded class weights from {weights_file}\")\n",
    "    else:\n",
    "        with open(weights_file, \"wb\") as f:\n",
    "            pickle.dump(class_weights, f)\n",
    "        print(f\"Saved class weights to {weights_file}\")\n",
    "\n",
    "    # Compute weights for each sample in the dataset\n",
    "    weights = []\n",
    "    for _, target in tqdm(dataset, desc=\"Computing sample weights\"):\n",
    "        if len(target[\"labels\"]) > 0:\n",
    "            # Average the class weights for all labels in a sample\n",
    "            sample_weight = sum(class_weights[label.item()] for label in target[\"labels\"]) / len(target[\"labels\"])\n",
    "        else:\n",
    "            sample_weight = 0\n",
    "        weights.append(sample_weight)\n",
    "\n",
    "    # Ensure the weights match the dataset size\n",
    "    print(f\"Length of weights: {len(weights)}\")\n",
    "    print(f\"Length of dataset: {len(dataset)}\")\n",
    "    assert len(weights) == len(dataset), \"Weights and dataset size must match!\"\n",
    "\n",
    "    # Create a WeightedRandomSampler\n",
    "    sampler = WeightedRandomSampler(weights, num_samples=len(weights), replacement=True)\n",
    "\n",
    "    return sampler\n",
    "\n",
    "\n",
    "def get_dataloaders_with_weighted_sampling(data_dir, class_mapping, batch_size):\n",
    "    \"\"\"\n",
    "    Prepare DataLoaders with WeightedRandomSampler for training.\n",
    "\n",
    "    Args:\n",
    "        data_dir (str): Path to the dataset directory containing train, val, and test folders.\n",
    "        class_mapping (dict): A dictionary mapping class names to class indices.\n",
    "        batch_size (int): The number of samples per batch.\n",
    "\n",
    "    Returns:\n",
    "        Tuple[torch.utils.data.DataLoader, torch.utils.data.DataLoader, torch.utils.data.DataLoader]:\n",
    "            DataLoaders for training, validation, and testing datasets.\n",
    "    \"\"\"\n",
    "    # Define image transformations using Albumentations\n",
    "    image_transforms = A.Compose(\n",
    "        [\n",
    "            A.Resize(640, 640),  # Resize images to 640x640\n",
    "            A.Normalize(mean=[0.485, 0.456, 0.406],  # Normalize with ImageNet mean/std\n",
    "                        std=[0.229, 0.224, 0.225], max_pixel_value=255.0),\n",
    "            ToTensorV2(),  # Convert to PyTorch tensor\n",
    "        ],\n",
    "        bbox_params=A.BboxParams(format='pascal_voc', label_fields=['labels'])  # Bounding box parameters\n",
    "    )\n",
    "\n",
    "    # Initialize datasets\n",
    "    train_dataset = CustomDataset(os.path.join(data_dir, \"train\"), class_mapping, transforms=image_transforms)\n",
    "    val_dataset = CustomDataset(os.path.join(data_dir, \"val\"), class_mapping, transforms=image_transforms)\n",
    "    test_dataset = CustomDataset(os.path.join(data_dir, \"test\"), class_mapping, transforms=image_transforms)\n",
    "\n",
    "    # Create WeightedRandomSampler for the training dataset\n",
    "    print(\"Initializing WeightedRandomSampler for training dataset...\")\n",
    "    start_time = time.time()\n",
    "    train_sampler = get_weighted_random_sampler(train_dataset, class_mapping)\n",
    "    end_time = time.time()\n",
    "    print(f\"Sampler creation completed in {end_time - start_time:.2f} seconds\")\n",
    "\n",
    "    # Create DataLoaders\n",
    "    print(\"Creating DataLoaders...\")\n",
    "    train_loader = torch.utils.data.DataLoader(\n",
    "        train_dataset, batch_size=batch_size, sampler=train_sampler, collate_fn=collate_fn\n",
    "    )\n",
    "    val_loader = torch.utils.data.DataLoader(\n",
    "        val_dataset, batch_size=batch_size, shuffle=False, collate_fn=collate_fn\n",
    "    )\n",
    "    test_loader = torch.utils.data.DataLoader(\n",
    "        test_dataset, batch_size=batch_size, shuffle=False, collate_fn=collate_fn\n",
    "    )\n",
    "\n",
    "    print(\"DataLoaders created successfully!\")\n",
    "    return train_loader, val_loader, test_loader"
   ]
  },
  {
   "cell_type": "markdown",
   "id": "d4a79d75",
   "metadata": {},
   "source": [
    "#### **Setup Logging, Class Mapping, and Model Initialization**"
   ]
  },
  {
   "cell_type": "code",
   "execution_count": null,
   "id": "1e41ea9d",
   "metadata": {},
   "outputs": [],
   "source": [
    "from coco_utils import get_coco_api_from_dataset\n",
    "from coco_eval import CocoEvaluator\n",
    "from engine import train_one_epoch, evaluate\n",
    "\n",
    "# ========================\n",
    "# Logging Configuration\n",
    "# ========================\n",
    "# Truy cập root và Loại bỏ tất cả các handlers hiện có\n",
    "root_logger = logging.getLogger()\n",
    "for handler in root_logger.handlers[:]:\n",
    "    root_logger.removeHandler(handler)\n",
    "\n",
    "LOG_FILE = \"/kaggle/working/log.txt\"\n",
    "Path(LOG_FILE).parent.mkdir(parents=True, exist_ok=True)\n",
    "\n",
    "logging.basicConfig(level=logging.INFO,\n",
    "                    format=\"%(asctime)s - %(levelname)s - %(message)s\",\n",
    "                    handlers=[\n",
    "                        logging.FileHandler(LOG_FILE, mode='w'),\n",
    "                        logging.StreamHandler()  # Display on terminal\n",
    "                    ])\n",
    "logger = logging.getLogger()\n",
    "\n",
    "\n",
    "# ========================\n",
    "# Define Class Mapping\n",
    "# ========================\n",
    "class_mapping = {\n",
    "    \"__background__\": 0,\n",
    "    \"person\": 1,\n",
    "    \"ear\": 2,\n",
    "    \"ear-mufs\": 3,\n",
    "    \"face\": 4,\n",
    "    \"face-guard\": 5,\n",
    "    \"face-mask-medical\": 6,\n",
    "    \"foot\": 7,\n",
    "    \"tools\": 8,\n",
    "    \"glasses\": 9,\n",
    "    \"gloves\": 10,\n",
    "    \"helmet\": 11,\n",
    "    \"hands\": 12,\n",
    "    \"head\": 13,\n",
    "    \"medical-suit\": 14,\n",
    "    \"shoes\": 15,\n",
    "    \"safety-suit\": 16,\n",
    "    \"safety-vest\": 17\n",
    "}\n",
    "\n",
    "\n",
    "# ========================\n",
    "# Get Model\n",
    "# ========================\n",
    "def get_model(num_classes):\n",
    "    model = torchvision.models.detection.fasterrcnn_resnet50_fpn(weights=\"COCO_V1\")\n",
    "    in_features = model.roi_heads.box_predictor.cls_score.in_features\n",
    "    model.roi_heads.box_predictor = FastRCNNPredictor(in_features, num_classes)\n",
    "    print(\"Model Done!\")\n",
    "    return model"
   ]
  },
  {
   "cell_type": "markdown",
   "id": "044bad11",
   "metadata": {},
   "source": [
    "#### **Train and Evaluate Model**"
   ]
  },
  {
   "cell_type": "code",
   "execution_count": 10,
   "id": "30135b89",
   "metadata": {
    "execution": {
     "iopub.execute_input": "2025-01-14T06:48:27.275971Z",
     "iopub.status.busy": "2025-01-14T06:48:27.275677Z",
     "iopub.status.idle": "2025-01-14T06:48:27.281966Z",
     "shell.execute_reply": "2025-01-14T06:48:27.281352Z"
    },
    "papermill": {
     "duration": 0.109327,
     "end_time": "2025-01-14T06:48:27.283080",
     "exception": false,
     "start_time": "2025-01-14T06:48:27.173753",
     "status": "completed"
    },
    "tags": []
   },
   "outputs": [],
   "source": [
    "def train_and_evaluate(data_dir: str, num_epochs: int = 10, save_dir: str = 'models', sampling=True):\n",
    "    batch_size = 16\n",
    "    num_classes = len(class_mapping)\n",
    "    device = torch.device(\"cuda\" if torch.cuda.is_available() else \"cpu\")\n",
    "    logger.info(f\"Using device: {device}\")\n",
    "\n",
    "    if sampling:\n",
    "        train_loader, val_loader, test_loader = get_dataloaders_with_weighted_sampling(data_dir, class_mapping, batch_size)\n",
    "    else:\n",
    "        train_loader, val_loader, test_loader = get_dataloaders(data_dir, class_mapping, batch_size)\n",
    "\n",
    "    # Initialize Model\n",
    "    model = get_model(num_classes)\n",
    "    model.to(device)\n",
    "\n",
    "    # Optimizer\n",
    "    optimizer = torch.optim.SGD(model.parameters(), lr=0.01, momentum=0.9, weight_decay=0.0005)\n",
    "\n",
    "    # Training Loop\n",
    "    for epoch in range(num_epochs):\n",
    "        logger.info(f\"Starting epoch {epoch + 1}/{num_epochs}\")\n",
    "\n",
    "        # Train One Epoch\n",
    "        train_one_epoch(model, optimizer, train_loader, device, epoch, print_freq=20)\n",
    "\n",
    "        # Evaluate on Validation Set\n",
    "        logger.info(\"Evaluating on validation set...\")\n",
    "        metrics = evaluate(model, val_loader, device)\n",
    "        logger.info(f\"Validation metrics after epoch {epoch + 1}: {metrics}\")\n",
    "\n",
    "    # Final Evaluation on Test Set\n",
    "    logger.info(\"Evaluating on test set...\")\n",
    "    final_metrics = evaluate(model, test_loader, device)\n",
    "    logger.info(f\"Final evaluation metrics: {final_metrics}\")\n",
    "    print(final_metrics)\n",
    "\n",
    "    # Save Model\n",
    "    model_save_path = os.path.join(save_dir, \"fasterrcnn_model.pth\")\n",
    "    torch.save(model.state_dict(), model_save_path)\n",
    "    print(f\"Model saved to {model_save_path}\")\n",
    "\n",
    "    return model, final_metrics\n"
   ]
  },
  {
   "cell_type": "code",
   "execution_count": 11,
   "id": "3160d18e",
   "metadata": {
    "execution": {
     "iopub.execute_input": "2025-01-14T06:48:27.483291Z",
     "iopub.status.busy": "2025-01-14T06:48:27.483021Z",
     "iopub.status.idle": "2025-01-14T17:42:28.346896Z",
     "shell.execute_reply": "2025-01-14T17:42:28.346020Z"
    },
    "papermill": {
     "duration": 39240.965066,
     "end_time": "2025-01-14T17:42:28.348216",
     "exception": false,
     "start_time": "2025-01-14T06:48:27.383150",
     "status": "completed"
    },
    "tags": []
   },
   "outputs": [
    {
     "name": "stderr",
     "output_type": "stream",
     "text": [
      "2025-01-14 06:48:27,536 - INFO - Using device: cuda\n"
     ]
    },
    {
     "name": "stdout",
     "output_type": "stream",
     "text": [
      "Initializing WeightedRandomSampler for training dataset...\n"
     ]
    },
    {
     "name": "stderr",
     "output_type": "stream",
     "text": [
      "Collecting labels: 100%|██████████| 5183/5183 [28:54<00:00,  2.99it/s]\n"
     ]
    },
    {
     "name": "stdout",
     "output_type": "stream",
     "text": [
      "Class weights: {13: 6.313592486303157, 4: 8.534649973549639, 2: 9.930242100943783, 12: 4.779302853757282, 10: 26.963788300835656, 17: 143.19526627218934, 15: 17.108518911276068, 11: 78.57142857142857, 16: 338.46153846153845, 1: 5.448609703928853, 8: 16.296296296296298, 9: 40.333333333333336, 6: 120.09925558312655, 3: 234.95145631067962, 5: 576.1904761904761, 7: 97.18875502008032, 14: 498.96907216494844}\n",
      "Saved class weights to /kaggle/working/class_weights.pkl\n"
     ]
    },
    {
     "name": "stderr",
     "output_type": "stream",
     "text": [
      "Computing sample weights: 100%|██████████| 5183/5183 [29:00<00:00,  2.98it/s]\n"
     ]
    },
    {
     "name": "stdout",
     "output_type": "stream",
     "text": [
      "Length of weights: 5183\n",
      "Length of dataset: 5183\n",
      "Sampler creation completed in 3474.49 seconds\n",
      "Creating DataLoaders...\n",
      "DataLoaders created successfully!\n"
     ]
    },
    {
     "name": "stderr",
     "output_type": "stream",
     "text": [
      "Downloading: \"https://download.pytorch.org/models/fasterrcnn_resnet50_fpn_coco-258fb6c6.pth\" to /root/.cache/torch/hub/checkpoints/fasterrcnn_resnet50_fpn_coco-258fb6c6.pth\n",
      "100%|██████████| 160M/160M [00:00<00:00, 211MB/s]\n"
     ]
    },
    {
     "name": "stdout",
     "output_type": "stream",
     "text": [
      "Model Done!\n"
     ]
    },
    {
     "name": "stderr",
     "output_type": "stream",
     "text": [
      "2025-01-14 07:46:23,804 - INFO - Starting epoch 1/10\n",
      "/kaggle/working/engine.py:30: FutureWarning: `torch.cuda.amp.autocast(args...)` is deprecated. Please use `torch.amp.autocast('cuda', args...)` instead.\n",
      "  with torch.cuda.amp.autocast(enabled=scaler is not None):\n"
     ]
    },
    {
     "name": "stdout",
     "output_type": "stream",
     "text": [
      "Epoch: [0]  [  0/324]  eta: 0:55:17  lr: 0.000041  loss: 4.1516 (4.1516)  loss_classifier: 3.1331 (3.1331)  loss_box_reg: 0.1942 (0.1942)  loss_objectness: 0.6575 (0.6575)  loss_rpn_box_reg: 0.1668 (0.1668)  time: 10.2402  data: 7.3387  max mem: 11365\n",
      "Epoch: [0]  [ 20/324]  eta: 0:37:22  lr: 0.000660  loss: 1.7075 (2.2618)  loss_classifier: 0.8126 (1.3224)  loss_box_reg: 0.3666 (0.3535)  loss_objectness: 0.3519 (0.4292)  loss_rpn_box_reg: 0.1392 (0.1567)  time: 7.2322  data: 5.7764  max mem: 11520\n",
      "Epoch: [0]  [ 40/324]  eta: 0:34:10  lr: 0.001278  loss: 1.3856 (1.8371)  loss_classifier: 0.6274 (0.9888)  loss_box_reg: 0.4100 (0.3851)  loss_objectness: 0.1956 (0.3183)  loss_rpn_box_reg: 0.1186 (0.1449)  time: 7.0543  data: 5.5986  max mem: 11520\n",
      "Epoch: [0]  [ 60/324]  eta: 0:32:03  lr: 0.001897  loss: 1.3551 (1.6900)  loss_classifier: 0.5882 (0.8623)  loss_box_reg: 0.4496 (0.4108)  loss_objectness: 0.1555 (0.2681)  loss_rpn_box_reg: 0.1451 (0.1488)  time: 7.4288  data: 5.9758  max mem: 11520\n",
      "Epoch: [0]  [ 80/324]  eta: 0:29:47  lr: 0.002515  loss: 1.3183 (1.6189)  loss_classifier: 0.5907 (0.7983)  loss_box_reg: 0.5086 (0.4338)  loss_objectness: 0.1450 (0.2401)  loss_rpn_box_reg: 0.1265 (0.1467)  time: 7.4350  data: 5.9811  max mem: 11520\n",
      "Epoch: [0]  [100/324]  eta: 0:27:18  lr: 0.003134  loss: 1.3447 (1.5724)  loss_classifier: 0.5872 (0.7593)  loss_box_reg: 0.5273 (0.4546)  loss_objectness: 0.1012 (0.2142)  loss_rpn_box_reg: 0.1162 (0.1443)  time: 7.2700  data: 5.8153  max mem: 11520\n",
      "Epoch: [0]  [120/324]  eta: 0:24:57  lr: 0.003752  loss: 1.3322 (1.5351)  loss_classifier: 0.5733 (0.7290)  loss_box_reg: 0.5201 (0.4645)  loss_objectness: 0.1059 (0.1990)  loss_rpn_box_reg: 0.1394 (0.1426)  time: 7.4841  data: 6.0262  max mem: 11520\n",
      "Epoch: [0]  [140/324]  eta: 0:22:31  lr: 0.004371  loss: 1.1370 (1.4820)  loss_classifier: 0.4938 (0.6962)  loss_box_reg: 0.4427 (0.4636)  loss_objectness: 0.0893 (0.1846)  loss_rpn_box_reg: 0.0901 (0.1377)  time: 7.3762  data: 5.9200  max mem: 11520\n",
      "Epoch: [0]  [160/324]  eta: 0:20:07  lr: 0.004990  loss: 1.0839 (1.4367)  loss_classifier: 0.4378 (0.6656)  loss_box_reg: 0.4164 (0.4592)  loss_objectness: 0.0858 (0.1735)  loss_rpn_box_reg: 0.1443 (0.1384)  time: 7.5005  data: 6.0449  max mem: 11520\n",
      "Epoch: [0]  [180/324]  eta: 0:17:42  lr: 0.005608  loss: 1.0723 (1.3948)  loss_classifier: 0.4061 (0.6398)  loss_box_reg: 0.4225 (0.4554)  loss_objectness: 0.0833 (0.1639)  loss_rpn_box_reg: 0.1007 (0.1357)  time: 7.4545  data: 5.9960  max mem: 11520\n",
      "Epoch: [0]  [200/324]  eta: 0:15:13  lr: 0.006227  loss: 1.0054 (1.3570)  loss_classifier: 0.3934 (0.6153)  loss_box_reg: 0.4159 (0.4520)  loss_objectness: 0.0741 (0.1547)  loss_rpn_box_reg: 0.1357 (0.1350)  time: 7.2540  data: 5.7975  max mem: 11520\n",
      "Epoch: [0]  [220/324]  eta: 0:12:43  lr: 0.006845  loss: 0.9753 (1.3223)  loss_classifier: 0.3783 (0.5944)  loss_box_reg: 0.4294 (0.4487)  loss_objectness: 0.0626 (0.1472)  loss_rpn_box_reg: 0.0951 (0.1321)  time: 7.1459  data: 5.6890  max mem: 11520\n",
      "Epoch: [0]  [240/324]  eta: 0:10:17  lr: 0.007464  loss: 0.9213 (1.2906)  loss_classifier: 0.3534 (0.5748)  loss_box_reg: 0.3934 (0.4440)  loss_objectness: 0.0700 (0.1415)  loss_rpn_box_reg: 0.1112 (0.1303)  time: 7.4021  data: 5.9456  max mem: 11520\n",
      "Epoch: [0]  [260/324]  eta: 0:07:50  lr: 0.008082  loss: 0.8933 (1.2624)  loss_classifier: 0.3376 (0.5577)  loss_box_reg: 0.3914 (0.4398)  loss_objectness: 0.0666 (0.1360)  loss_rpn_box_reg: 0.1056 (0.1289)  time: 7.3026  data: 5.8449  max mem: 11520\n",
      "Epoch: [0]  [280/324]  eta: 0:05:23  lr: 0.008701  loss: 0.8943 (1.2382)  loss_classifier: 0.3512 (0.5436)  loss_box_reg: 0.3982 (0.4371)  loss_objectness: 0.0531 (0.1308)  loss_rpn_box_reg: 0.0943 (0.1268)  time: 7.4626  data: 6.0053  max mem: 11520\n",
      "Epoch: [0]  [300/324]  eta: 0:02:56  lr: 0.009320  loss: 0.8587 (1.2123)  loss_classifier: 0.3303 (0.5294)  loss_box_reg: 0.3576 (0.4321)  loss_objectness: 0.0495 (0.1260)  loss_rpn_box_reg: 0.0939 (0.1249)  time: 7.3813  data: 5.9255  max mem: 11520\n",
      "Epoch: [0]  [320/324]  eta: 0:00:29  lr: 0.009938  loss: 0.8305 (1.1921)  loss_classifier: 0.3213 (0.5175)  loss_box_reg: 0.3651 (0.4289)  loss_objectness: 0.0540 (0.1217)  loss_rpn_box_reg: 0.0925 (0.1241)  time: 7.6120  data: 6.1545  max mem: 11520\n"
     ]
    },
    {
     "name": "stderr",
     "output_type": "stream",
     "text": [
      "2025-01-14 08:26:10,450 - INFO - Evaluating on validation set...\n"
     ]
    },
    {
     "name": "stdout",
     "output_type": "stream",
     "text": [
      "Epoch: [0]  [323/324]  eta: 0:00:07  lr: 0.010000  loss: 0.8503 (1.1894)  loss_classifier: 0.3369 (0.5160)  loss_box_reg: 0.3820 (0.4285)  loss_objectness: 0.0540 (0.1211)  loss_rpn_box_reg: 0.1060 (0.1238)  time: 7.5506  data: 6.0975  max mem: 11520\n",
      "Epoch: [0] Total time: 0:39:46 (7.3662 s / it)\n",
      "creating index...\n",
      "index created!\n",
      "Test:  [ 0/81]  eta: 0:06:32  model_time: 0.7122 (0.7122)  evaluator_time: 0.0762 (0.0762)  time: 4.8477  data: 4.0408  max mem: 11520\n",
      "Test:  [80/81]  eta: 0:00:07  model_time: 0.6934 (0.6940)  evaluator_time: 0.0837 (0.0804)  time: 7.5028  data: 6.6912  max mem: 11520\n",
      "Test: Total time: 0:09:40 (7.1616 s / it)\n",
      "Averaged stats: model_time: 0.6934 (0.6940)  evaluator_time: 0.0837 (0.0804)\n",
      "Accumulating evaluation results...\n"
     ]
    },
    {
     "name": "stderr",
     "output_type": "stream",
     "text": [
      "2025-01-14 08:43:05,974 - INFO - Validation metrics after epoch 1: <coco_eval.CocoEvaluator object at 0x7be8241cb820>\n",
      "2025-01-14 08:43:05,975 - INFO - Starting epoch 2/10\n"
     ]
    },
    {
     "name": "stdout",
     "output_type": "stream",
     "text": [
      "DONE (t=1.85s).\n",
      "IoU metric: bbox\n",
      " Average Precision  (AP) @[ IoU=0.50:0.95 | area=   all | maxDets=100 ] = 0.171\n",
      " Average Precision  (AP) @[ IoU=0.50      | area=   all | maxDets=100 ] = 0.345\n",
      " Average Precision  (AP) @[ IoU=0.75      | area=   all | maxDets=100 ] = 0.148\n",
      " Average Precision  (AP) @[ IoU=0.50:0.95 | area= small | maxDets=100 ] = 0.077\n",
      " Average Precision  (AP) @[ IoU=0.50:0.95 | area=medium | maxDets=100 ] = 0.192\n",
      " Average Precision  (AP) @[ IoU=0.50:0.95 | area= large | maxDets=100 ] = 0.201\n",
      " Average Recall     (AR) @[ IoU=0.50:0.95 | area=   all | maxDets=  1 ] = 0.193\n",
      " Average Recall     (AR) @[ IoU=0.50:0.95 | area=   all | maxDets= 10 ] = 0.324\n",
      " Average Recall     (AR) @[ IoU=0.50:0.95 | area=   all | maxDets=100 ] = 0.330\n",
      " Average Recall     (AR) @[ IoU=0.50:0.95 | area= small | maxDets=100 ] = 0.161\n",
      " Average Recall     (AR) @[ IoU=0.50:0.95 | area=medium | maxDets=100 ] = 0.344\n",
      " Average Recall     (AR) @[ IoU=0.50:0.95 | area= large | maxDets=100 ] = 0.411\n",
      "Epoch: [1]  [  0/324]  eta: 0:43:07  lr: 0.010000  loss: 0.8664 (0.8664)  loss_classifier: 0.3548 (0.3548)  loss_box_reg: 0.3860 (0.3860)  loss_objectness: 0.0493 (0.0493)  loss_rpn_box_reg: 0.0764 (0.0764)  time: 7.9875  data: 6.5288  max mem: 11520\n",
      "Epoch: [1]  [ 20/324]  eta: 0:35:59  lr: 0.010000  loss: 0.9106 (0.8928)  loss_classifier: 0.3461 (0.3398)  loss_box_reg: 0.3856 (0.3801)  loss_objectness: 0.0648 (0.0656)  loss_rpn_box_reg: 0.0988 (0.1073)  time: 7.0585  data: 5.5999  max mem: 11520\n",
      "Epoch: [1]  [ 40/324]  eta: 0:32:56  lr: 0.010000  loss: 0.8751 (0.8915)  loss_classifier: 0.3249 (0.3389)  loss_box_reg: 0.3798 (0.3792)  loss_objectness: 0.0576 (0.0665)  loss_rpn_box_reg: 0.0900 (0.1069)  time: 6.8059  data: 5.3499  max mem: 11520\n",
      "Epoch: [1]  [ 60/324]  eta: 0:30:38  lr: 0.010000  loss: 0.8313 (0.8744)  loss_classifier: 0.3080 (0.3318)  loss_box_reg: 0.3642 (0.3736)  loss_objectness: 0.0503 (0.0646)  loss_rpn_box_reg: 0.0865 (0.1045)  time: 6.9722  data: 5.5155  max mem: 11520\n",
      "Epoch: [1]  [ 80/324]  eta: 0:28:12  lr: 0.010000  loss: 0.8223 (0.8668)  loss_classifier: 0.3142 (0.3277)  loss_box_reg: 0.3631 (0.3707)  loss_objectness: 0.0464 (0.0613)  loss_rpn_box_reg: 0.1082 (0.1071)  time: 6.8514  data: 5.3960  max mem: 11520\n",
      "Epoch: [1]  [100/324]  eta: 0:26:03  lr: 0.010000  loss: 0.7924 (0.8558)  loss_classifier: 0.2968 (0.3225)  loss_box_reg: 0.3496 (0.3671)  loss_objectness: 0.0459 (0.0592)  loss_rpn_box_reg: 0.0968 (0.1070)  time: 7.1608  data: 5.7048  max mem: 11520\n",
      "Epoch: [1]  [120/324]  eta: 0:23:33  lr: 0.010000  loss: 0.7951 (0.8474)  loss_classifier: 0.3050 (0.3191)  loss_box_reg: 0.3505 (0.3647)  loss_objectness: 0.0513 (0.0584)  loss_rpn_box_reg: 0.0984 (0.1052)  time: 6.6782  data: 5.2221  max mem: 11520\n",
      "Epoch: [1]  [140/324]  eta: 0:21:18  lr: 0.010000  loss: 0.7529 (0.8347)  loss_classifier: 0.2793 (0.3132)  loss_box_reg: 0.3595 (0.3631)  loss_objectness: 0.0412 (0.0560)  loss_rpn_box_reg: 0.0743 (0.1023)  time: 7.0584  data: 5.5955  max mem: 11520\n",
      "Epoch: [1]  [160/324]  eta: 0:19:06  lr: 0.010000  loss: 0.7970 (0.8292)  loss_classifier: 0.2715 (0.3089)  loss_box_reg: 0.3466 (0.3616)  loss_objectness: 0.0449 (0.0556)  loss_rpn_box_reg: 0.1135 (0.1032)  time: 7.2842  data: 5.8198  max mem: 11520\n",
      "Epoch: [1]  [180/324]  eta: 0:16:48  lr: 0.010000  loss: 0.7592 (0.8235)  loss_classifier: 0.2679 (0.3056)  loss_box_reg: 0.3396 (0.3595)  loss_objectness: 0.0455 (0.0558)  loss_rpn_box_reg: 0.0830 (0.1027)  time: 7.1044  data: 5.6464  max mem: 11520\n",
      "Epoch: [1]  [200/324]  eta: 0:14:26  lr: 0.010000  loss: 0.7545 (0.8160)  loss_classifier: 0.2709 (0.3022)  loss_box_reg: 0.3424 (0.3581)  loss_objectness: 0.0391 (0.0543)  loss_rpn_box_reg: 0.0805 (0.1014)  time: 6.8498  data: 5.3940  max mem: 11520\n",
      "Epoch: [1]  [220/324]  eta: 0:12:06  lr: 0.010000  loss: 0.7738 (0.8119)  loss_classifier: 0.2794 (0.3003)  loss_box_reg: 0.3524 (0.3575)  loss_objectness: 0.0393 (0.0534)  loss_rpn_box_reg: 0.0832 (0.1007)  time: 6.9939  data: 5.5373  max mem: 11520\n",
      "Epoch: [1]  [240/324]  eta: 0:09:47  lr: 0.010000  loss: 0.7303 (0.8073)  loss_classifier: 0.2736 (0.2977)  loss_box_reg: 0.3356 (0.3557)  loss_objectness: 0.0394 (0.0531)  loss_rpn_box_reg: 0.0914 (0.1007)  time: 7.1208  data: 5.6617  max mem: 11520\n",
      "Epoch: [1]  [260/324]  eta: 0:07:26  lr: 0.010000  loss: 0.7093 (0.8009)  loss_classifier: 0.2596 (0.2948)  loss_box_reg: 0.3254 (0.3533)  loss_objectness: 0.0405 (0.0522)  loss_rpn_box_reg: 0.0988 (0.1007)  time: 6.7843  data: 5.3278  max mem: 11520\n",
      "Epoch: [1]  [280/324]  eta: 0:05:06  lr: 0.010000  loss: 0.7014 (0.7940)  loss_classifier: 0.2561 (0.2916)  loss_box_reg: 0.3347 (0.3517)  loss_objectness: 0.0303 (0.0510)  loss_rpn_box_reg: 0.0692 (0.0996)  time: 6.8950  data: 5.4372  max mem: 11520\n",
      "Epoch: [1]  [300/324]  eta: 0:02:47  lr: 0.010000  loss: 0.6998 (0.7868)  loss_classifier: 0.2531 (0.2885)  loss_box_reg: 0.3164 (0.3496)  loss_objectness: 0.0356 (0.0500)  loss_rpn_box_reg: 0.0847 (0.0987)  time: 6.9053  data: 5.4485  max mem: 11520\n",
      "Epoch: [1]  [320/324]  eta: 0:00:27  lr: 0.010000  loss: 0.7092 (0.7826)  loss_classifier: 0.2508 (0.2869)  loss_box_reg: 0.3264 (0.3483)  loss_objectness: 0.0326 (0.0493)  loss_rpn_box_reg: 0.0871 (0.0982)  time: 6.7457  data: 5.2868  max mem: 11520\n"
     ]
    },
    {
     "name": "stderr",
     "output_type": "stream",
     "text": [
      "2025-01-14 09:20:39,191 - INFO - Evaluating on validation set...\n"
     ]
    },
    {
     "name": "stdout",
     "output_type": "stream",
     "text": [
      "Epoch: [1]  [323/324]  eta: 0:00:06  lr: 0.010000  loss: 0.6635 (0.7813)  loss_classifier: 0.2467 (0.2863)  loss_box_reg: 0.3213 (0.3479)  loss_objectness: 0.0324 (0.0491)  loss_rpn_box_reg: 0.0871 (0.0980)  time: 6.7642  data: 5.3095  max mem: 11520\n",
      "Epoch: [1] Total time: 0:37:33 (6.9544 s / it)\n",
      "creating index...\n",
      "index created!\n",
      "Test:  [ 0/81]  eta: 0:06:29  model_time: 0.7035 (0.7035)  evaluator_time: 0.0591 (0.0591)  time: 4.8110  data: 4.0296  max mem: 11520\n",
      "Test:  [80/81]  eta: 0:00:06  model_time: 0.6892 (0.6925)  evaluator_time: 0.0701 (0.0703)  time: 7.1200  data: 6.3248  max mem: 11520\n",
      "Test: Total time: 0:09:03 (6.7102 s / it)\n",
      "Averaged stats: model_time: 0.6892 (0.6925)  evaluator_time: 0.0701 (0.0703)\n",
      "Accumulating evaluation results...\n"
     ]
    },
    {
     "name": "stderr",
     "output_type": "stream",
     "text": [
      "2025-01-14 09:36:37,757 - INFO - Validation metrics after epoch 2: <coco_eval.CocoEvaluator object at 0x7be8241ca740>\n",
      "2025-01-14 09:36:37,759 - INFO - Starting epoch 3/10\n"
     ]
    },
    {
     "name": "stdout",
     "output_type": "stream",
     "text": [
      "DONE (t=1.55s).\n",
      "IoU metric: bbox\n",
      " Average Precision  (AP) @[ IoU=0.50:0.95 | area=   all | maxDets=100 ] = 0.215\n",
      " Average Precision  (AP) @[ IoU=0.50      | area=   all | maxDets=100 ] = 0.416\n",
      " Average Precision  (AP) @[ IoU=0.75      | area=   all | maxDets=100 ] = 0.202\n",
      " Average Precision  (AP) @[ IoU=0.50:0.95 | area= small | maxDets=100 ] = 0.102\n",
      " Average Precision  (AP) @[ IoU=0.50:0.95 | area=medium | maxDets=100 ] = 0.242\n",
      " Average Precision  (AP) @[ IoU=0.50:0.95 | area= large | maxDets=100 ] = 0.254\n",
      " Average Recall     (AR) @[ IoU=0.50:0.95 | area=   all | maxDets=  1 ] = 0.217\n",
      " Average Recall     (AR) @[ IoU=0.50:0.95 | area=   all | maxDets= 10 ] = 0.361\n",
      " Average Recall     (AR) @[ IoU=0.50:0.95 | area=   all | maxDets=100 ] = 0.364\n",
      " Average Recall     (AR) @[ IoU=0.50:0.95 | area= small | maxDets=100 ] = 0.185\n",
      " Average Recall     (AR) @[ IoU=0.50:0.95 | area=medium | maxDets=100 ] = 0.373\n",
      " Average Recall     (AR) @[ IoU=0.50:0.95 | area= large | maxDets=100 ] = 0.458\n",
      "Epoch: [2]  [  0/324]  eta: 0:40:32  lr: 0.010000  loss: 0.6451 (0.6451)  loss_classifier: 0.2351 (0.2351)  loss_box_reg: 0.3195 (0.3195)  loss_objectness: 0.0234 (0.0234)  loss_rpn_box_reg: 0.0672 (0.0672)  time: 7.5064  data: 6.0517  max mem: 11520\n",
      "Epoch: [2]  [ 20/324]  eta: 0:37:56  lr: 0.010000  loss: 0.6477 (0.6558)  loss_classifier: 0.2175 (0.2325)  loss_box_reg: 0.3012 (0.3006)  loss_objectness: 0.0297 (0.0322)  loss_rpn_box_reg: 0.0844 (0.0905)  time: 7.4864  data: 6.0289  max mem: 11520\n",
      "Epoch: [2]  [ 40/324]  eta: 0:34:56  lr: 0.010000  loss: 0.6448 (0.6478)  loss_classifier: 0.2232 (0.2284)  loss_box_reg: 0.2997 (0.3011)  loss_objectness: 0.0250 (0.0335)  loss_rpn_box_reg: 0.0767 (0.0847)  time: 7.2685  data: 5.8104  max mem: 11520\n",
      "Epoch: [2]  [ 60/324]  eta: 0:32:47  lr: 0.010000  loss: 0.6379 (0.6448)  loss_classifier: 0.2325 (0.2290)  loss_box_reg: 0.3024 (0.3009)  loss_objectness: 0.0303 (0.0321)  loss_rpn_box_reg: 0.0765 (0.0828)  time: 7.5958  data: 6.1358  max mem: 11520\n",
      "Epoch: [2]  [ 80/324]  eta: 0:30:23  lr: 0.010000  loss: 0.6526 (0.6536)  loss_classifier: 0.2290 (0.2293)  loss_box_reg: 0.3065 (0.3026)  loss_objectness: 0.0335 (0.0379)  loss_rpn_box_reg: 0.0770 (0.0838)  time: 7.5464  data: 6.0913  max mem: 11520\n",
      "Epoch: [2]  [100/324]  eta: 0:28:06  lr: 0.010000  loss: 0.6414 (0.6502)  loss_classifier: 0.2081 (0.2253)  loss_box_reg: 0.2807 (0.2992)  loss_objectness: 0.0388 (0.0406)  loss_rpn_box_reg: 0.0869 (0.0850)  time: 7.7548  data: 6.3002  max mem: 11520\n",
      "Epoch: [2]  [120/324]  eta: 0:25:37  lr: 0.010000  loss: 0.6467 (0.6490)  loss_classifier: 0.2197 (0.2253)  loss_box_reg: 0.3026 (0.2993)  loss_objectness: 0.0336 (0.0400)  loss_rpn_box_reg: 0.0756 (0.0844)  time: 7.5637  data: 6.1047  max mem: 11520\n",
      "Epoch: [2]  [140/324]  eta: 0:23:09  lr: 0.010000  loss: 0.6349 (0.6456)  loss_classifier: 0.2227 (0.2253)  loss_box_reg: 0.2902 (0.2993)  loss_objectness: 0.0311 (0.0387)  loss_rpn_box_reg: 0.0614 (0.0823)  time: 7.6537  data: 6.1980  max mem: 11520\n",
      "Epoch: [2]  [160/324]  eta: 0:20:42  lr: 0.010000  loss: 0.6140 (0.6438)  loss_classifier: 0.2130 (0.2244)  loss_box_reg: 0.3044 (0.2992)  loss_objectness: 0.0302 (0.0382)  loss_rpn_box_reg: 0.0834 (0.0821)  time: 7.7326  data: 6.2762  max mem: 11520\n",
      "Epoch: [2]  [180/324]  eta: 0:18:11  lr: 0.010000  loss: 0.6457 (0.6428)  loss_classifier: 0.2240 (0.2238)  loss_box_reg: 0.3059 (0.2996)  loss_objectness: 0.0280 (0.0374)  loss_rpn_box_reg: 0.0793 (0.0820)  time: 7.6342  data: 6.1789  max mem: 11520\n",
      "Epoch: [2]  [200/324]  eta: 0:15:38  lr: 0.010000  loss: 0.5905 (0.6412)  loss_classifier: 0.2001 (0.2227)  loss_box_reg: 0.3008 (0.2995)  loss_objectness: 0.0301 (0.0373)  loss_rpn_box_reg: 0.0771 (0.0818)  time: 7.4349  data: 5.9784  max mem: 11520\n",
      "Epoch: [2]  [220/324]  eta: 0:13:05  lr: 0.010000  loss: 0.6008 (0.6364)  loss_classifier: 0.1994 (0.2206)  loss_box_reg: 0.2743 (0.2973)  loss_objectness: 0.0252 (0.0364)  loss_rpn_box_reg: 0.0853 (0.0822)  time: 7.3920  data: 5.9353  max mem: 11520\n",
      "Epoch: [2]  [240/324]  eta: 0:10:33  lr: 0.010000  loss: 0.5944 (0.6333)  loss_classifier: 0.2030 (0.2194)  loss_box_reg: 0.2933 (0.2970)  loss_objectness: 0.0246 (0.0357)  loss_rpn_box_reg: 0.0555 (0.0812)  time: 7.4866  data: 6.0299  max mem: 11520\n",
      "Epoch: [2]  [260/324]  eta: 0:08:02  lr: 0.010000  loss: 0.5327 (0.6286)  loss_classifier: 0.1863 (0.2177)  loss_box_reg: 0.2766 (0.2961)  loss_objectness: 0.0226 (0.0351)  loss_rpn_box_reg: 0.0525 (0.0798)  time: 7.5323  data: 6.0761  max mem: 11520\n",
      "Epoch: [2]  [280/324]  eta: 0:05:32  lr: 0.010000  loss: 0.5947 (0.6285)  loss_classifier: 0.1984 (0.2169)  loss_box_reg: 0.2863 (0.2956)  loss_objectness: 0.0303 (0.0349)  loss_rpn_box_reg: 0.0787 (0.0811)  time: 7.5587  data: 6.1015  max mem: 11520\n",
      "Epoch: [2]  [300/324]  eta: 0:03:00  lr: 0.010000  loss: 0.5781 (0.6254)  loss_classifier: 0.1939 (0.2158)  loss_box_reg: 0.2755 (0.2946)  loss_objectness: 0.0243 (0.0343)  loss_rpn_box_reg: 0.0736 (0.0807)  time: 7.4058  data: 5.9484  max mem: 11520\n",
      "Epoch: [2]  [320/324]  eta: 0:00:30  lr: 0.010000  loss: 0.5770 (0.6235)  loss_classifier: 0.2006 (0.2152)  loss_box_reg: 0.2904 (0.2942)  loss_objectness: 0.0249 (0.0339)  loss_rpn_box_reg: 0.0719 (0.0802)  time: 7.6333  data: 6.1778  max mem: 11520\n"
     ]
    },
    {
     "name": "stderr",
     "output_type": "stream",
     "text": [
      "2025-01-14 10:17:22,185 - INFO - Evaluating on validation set...\n"
     ]
    },
    {
     "name": "stdout",
     "output_type": "stream",
     "text": [
      "Epoch: [2]  [323/324]  eta: 0:00:07  lr: 0.010000  loss: 0.5770 (0.6238)  loss_classifier: 0.2007 (0.2153)  loss_box_reg: 0.2887 (0.2943)  loss_objectness: 0.0244 (0.0339)  loss_rpn_box_reg: 0.0687 (0.0803)  time: 7.5243  data: 6.0727  max mem: 11520\n",
      "Epoch: [2] Total time: 0:40:44 (7.5445 s / it)\n",
      "creating index...\n",
      "index created!\n",
      "Test:  [ 0/81]  eta: 0:07:19  model_time: 0.7064 (0.7064)  evaluator_time: 0.0647 (0.0647)  time: 5.4275  data: 4.6372  max mem: 11520\n",
      "Test:  [80/81]  eta: 0:00:06  model_time: 0.6904 (0.6925)  evaluator_time: 0.0754 (0.0743)  time: 6.0022  data: 5.2028  max mem: 11520\n",
      "Test: Total time: 0:08:59 (6.6550 s / it)\n",
      "Averaged stats: model_time: 0.6904 (0.6925)  evaluator_time: 0.0754 (0.0743)\n",
      "Accumulating evaluation results...\n"
     ]
    },
    {
     "name": "stderr",
     "output_type": "stream",
     "text": [
      "2025-01-14 10:34:26,509 - INFO - Validation metrics after epoch 3: <coco_eval.CocoEvaluator object at 0x7be8e2c7e7a0>\n",
      "2025-01-14 10:34:26,510 - INFO - Starting epoch 4/10\n"
     ]
    },
    {
     "name": "stdout",
     "output_type": "stream",
     "text": [
      "DONE (t=1.73s).\n",
      "IoU metric: bbox\n",
      " Average Precision  (AP) @[ IoU=0.50:0.95 | area=   all | maxDets=100 ] = 0.240\n",
      " Average Precision  (AP) @[ IoU=0.50      | area=   all | maxDets=100 ] = 0.458\n",
      " Average Precision  (AP) @[ IoU=0.75      | area=   all | maxDets=100 ] = 0.234\n",
      " Average Precision  (AP) @[ IoU=0.50:0.95 | area= small | maxDets=100 ] = 0.105\n",
      " Average Precision  (AP) @[ IoU=0.50:0.95 | area=medium | maxDets=100 ] = 0.261\n",
      " Average Precision  (AP) @[ IoU=0.50:0.95 | area= large | maxDets=100 ] = 0.306\n",
      " Average Recall     (AR) @[ IoU=0.50:0.95 | area=   all | maxDets=  1 ] = 0.233\n",
      " Average Recall     (AR) @[ IoU=0.50:0.95 | area=   all | maxDets= 10 ] = 0.392\n",
      " Average Recall     (AR) @[ IoU=0.50:0.95 | area=   all | maxDets=100 ] = 0.398\n",
      " Average Recall     (AR) @[ IoU=0.50:0.95 | area= small | maxDets=100 ] = 0.185\n",
      " Average Recall     (AR) @[ IoU=0.50:0.95 | area=medium | maxDets=100 ] = 0.419\n",
      " Average Recall     (AR) @[ IoU=0.50:0.95 | area= large | maxDets=100 ] = 0.518\n",
      "Epoch: [3]  [  0/324]  eta: 0:34:26  lr: 0.010000  loss: 0.5942 (0.5942)  loss_classifier: 0.2256 (0.2256)  loss_box_reg: 0.2788 (0.2788)  loss_objectness: 0.0211 (0.0211)  loss_rpn_box_reg: 0.0687 (0.0687)  time: 6.3768  data: 4.9235  max mem: 11520\n",
      "Epoch: [3]  [ 20/324]  eta: 0:34:25  lr: 0.010000  loss: 0.6054 (0.6025)  loss_classifier: 0.2085 (0.2085)  loss_box_reg: 0.2839 (0.2836)  loss_objectness: 0.0277 (0.0288)  loss_rpn_box_reg: 0.0802 (0.0816)  time: 6.8137  data: 5.3567  max mem: 11520\n",
      "Epoch: [3]  [ 40/324]  eta: 0:31:44  lr: 0.010000  loss: 0.5566 (0.5824)  loss_classifier: 0.1846 (0.1981)  loss_box_reg: 0.2747 (0.2788)  loss_objectness: 0.0253 (0.0272)  loss_rpn_box_reg: 0.0712 (0.0782)  time: 6.6144  data: 5.1567  max mem: 11520\n",
      "Epoch: [3]  [ 60/324]  eta: 0:29:11  lr: 0.010000  loss: 0.5209 (0.5653)  loss_classifier: 0.1794 (0.1924)  loss_box_reg: 0.2683 (0.2747)  loss_objectness: 0.0185 (0.0255)  loss_rpn_box_reg: 0.0656 (0.0727)  time: 6.4854  data: 5.0295  max mem: 11520\n",
      "Epoch: [3]  [ 80/324]  eta: 0:26:59  lr: 0.010000  loss: 0.5523 (0.5697)  loss_classifier: 0.1940 (0.1932)  loss_box_reg: 0.2755 (0.2755)  loss_objectness: 0.0257 (0.0261)  loss_rpn_box_reg: 0.0736 (0.0749)  time: 6.6432  data: 5.1866  max mem: 11520\n",
      "Epoch: [3]  [100/324]  eta: 0:24:52  lr: 0.010000  loss: 0.5947 (0.5726)  loss_classifier: 0.1858 (0.1931)  loss_box_reg: 0.2824 (0.2776)  loss_objectness: 0.0222 (0.0259)  loss_rpn_box_reg: 0.0766 (0.0760)  time: 6.7778  data: 5.3200  max mem: 11520\n",
      "Epoch: [3]  [120/324]  eta: 0:22:29  lr: 0.010000  loss: 0.5242 (0.5679)  loss_classifier: 0.1751 (0.1922)  loss_box_reg: 0.2660 (0.2758)  loss_objectness: 0.0207 (0.0253)  loss_rpn_box_reg: 0.0631 (0.0746)  time: 6.3696  data: 4.9124  max mem: 11520\n",
      "Epoch: [3]  [140/324]  eta: 0:20:14  lr: 0.010000  loss: 0.5553 (0.5679)  loss_classifier: 0.1854 (0.1915)  loss_box_reg: 0.2672 (0.2747)  loss_objectness: 0.0243 (0.0259)  loss_rpn_box_reg: 0.0810 (0.0759)  time: 6.5253  data: 5.0686  max mem: 11520\n",
      "Epoch: [3]  [160/324]  eta: 0:18:02  lr: 0.010000  loss: 0.5280 (0.5641)  loss_classifier: 0.1753 (0.1903)  loss_box_reg: 0.2712 (0.2739)  loss_objectness: 0.0183 (0.0254)  loss_rpn_box_reg: 0.0556 (0.0745)  time: 6.5675  data: 5.1102  max mem: 11520\n",
      "Epoch: [3]  [180/324]  eta: 0:15:51  lr: 0.010000  loss: 0.5249 (0.5629)  loss_classifier: 0.1862 (0.1898)  loss_box_reg: 0.2627 (0.2732)  loss_objectness: 0.0210 (0.0251)  loss_rpn_box_reg: 0.0798 (0.0748)  time: 6.6764  data: 5.2182  max mem: 11520\n",
      "Epoch: [3]  [200/324]  eta: 0:13:39  lr: 0.010000  loss: 0.5166 (0.5605)  loss_classifier: 0.1825 (0.1893)  loss_box_reg: 0.2672 (0.2734)  loss_objectness: 0.0183 (0.0246)  loss_rpn_box_reg: 0.0547 (0.0732)  time: 6.6389  data: 5.1807  max mem: 11520\n",
      "Epoch: [3]  [220/324]  eta: 0:11:27  lr: 0.010000  loss: 0.5175 (0.5583)  loss_classifier: 0.1751 (0.1884)  loss_box_reg: 0.2577 (0.2726)  loss_objectness: 0.0174 (0.0242)  loss_rpn_box_reg: 0.0593 (0.0731)  time: 6.6016  data: 5.1454  max mem: 11520\n",
      "Epoch: [3]  [240/324]  eta: 0:09:12  lr: 0.010000  loss: 0.5367 (0.5570)  loss_classifier: 0.1821 (0.1879)  loss_box_reg: 0.2717 (0.2724)  loss_objectness: 0.0182 (0.0239)  loss_rpn_box_reg: 0.0627 (0.0728)  time: 6.2784  data: 4.8208  max mem: 11520\n",
      "Epoch: [3]  [260/324]  eta: 0:07:00  lr: 0.010000  loss: 0.5370 (0.5563)  loss_classifier: 0.1828 (0.1877)  loss_box_reg: 0.2694 (0.2721)  loss_objectness: 0.0229 (0.0242)  loss_rpn_box_reg: 0.0600 (0.0724)  time: 6.4631  data: 5.0055  max mem: 11520\n",
      "Epoch: [3]  [280/324]  eta: 0:04:48  lr: 0.010000  loss: 0.5456 (0.5565)  loss_classifier: 0.1812 (0.1873)  loss_box_reg: 0.2639 (0.2718)  loss_objectness: 0.0240 (0.0243)  loss_rpn_box_reg: 0.0815 (0.0732)  time: 6.4785  data: 5.0222  max mem: 11520\n",
      "Epoch: [3]  [300/324]  eta: 0:02:37  lr: 0.010000  loss: 0.5130 (0.5549)  loss_classifier: 0.1773 (0.1864)  loss_box_reg: 0.2577 (0.2708)  loss_objectness: 0.0192 (0.0242)  loss_rpn_box_reg: 0.0713 (0.0735)  time: 6.5577  data: 5.1020  max mem: 11520\n",
      "Epoch: [3]  [320/324]  eta: 0:00:26  lr: 0.010000  loss: 0.5015 (0.5533)  loss_classifier: 0.1701 (0.1856)  loss_box_reg: 0.2623 (0.2702)  loss_objectness: 0.0188 (0.0240)  loss_rpn_box_reg: 0.0500 (0.0735)  time: 6.4231  data: 4.9668  max mem: 11520\n"
     ]
    },
    {
     "name": "stderr",
     "output_type": "stream",
     "text": [
      "2025-01-14 11:09:49,987 - INFO - Evaluating on validation set...\n"
     ]
    },
    {
     "name": "stdout",
     "output_type": "stream",
     "text": [
      "Epoch: [3]  [323/324]  eta: 0:00:06  lr: 0.010000  loss: 0.4940 (0.5528)  loss_classifier: 0.1626 (0.1854)  loss_box_reg: 0.2572 (0.2701)  loss_objectness: 0.0188 (0.0239)  loss_rpn_box_reg: 0.0500 (0.0735)  time: 6.4619  data: 5.0088  max mem: 11520\n",
      "Epoch: [3] Total time: 0:35:23 (6.5539 s / it)\n",
      "creating index...\n",
      "index created!\n",
      "Test:  [ 0/81]  eta: 0:06:29  model_time: 0.7092 (0.7092)  evaluator_time: 0.0506 (0.0506)  time: 4.8125  data: 4.0331  max mem: 11520\n",
      "Test:  [80/81]  eta: 0:00:06  model_time: 0.6913 (0.6925)  evaluator_time: 0.0591 (0.0581)  time: 6.7266  data: 5.9422  max mem: 11520\n",
      "Test: Total time: 0:08:14 (6.1082 s / it)\n",
      "Averaged stats: model_time: 0.6913 (0.6925)  evaluator_time: 0.0591 (0.0581)\n",
      "Accumulating evaluation results...\n"
     ]
    },
    {
     "name": "stderr",
     "output_type": "stream",
     "text": [
      "2025-01-14 11:24:55,683 - INFO - Validation metrics after epoch 4: <coco_eval.CocoEvaluator object at 0x7be827ce9240>\n",
      "2025-01-14 11:24:55,685 - INFO - Starting epoch 5/10\n"
     ]
    },
    {
     "name": "stdout",
     "output_type": "stream",
     "text": [
      "DONE (t=1.23s).\n",
      "IoU metric: bbox\n",
      " Average Precision  (AP) @[ IoU=0.50:0.95 | area=   all | maxDets=100 ] = 0.262\n",
      " Average Precision  (AP) @[ IoU=0.50      | area=   all | maxDets=100 ] = 0.479\n",
      " Average Precision  (AP) @[ IoU=0.75      | area=   all | maxDets=100 ] = 0.254\n",
      " Average Precision  (AP) @[ IoU=0.50:0.95 | area= small | maxDets=100 ] = 0.110\n",
      " Average Precision  (AP) @[ IoU=0.50:0.95 | area=medium | maxDets=100 ] = 0.285\n",
      " Average Precision  (AP) @[ IoU=0.50:0.95 | area= large | maxDets=100 ] = 0.313\n",
      " Average Recall     (AR) @[ IoU=0.50:0.95 | area=   all | maxDets=  1 ] = 0.246\n",
      " Average Recall     (AR) @[ IoU=0.50:0.95 | area=   all | maxDets= 10 ] = 0.392\n",
      " Average Recall     (AR) @[ IoU=0.50:0.95 | area=   all | maxDets=100 ] = 0.394\n",
      " Average Recall     (AR) @[ IoU=0.50:0.95 | area= small | maxDets=100 ] = 0.180\n",
      " Average Recall     (AR) @[ IoU=0.50:0.95 | area=medium | maxDets=100 ] = 0.407\n",
      " Average Recall     (AR) @[ IoU=0.50:0.95 | area= large | maxDets=100 ] = 0.514\n",
      "Epoch: [4]  [  0/324]  eta: 0:36:31  lr: 0.010000  loss: 0.4633 (0.4633)  loss_classifier: 0.1537 (0.1537)  loss_box_reg: 0.2415 (0.2415)  loss_objectness: 0.0123 (0.0123)  loss_rpn_box_reg: 0.0557 (0.0557)  time: 6.7650  data: 5.3116  max mem: 11520\n",
      "Epoch: [4]  [ 20/324]  eta: 0:37:18  lr: 0.010000  loss: 0.5099 (0.5185)  loss_classifier: 0.1657 (0.1707)  loss_box_reg: 0.2614 (0.2661)  loss_objectness: 0.0170 (0.0184)  loss_rpn_box_reg: 0.0565 (0.0632)  time: 7.3926  data: 5.9350  max mem: 11520\n",
      "Epoch: [4]  [ 40/324]  eta: 0:34:37  lr: 0.010000  loss: 0.5329 (0.5340)  loss_classifier: 0.1711 (0.1740)  loss_box_reg: 0.2573 (0.2625)  loss_objectness: 0.0241 (0.0258)  loss_rpn_box_reg: 0.0763 (0.0717)  time: 7.2654  data: 5.8036  max mem: 11520\n",
      "Epoch: [4]  [ 60/324]  eta: 0:32:57  lr: 0.010000  loss: 0.5234 (0.5327)  loss_classifier: 0.1681 (0.1742)  loss_box_reg: 0.2588 (0.2641)  loss_objectness: 0.0221 (0.0250)  loss_rpn_box_reg: 0.0596 (0.0694)  time: 7.8529  data: 6.3962  max mem: 11520\n",
      "Epoch: [4]  [ 80/324]  eta: 0:30:24  lr: 0.010000  loss: 0.5077 (0.5300)  loss_classifier: 0.1714 (0.1741)  loss_box_reg: 0.2500 (0.2616)  loss_objectness: 0.0197 (0.0247)  loss_rpn_box_reg: 0.0613 (0.0696)  time: 7.4355  data: 5.9800  max mem: 11520\n",
      "Epoch: [4]  [100/324]  eta: 0:27:42  lr: 0.010000  loss: 0.4962 (0.5261)  loss_classifier: 0.1681 (0.1729)  loss_box_reg: 0.2548 (0.2602)  loss_objectness: 0.0198 (0.0241)  loss_rpn_box_reg: 0.0635 (0.0689)  time: 7.1981  data: 5.7414  max mem: 11520\n",
      "Epoch: [4]  [120/324]  eta: 0:25:09  lr: 0.010000  loss: 0.5079 (0.5230)  loss_classifier: 0.1654 (0.1722)  loss_box_reg: 0.2519 (0.2595)  loss_objectness: 0.0225 (0.0239)  loss_rpn_box_reg: 0.0584 (0.0674)  time: 7.2748  data: 5.8176  max mem: 11520\n",
      "Epoch: [4]  [140/324]  eta: 0:22:41  lr: 0.010000  loss: 0.5037 (0.5235)  loss_classifier: 0.1670 (0.1721)  loss_box_reg: 0.2496 (0.2593)  loss_objectness: 0.0186 (0.0238)  loss_rpn_box_reg: 0.0713 (0.0684)  time: 7.4095  data: 5.9528  max mem: 11520\n",
      "Epoch: [4]  [160/324]  eta: 0:20:17  lr: 0.010000  loss: 0.5230 (0.5216)  loss_classifier: 0.1664 (0.1719)  loss_box_reg: 0.2551 (0.2581)  loss_objectness: 0.0187 (0.0236)  loss_rpn_box_reg: 0.0625 (0.0679)  time: 7.5701  data: 6.1133  max mem: 11520\n",
      "Epoch: [4]  [180/324]  eta: 0:17:46  lr: 0.010000  loss: 0.4554 (0.5168)  loss_classifier: 0.1519 (0.1699)  loss_box_reg: 0.2424 (0.2562)  loss_objectness: 0.0169 (0.0229)  loss_rpn_box_reg: 0.0602 (0.0678)  time: 7.3117  data: 5.8559  max mem: 11520\n",
      "Epoch: [4]  [200/324]  eta: 0:15:14  lr: 0.010000  loss: 0.4844 (0.5151)  loss_classifier: 0.1639 (0.1693)  loss_box_reg: 0.2464 (0.2556)  loss_objectness: 0.0189 (0.0230)  loss_rpn_box_reg: 0.0578 (0.0671)  time: 7.0610  data: 5.6047  max mem: 11520\n",
      "Epoch: [4]  [220/324]  eta: 0:12:48  lr: 0.010000  loss: 0.5113 (0.5137)  loss_classifier: 0.1663 (0.1689)  loss_box_reg: 0.2516 (0.2550)  loss_objectness: 0.0165 (0.0227)  loss_rpn_box_reg: 0.0639 (0.0671)  time: 7.4911  data: 6.0339  max mem: 11520\n",
      "Epoch: [4]  [240/324]  eta: 0:10:20  lr: 0.010000  loss: 0.5220 (0.5135)  loss_classifier: 0.1651 (0.1685)  loss_box_reg: 0.2422 (0.2545)  loss_objectness: 0.0200 (0.0227)  loss_rpn_box_reg: 0.0706 (0.0678)  time: 7.3888  data: 5.9323  max mem: 11520\n",
      "Epoch: [4]  [260/324]  eta: 0:07:51  lr: 0.010000  loss: 0.4802 (0.5118)  loss_classifier: 0.1584 (0.1676)  loss_box_reg: 0.2441 (0.2536)  loss_objectness: 0.0163 (0.0225)  loss_rpn_box_reg: 0.0675 (0.0681)  time: 7.2248  data: 5.7662  max mem: 11520\n",
      "Epoch: [4]  [280/324]  eta: 0:05:24  lr: 0.010000  loss: 0.4949 (0.5110)  loss_classifier: 0.1547 (0.1668)  loss_box_reg: 0.2295 (0.2528)  loss_objectness: 0.0187 (0.0229)  loss_rpn_box_reg: 0.0672 (0.0685)  time: 7.5496  data: 6.0922  max mem: 11520\n",
      "Epoch: [4]  [300/324]  eta: 0:02:57  lr: 0.010000  loss: 0.4931 (0.5106)  loss_classifier: 0.1633 (0.1670)  loss_box_reg: 0.2508 (0.2526)  loss_objectness: 0.0197 (0.0227)  loss_rpn_box_reg: 0.0575 (0.0684)  time: 7.6266  data: 6.1687  max mem: 11520\n",
      "Epoch: [4]  [320/324]  eta: 0:00:29  lr: 0.010000  loss: 0.5020 (0.5103)  loss_classifier: 0.1667 (0.1671)  loss_box_reg: 0.2433 (0.2524)  loss_objectness: 0.0178 (0.0225)  loss_rpn_box_reg: 0.0706 (0.0684)  time: 7.4409  data: 5.9840  max mem: 11520\n"
     ]
    },
    {
     "name": "stderr",
     "output_type": "stream",
     "text": [
      "2025-01-14 12:04:54,087 - INFO - Evaluating on validation set...\n"
     ]
    },
    {
     "name": "stdout",
     "output_type": "stream",
     "text": [
      "Epoch: [4]  [323/324]  eta: 0:00:07  lr: 0.010000  loss: 0.5020 (0.5103)  loss_classifier: 0.1631 (0.1669)  loss_box_reg: 0.2469 (0.2525)  loss_objectness: 0.0171 (0.0225)  loss_rpn_box_reg: 0.0706 (0.0684)  time: 7.4111  data: 5.9580  max mem: 11520\n",
      "Epoch: [4] Total time: 0:39:58 (7.4025 s / it)\n",
      "creating index...\n",
      "index created!\n",
      "Test:  [ 0/81]  eta: 0:07:13  model_time: 0.7047 (0.7047)  evaluator_time: 0.0443 (0.0443)  time: 5.3489  data: 4.5816  max mem: 11520\n",
      "Test:  [80/81]  eta: 0:00:06  model_time: 0.6895 (0.6921)  evaluator_time: 0.0504 (0.0526)  time: 7.1377  data: 6.3615  max mem: 11520\n",
      "Test: Total time: 0:09:13 (6.8317 s / it)\n",
      "Averaged stats: model_time: 0.6895 (0.6921)  evaluator_time: 0.0504 (0.0526)\n",
      "Accumulating evaluation results...\n"
     ]
    },
    {
     "name": "stderr",
     "output_type": "stream",
     "text": [
      "2025-01-14 12:22:08,487 - INFO - Validation metrics after epoch 5: <coco_eval.CocoEvaluator object at 0x7be8e2c7e7a0>\n",
      "2025-01-14 12:22:08,488 - INFO - Starting epoch 6/10\n"
     ]
    },
    {
     "name": "stdout",
     "output_type": "stream",
     "text": [
      "DONE (t=1.04s).\n",
      "IoU metric: bbox\n",
      " Average Precision  (AP) @[ IoU=0.50:0.95 | area=   all | maxDets=100 ] = 0.259\n",
      " Average Precision  (AP) @[ IoU=0.50      | area=   all | maxDets=100 ] = 0.481\n",
      " Average Precision  (AP) @[ IoU=0.75      | area=   all | maxDets=100 ] = 0.251\n",
      " Average Precision  (AP) @[ IoU=0.50:0.95 | area= small | maxDets=100 ] = 0.106\n",
      " Average Precision  (AP) @[ IoU=0.50:0.95 | area=medium | maxDets=100 ] = 0.284\n",
      " Average Precision  (AP) @[ IoU=0.50:0.95 | area= large | maxDets=100 ] = 0.338\n",
      " Average Recall     (AR) @[ IoU=0.50:0.95 | area=   all | maxDets=  1 ] = 0.243\n",
      " Average Recall     (AR) @[ IoU=0.50:0.95 | area=   all | maxDets= 10 ] = 0.379\n",
      " Average Recall     (AR) @[ IoU=0.50:0.95 | area=   all | maxDets=100 ] = 0.381\n",
      " Average Recall     (AR) @[ IoU=0.50:0.95 | area= small | maxDets=100 ] = 0.160\n",
      " Average Recall     (AR) @[ IoU=0.50:0.95 | area=medium | maxDets=100 ] = 0.392\n",
      " Average Recall     (AR) @[ IoU=0.50:0.95 | area= large | maxDets=100 ] = 0.506\n",
      "Epoch: [5]  [  0/324]  eta: 0:39:23  lr: 0.010000  loss: 0.5445 (0.5445)  loss_classifier: 0.1972 (0.1972)  loss_box_reg: 0.2500 (0.2500)  loss_objectness: 0.0262 (0.0262)  loss_rpn_box_reg: 0.0710 (0.0710)  time: 7.2941  data: 5.8415  max mem: 11520\n",
      "Epoch: [5]  [ 20/324]  eta: 0:36:30  lr: 0.010000  loss: 0.4422 (0.4575)  loss_classifier: 0.1467 (0.1485)  loss_box_reg: 0.2312 (0.2341)  loss_objectness: 0.0142 (0.0172)  loss_rpn_box_reg: 0.0458 (0.0577)  time: 7.1996  data: 5.7413  max mem: 11520\n",
      "Epoch: [5]  [ 40/324]  eta: 0:34:54  lr: 0.010000  loss: 0.4659 (0.4637)  loss_classifier: 0.1530 (0.1532)  loss_box_reg: 0.2339 (0.2351)  loss_objectness: 0.0141 (0.0169)  loss_rpn_box_reg: 0.0615 (0.0584)  time: 7.5580  data: 6.1014  max mem: 11520\n",
      "Epoch: [5]  [ 60/324]  eta: 0:32:11  lr: 0.010000  loss: 0.4481 (0.4568)  loss_classifier: 0.1353 (0.1485)  loss_box_reg: 0.2244 (0.2333)  loss_objectness: 0.0153 (0.0167)  loss_rpn_box_reg: 0.0519 (0.0583)  time: 7.1900  data: 5.7345  max mem: 11520\n",
      "Epoch: [5]  [ 80/324]  eta: 0:30:04  lr: 0.010000  loss: 0.4595 (0.4572)  loss_classifier: 0.1513 (0.1489)  loss_box_reg: 0.2383 (0.2344)  loss_objectness: 0.0129 (0.0165)  loss_rpn_box_reg: 0.0469 (0.0574)  time: 7.6328  data: 6.1744  max mem: 11520\n",
      "Epoch: [5]  [100/324]  eta: 0:27:50  lr: 0.010000  loss: 0.4476 (0.4564)  loss_classifier: 0.1396 (0.1479)  loss_box_reg: 0.2377 (0.2345)  loss_objectness: 0.0121 (0.0160)  loss_rpn_box_reg: 0.0545 (0.0580)  time: 7.7125  data: 6.2534  max mem: 11520\n",
      "Epoch: [5]  [120/324]  eta: 0:25:28  lr: 0.010000  loss: 0.4839 (0.4616)  loss_classifier: 0.1480 (0.1482)  loss_box_reg: 0.2252 (0.2345)  loss_objectness: 0.0189 (0.0169)  loss_rpn_box_reg: 0.0804 (0.0620)  time: 7.6654  data: 6.2071  max mem: 11520\n",
      "Epoch: [5]  [140/324]  eta: 0:23:06  lr: 0.010000  loss: 0.4511 (0.4625)  loss_classifier: 0.1416 (0.1480)  loss_box_reg: 0.2315 (0.2346)  loss_objectness: 0.0137 (0.0166)  loss_rpn_box_reg: 0.0656 (0.0632)  time: 7.8104  data: 6.3539  max mem: 11520\n",
      "Epoch: [5]  [160/324]  eta: 0:20:42  lr: 0.010000  loss: 0.4817 (0.4665)  loss_classifier: 0.1525 (0.1496)  loss_box_reg: 0.2379 (0.2360)  loss_objectness: 0.0140 (0.0164)  loss_rpn_box_reg: 0.0726 (0.0645)  time: 7.8561  data: 6.3994  max mem: 11520\n",
      "Epoch: [5]  [180/324]  eta: 0:18:13  lr: 0.010000  loss: 0.4023 (0.4607)  loss_classifier: 0.1295 (0.1478)  loss_box_reg: 0.2183 (0.2343)  loss_objectness: 0.0111 (0.0159)  loss_rpn_box_reg: 0.0455 (0.0627)  time: 7.7550  data: 6.2983  max mem: 11520\n",
      "Epoch: [5]  [200/324]  eta: 0:15:41  lr: 0.010000  loss: 0.4577 (0.4617)  loss_classifier: 0.1407 (0.1477)  loss_box_reg: 0.2361 (0.2349)  loss_objectness: 0.0122 (0.0163)  loss_rpn_box_reg: 0.0475 (0.0628)  time: 7.5618  data: 6.1036  max mem: 11520\n",
      "Epoch: [5]  [220/324]  eta: 0:13:09  lr: 0.010000  loss: 0.4350 (0.4605)  loss_classifier: 0.1356 (0.1470)  loss_box_reg: 0.2131 (0.2339)  loss_objectness: 0.0161 (0.0167)  loss_rpn_box_reg: 0.0718 (0.0630)  time: 7.6242  data: 6.1689  max mem: 11520\n",
      "Epoch: [5]  [240/324]  eta: 0:10:37  lr: 0.010000  loss: 0.4499 (0.4598)  loss_classifier: 0.1427 (0.1465)  loss_box_reg: 0.2376 (0.2337)  loss_objectness: 0.0151 (0.0167)  loss_rpn_box_reg: 0.0584 (0.0629)  time: 7.4676  data: 6.0123  max mem: 11520\n",
      "Epoch: [5]  [260/324]  eta: 0:08:04  lr: 0.010000  loss: 0.4293 (0.4578)  loss_classifier: 0.1264 (0.1456)  loss_box_reg: 0.2170 (0.2325)  loss_objectness: 0.0147 (0.0170)  loss_rpn_box_reg: 0.0607 (0.0627)  time: 7.3025  data: 5.8483  max mem: 11520\n",
      "Epoch: [5]  [280/324]  eta: 0:05:33  lr: 0.010000  loss: 0.4585 (0.4583)  loss_classifier: 0.1474 (0.1458)  loss_box_reg: 0.2336 (0.2324)  loss_objectness: 0.0140 (0.0171)  loss_rpn_box_reg: 0.0594 (0.0630)  time: 7.8373  data: 6.3798  max mem: 11520\n",
      "Epoch: [5]  [300/324]  eta: 0:03:01  lr: 0.010000  loss: 0.4327 (0.4578)  loss_classifier: 0.1441 (0.1459)  loss_box_reg: 0.2276 (0.2323)  loss_objectness: 0.0149 (0.0170)  loss_rpn_box_reg: 0.0484 (0.0626)  time: 7.4818  data: 6.0257  max mem: 11520\n",
      "Epoch: [5]  [320/324]  eta: 0:00:30  lr: 0.010000  loss: 0.4299 (0.4571)  loss_classifier: 0.1406 (0.1456)  loss_box_reg: 0.2247 (0.2320)  loss_objectness: 0.0126 (0.0170)  loss_rpn_box_reg: 0.0566 (0.0625)  time: 7.7061  data: 6.2504  max mem: 11520\n"
     ]
    },
    {
     "name": "stderr",
     "output_type": "stream",
     "text": [
      "2025-01-14 13:03:04,529 - INFO - Evaluating on validation set...\n"
     ]
    },
    {
     "name": "stdout",
     "output_type": "stream",
     "text": [
      "Epoch: [5]  [323/324]  eta: 0:00:07  lr: 0.010000  loss: 0.4300 (0.4571)  loss_classifier: 0.1447 (0.1456)  loss_box_reg: 0.2253 (0.2320)  loss_objectness: 0.0139 (0.0170)  loss_rpn_box_reg: 0.0566 (0.0625)  time: 7.6414  data: 6.1890  max mem: 11520\n",
      "Epoch: [5] Total time: 0:40:56 (7.5804 s / it)\n",
      "creating index...\n",
      "index created!\n",
      "Test:  [ 0/81]  eta: 0:07:31  model_time: 0.6972 (0.6972)  evaluator_time: 0.0530 (0.0530)  time: 5.5752  data: 4.8065  max mem: 11520\n",
      "Test:  [80/81]  eta: 0:00:06  model_time: 0.6900 (0.6923)  evaluator_time: 0.0527 (0.0517)  time: 7.2259  data: 6.4576  max mem: 11520\n",
      "Test: Total time: 0:09:22 (6.9395 s / it)\n",
      "Averaged stats: model_time: 0.6900 (0.6923)  evaluator_time: 0.0527 (0.0517)\n",
      "Accumulating evaluation results...\n"
     ]
    },
    {
     "name": "stderr",
     "output_type": "stream",
     "text": [
      "2025-01-14 13:20:44,939 - INFO - Validation metrics after epoch 6: <coco_eval.CocoEvaluator object at 0x7be827cf1f00>\n",
      "2025-01-14 13:20:44,941 - INFO - Starting epoch 7/10\n"
     ]
    },
    {
     "name": "stdout",
     "output_type": "stream",
     "text": [
      "DONE (t=1.21s).\n",
      "IoU metric: bbox\n",
      " Average Precision  (AP) @[ IoU=0.50:0.95 | area=   all | maxDets=100 ] = 0.273\n",
      " Average Precision  (AP) @[ IoU=0.50      | area=   all | maxDets=100 ] = 0.496\n",
      " Average Precision  (AP) @[ IoU=0.75      | area=   all | maxDets=100 ] = 0.272\n",
      " Average Precision  (AP) @[ IoU=0.50:0.95 | area= small | maxDets=100 ] = 0.110\n",
      " Average Precision  (AP) @[ IoU=0.50:0.95 | area=medium | maxDets=100 ] = 0.278\n",
      " Average Precision  (AP) @[ IoU=0.50:0.95 | area= large | maxDets=100 ] = 0.365\n",
      " Average Recall     (AR) @[ IoU=0.50:0.95 | area=   all | maxDets=  1 ] = 0.255\n",
      " Average Recall     (AR) @[ IoU=0.50:0.95 | area=   all | maxDets= 10 ] = 0.392\n",
      " Average Recall     (AR) @[ IoU=0.50:0.95 | area=   all | maxDets=100 ] = 0.395\n",
      " Average Recall     (AR) @[ IoU=0.50:0.95 | area= small | maxDets=100 ] = 0.182\n",
      " Average Recall     (AR) @[ IoU=0.50:0.95 | area=medium | maxDets=100 ] = 0.393\n",
      " Average Recall     (AR) @[ IoU=0.50:0.95 | area= large | maxDets=100 ] = 0.515\n",
      "Epoch: [6]  [  0/324]  eta: 0:40:18  lr: 0.010000  loss: 0.4849 (0.4849)  loss_classifier: 0.1490 (0.1490)  loss_box_reg: 0.2485 (0.2485)  loss_objectness: 0.0170 (0.0170)  loss_rpn_box_reg: 0.0704 (0.0704)  time: 7.4630  data: 6.0055  max mem: 11520\n",
      "Epoch: [6]  [ 20/324]  eta: 0:37:34  lr: 0.010000  loss: 0.4409 (0.4500)  loss_classifier: 0.1388 (0.1434)  loss_box_reg: 0.2222 (0.2299)  loss_objectness: 0.0134 (0.0151)  loss_rpn_box_reg: 0.0557 (0.0615)  time: 7.4144  data: 5.9561  max mem: 11520\n",
      "Epoch: [6]  [ 40/324]  eta: 0:35:35  lr: 0.010000  loss: 0.4165 (0.4375)  loss_classifier: 0.1285 (0.1387)  loss_box_reg: 0.2183 (0.2242)  loss_objectness: 0.0127 (0.0142)  loss_rpn_box_reg: 0.0564 (0.0604)  time: 7.6238  data: 6.1670  max mem: 11520\n",
      "Epoch: [6]  [ 60/324]  eta: 0:33:22  lr: 0.010000  loss: 0.3881 (0.4337)  loss_classifier: 0.1232 (0.1367)  loss_box_reg: 0.2101 (0.2223)  loss_objectness: 0.0124 (0.0154)  loss_rpn_box_reg: 0.0530 (0.0593)  time: 7.7268  data: 6.2687  max mem: 11520\n",
      "Epoch: [6]  [ 80/324]  eta: 0:30:59  lr: 0.010000  loss: 0.4445 (0.4377)  loss_classifier: 0.1377 (0.1371)  loss_box_reg: 0.2268 (0.2230)  loss_objectness: 0.0133 (0.0161)  loss_rpn_box_reg: 0.0674 (0.0615)  time: 7.7336  data: 6.2759  max mem: 11520\n",
      "Epoch: [6]  [100/324]  eta: 0:28:26  lr: 0.010000  loss: 0.4329 (0.4370)  loss_classifier: 0.1254 (0.1361)  loss_box_reg: 0.2249 (0.2232)  loss_objectness: 0.0136 (0.0159)  loss_rpn_box_reg: 0.0572 (0.0617)  time: 7.5917  data: 6.1353  max mem: 11520\n",
      "Epoch: [6]  [120/324]  eta: 0:25:59  lr: 0.010000  loss: 0.4174 (0.4359)  loss_classifier: 0.1315 (0.1361)  loss_box_reg: 0.2132 (0.2228)  loss_objectness: 0.0126 (0.0156)  loss_rpn_box_reg: 0.0558 (0.0614)  time: 7.7902  data: 6.3334  max mem: 11520\n",
      "Epoch: [6]  [140/324]  eta: 0:23:30  lr: 0.010000  loss: 0.4289 (0.4340)  loss_classifier: 0.1285 (0.1356)  loss_box_reg: 0.2126 (0.2214)  loss_objectness: 0.0127 (0.0154)  loss_rpn_box_reg: 0.0510 (0.0616)  time: 7.8069  data: 6.3496  max mem: 11520\n",
      "Epoch: [6]  [160/324]  eta: 0:20:57  lr: 0.010000  loss: 0.4127 (0.4344)  loss_classifier: 0.1345 (0.1357)  loss_box_reg: 0.2110 (0.2207)  loss_objectness: 0.0144 (0.0155)  loss_rpn_box_reg: 0.0653 (0.0625)  time: 7.6818  data: 6.2228  max mem: 11520\n",
      "Epoch: [6]  [180/324]  eta: 0:18:26  lr: 0.010000  loss: 0.4270 (0.4332)  loss_classifier: 0.1231 (0.1353)  loss_box_reg: 0.2106 (0.2198)  loss_objectness: 0.0120 (0.0153)  loss_rpn_box_reg: 0.0623 (0.0628)  time: 7.7988  data: 6.3417  max mem: 11520\n",
      "Epoch: [6]  [200/324]  eta: 0:15:51  lr: 0.010000  loss: 0.4000 (0.4320)  loss_classifier: 0.1281 (0.1352)  loss_box_reg: 0.2217 (0.2198)  loss_objectness: 0.0121 (0.0150)  loss_rpn_box_reg: 0.0484 (0.0620)  time: 7.5875  data: 6.1308  max mem: 11520\n",
      "Epoch: [6]  [220/324]  eta: 0:13:17  lr: 0.010000  loss: 0.4140 (0.4304)  loss_classifier: 0.1269 (0.1347)  loss_box_reg: 0.2226 (0.2196)  loss_objectness: 0.0107 (0.0149)  loss_rpn_box_reg: 0.0493 (0.0612)  time: 7.5629  data: 6.1043  max mem: 11520\n",
      "Epoch: [6]  [240/324]  eta: 0:10:42  lr: 0.010000  loss: 0.4305 (0.4318)  loss_classifier: 0.1387 (0.1350)  loss_box_reg: 0.2285 (0.2203)  loss_objectness: 0.0146 (0.0150)  loss_rpn_box_reg: 0.0615 (0.0615)  time: 7.4686  data: 6.0096  max mem: 11520\n",
      "Epoch: [6]  [260/324]  eta: 0:08:08  lr: 0.010000  loss: 0.4314 (0.4307)  loss_classifier: 0.1274 (0.1347)  loss_box_reg: 0.2058 (0.2198)  loss_objectness: 0.0134 (0.0149)  loss_rpn_box_reg: 0.0552 (0.0614)  time: 7.4250  data: 5.9669  max mem: 11520\n",
      "Epoch: [6]  [280/324]  eta: 0:05:35  lr: 0.010000  loss: 0.4006 (0.4298)  loss_classifier: 0.1298 (0.1344)  loss_box_reg: 0.2103 (0.2192)  loss_objectness: 0.0127 (0.0148)  loss_rpn_box_reg: 0.0523 (0.0613)  time: 7.6931  data: 6.2343  max mem: 11520\n",
      "Epoch: [6]  [300/324]  eta: 0:03:03  lr: 0.010000  loss: 0.4094 (0.4288)  loss_classifier: 0.1257 (0.1342)  loss_box_reg: 0.2101 (0.2188)  loss_objectness: 0.0118 (0.0149)  loss_rpn_box_reg: 0.0599 (0.0609)  time: 7.7463  data: 6.2880  max mem: 11520\n",
      "Epoch: [6]  [320/324]  eta: 0:00:30  lr: 0.010000  loss: 0.3876 (0.4273)  loss_classifier: 0.1220 (0.1337)  loss_box_reg: 0.2025 (0.2180)  loss_objectness: 0.0115 (0.0149)  loss_rpn_box_reg: 0.0497 (0.0607)  time: 7.6500  data: 6.1942  max mem: 11520\n"
     ]
    },
    {
     "name": "stderr",
     "output_type": "stream",
     "text": [
      "2025-01-14 14:02:01,187 - INFO - Evaluating on validation set...\n"
     ]
    },
    {
     "name": "stdout",
     "output_type": "stream",
     "text": [
      "Epoch: [6]  [323/324]  eta: 0:00:07  lr: 0.010000  loss: 0.3950 (0.4272)  loss_classifier: 0.1232 (0.1337)  loss_box_reg: 0.2068 (0.2180)  loss_objectness: 0.0118 (0.0149)  loss_rpn_box_reg: 0.0498 (0.0606)  time: 7.6487  data: 6.1958  max mem: 11520\n",
      "Epoch: [6] Total time: 0:41:16 (7.6427 s / it)\n",
      "creating index...\n",
      "index created!\n",
      "Test:  [ 0/81]  eta: 0:07:30  model_time: 0.7028 (0.7028)  evaluator_time: 0.0473 (0.0473)  time: 5.5587  data: 4.7902  max mem: 11520\n",
      "Test:  [80/81]  eta: 0:00:06  model_time: 0.6909 (0.6923)  evaluator_time: 0.0499 (0.0467)  time: 7.2625  data: 6.4992  max mem: 11520\n",
      "Test: Total time: 0:09:24 (6.9728 s / it)\n",
      "Averaged stats: model_time: 0.6909 (0.6923)  evaluator_time: 0.0499 (0.0467)\n",
      "Accumulating evaluation results...\n"
     ]
    },
    {
     "name": "stderr",
     "output_type": "stream",
     "text": [
      "2025-01-14 14:19:46,663 - INFO - Validation metrics after epoch 7: <coco_eval.CocoEvaluator object at 0x7be8241c99f0>\n",
      "2025-01-14 14:19:46,664 - INFO - Starting epoch 8/10\n"
     ]
    },
    {
     "name": "stdout",
     "output_type": "stream",
     "text": [
      "DONE (t=1.06s).\n",
      "IoU metric: bbox\n",
      " Average Precision  (AP) @[ IoU=0.50:0.95 | area=   all | maxDets=100 ] = 0.273\n",
      " Average Precision  (AP) @[ IoU=0.50      | area=   all | maxDets=100 ] = 0.491\n",
      " Average Precision  (AP) @[ IoU=0.75      | area=   all | maxDets=100 ] = 0.280\n",
      " Average Precision  (AP) @[ IoU=0.50:0.95 | area= small | maxDets=100 ] = 0.113\n",
      " Average Precision  (AP) @[ IoU=0.50:0.95 | area=medium | maxDets=100 ] = 0.291\n",
      " Average Precision  (AP) @[ IoU=0.50:0.95 | area= large | maxDets=100 ] = 0.362\n",
      " Average Recall     (AR) @[ IoU=0.50:0.95 | area=   all | maxDets=  1 ] = 0.249\n",
      " Average Recall     (AR) @[ IoU=0.50:0.95 | area=   all | maxDets= 10 ] = 0.387\n",
      " Average Recall     (AR) @[ IoU=0.50:0.95 | area=   all | maxDets=100 ] = 0.389\n",
      " Average Recall     (AR) @[ IoU=0.50:0.95 | area= small | maxDets=100 ] = 0.178\n",
      " Average Recall     (AR) @[ IoU=0.50:0.95 | area=medium | maxDets=100 ] = 0.387\n",
      " Average Recall     (AR) @[ IoU=0.50:0.95 | area= large | maxDets=100 ] = 0.522\n",
      "Epoch: [7]  [  0/324]  eta: 0:49:32  lr: 0.010000  loss: 0.3793 (0.3793)  loss_classifier: 0.1087 (0.1087)  loss_box_reg: 0.1904 (0.1904)  loss_objectness: 0.0087 (0.0087)  loss_rpn_box_reg: 0.0714 (0.0714)  time: 9.1747  data: 7.7218  max mem: 11520\n",
      "Epoch: [7]  [ 20/324]  eta: 0:37:39  lr: 0.010000  loss: 0.3756 (0.4010)  loss_classifier: 0.1230 (0.1242)  loss_box_reg: 0.2026 (0.2066)  loss_objectness: 0.0118 (0.0136)  loss_rpn_box_reg: 0.0469 (0.0566)  time: 7.3467  data: 5.8907  max mem: 11520\n",
      "Epoch: [7]  [ 40/324]  eta: 0:35:31  lr: 0.010000  loss: 0.4076 (0.4051)  loss_classifier: 0.1233 (0.1255)  loss_box_reg: 0.2126 (0.2112)  loss_objectness: 0.0112 (0.0131)  loss_rpn_box_reg: 0.0550 (0.0552)  time: 7.5796  data: 6.1224  max mem: 11520\n",
      "Epoch: [7]  [ 60/324]  eta: 0:33:08  lr: 0.010000  loss: 0.3978 (0.4021)  loss_classifier: 0.1226 (0.1246)  loss_box_reg: 0.1979 (0.2074)  loss_objectness: 0.0105 (0.0126)  loss_rpn_box_reg: 0.0630 (0.0574)  time: 7.5827  data: 6.1251  max mem: 11520\n",
      "Epoch: [7]  [ 80/324]  eta: 0:30:46  lr: 0.010000  loss: 0.3874 (0.4012)  loss_classifier: 0.1228 (0.1246)  loss_box_reg: 0.2000 (0.2061)  loss_objectness: 0.0107 (0.0124)  loss_rpn_box_reg: 0.0569 (0.0581)  time: 7.6819  data: 6.2240  max mem: 11520\n",
      "Epoch: [7]  [100/324]  eta: 0:28:10  lr: 0.010000  loss: 0.4176 (0.4043)  loss_classifier: 0.1272 (0.1255)  loss_box_reg: 0.2104 (0.2074)  loss_objectness: 0.0118 (0.0125)  loss_rpn_box_reg: 0.0568 (0.0589)  time: 7.4627  data: 6.0041  max mem: 11520\n",
      "Epoch: [7]  [120/324]  eta: 0:25:37  lr: 0.010000  loss: 0.3844 (0.4025)  loss_classifier: 0.1188 (0.1249)  loss_box_reg: 0.2003 (0.2066)  loss_objectness: 0.0109 (0.0124)  loss_rpn_box_reg: 0.0598 (0.0586)  time: 7.4983  data: 6.0401  max mem: 11520\n",
      "Epoch: [7]  [140/324]  eta: 0:23:06  lr: 0.010000  loss: 0.3849 (0.4022)  loss_classifier: 0.1202 (0.1248)  loss_box_reg: 0.2049 (0.2071)  loss_objectness: 0.0109 (0.0124)  loss_rpn_box_reg: 0.0566 (0.0579)  time: 7.5036  data: 6.0445  max mem: 11520\n",
      "Epoch: [7]  [160/324]  eta: 0:20:33  lr: 0.010000  loss: 0.3827 (0.4011)  loss_classifier: 0.1179 (0.1245)  loss_box_reg: 0.1998 (0.2070)  loss_objectness: 0.0117 (0.0124)  loss_rpn_box_reg: 0.0484 (0.0572)  time: 7.4466  data: 5.9894  max mem: 11520\n",
      "Epoch: [7]  [180/324]  eta: 0:18:02  lr: 0.010000  loss: 0.4163 (0.4025)  loss_classifier: 0.1212 (0.1247)  loss_box_reg: 0.2090 (0.2075)  loss_objectness: 0.0127 (0.0124)  loss_rpn_box_reg: 0.0571 (0.0579)  time: 7.4645  data: 6.0059  max mem: 11520\n",
      "Epoch: [7]  [200/324]  eta: 0:15:31  lr: 0.010000  loss: 0.3680 (0.3993)  loss_classifier: 0.1107 (0.1233)  loss_box_reg: 0.1962 (0.2064)  loss_objectness: 0.0096 (0.0122)  loss_rpn_box_reg: 0.0441 (0.0574)  time: 7.4914  data: 6.0330  max mem: 11520\n",
      "Epoch: [7]  [220/324]  eta: 0:13:02  lr: 0.010000  loss: 0.3983 (0.4007)  loss_classifier: 0.1207 (0.1235)  loss_box_reg: 0.1993 (0.2066)  loss_objectness: 0.0138 (0.0125)  loss_rpn_box_reg: 0.0635 (0.0581)  time: 7.6194  data: 6.1612  max mem: 11520\n",
      "Epoch: [7]  [240/324]  eta: 0:10:32  lr: 0.010000  loss: 0.4159 (0.4006)  loss_classifier: 0.1180 (0.1232)  loss_box_reg: 0.2077 (0.2066)  loss_objectness: 0.0104 (0.0125)  loss_rpn_box_reg: 0.0556 (0.0584)  time: 7.5420  data: 6.0850  max mem: 11520\n",
      "Epoch: [7]  [260/324]  eta: 0:08:03  lr: 0.010000  loss: 0.3925 (0.4013)  loss_classifier: 0.1212 (0.1235)  loss_box_reg: 0.2083 (0.2073)  loss_objectness: 0.0091 (0.0124)  loss_rpn_box_reg: 0.0546 (0.0581)  time: 7.8185  data: 6.3624  max mem: 11520\n",
      "Epoch: [7]  [280/324]  eta: 0:05:32  lr: 0.010000  loss: 0.3701 (0.3991)  loss_classifier: 0.1142 (0.1230)  loss_box_reg: 0.1958 (0.2068)  loss_objectness: 0.0083 (0.0122)  loss_rpn_box_reg: 0.0428 (0.0571)  time: 7.5567  data: 6.0993  max mem: 11520\n",
      "Epoch: [7]  [300/324]  eta: 0:03:01  lr: 0.010000  loss: 0.3637 (0.3977)  loss_classifier: 0.1126 (0.1226)  loss_box_reg: 0.2025 (0.2066)  loss_objectness: 0.0091 (0.0121)  loss_rpn_box_reg: 0.0453 (0.0565)  time: 7.8136  data: 6.3548  max mem: 11520\n",
      "Epoch: [7]  [320/324]  eta: 0:00:30  lr: 0.010000  loss: 0.3857 (0.3970)  loss_classifier: 0.1114 (0.1222)  loss_box_reg: 0.1983 (0.2061)  loss_objectness: 0.0107 (0.0120)  loss_rpn_box_reg: 0.0558 (0.0568)  time: 7.4213  data: 5.9647  max mem: 11520\n"
     ]
    },
    {
     "name": "stderr",
     "output_type": "stream",
     "text": [
      "2025-01-14 15:00:35,089 - INFO - Evaluating on validation set...\n"
     ]
    },
    {
     "name": "stdout",
     "output_type": "stream",
     "text": [
      "Epoch: [7]  [323/324]  eta: 0:00:07  lr: 0.010000  loss: 0.3857 (0.3968)  loss_classifier: 0.1114 (0.1221)  loss_box_reg: 0.2012 (0.2060)  loss_objectness: 0.0109 (0.0120)  loss_rpn_box_reg: 0.0549 (0.0567)  time: 7.4766  data: 6.0243  max mem: 11520\n",
      "Epoch: [7] Total time: 0:40:48 (7.5569 s / it)\n",
      "creating index...\n",
      "index created!\n",
      "Test:  [ 0/81]  eta: 0:07:25  model_time: 0.7078 (0.7078)  evaluator_time: 0.0469 (0.0469)  time: 5.4984  data: 4.7250  max mem: 11520\n",
      "Test:  [80/81]  eta: 0:00:07  model_time: 0.6892 (0.6917)  evaluator_time: 0.0497 (0.0546)  time: 7.4154  data: 6.6504  max mem: 11520\n",
      "Test: Total time: 0:09:32 (7.0685 s / it)\n",
      "Averaged stats: model_time: 0.6892 (0.6917)  evaluator_time: 0.0497 (0.0546)\n",
      "Accumulating evaluation results...\n"
     ]
    },
    {
     "name": "stderr",
     "output_type": "stream",
     "text": [
      "2025-01-14 15:18:18,508 - INFO - Validation metrics after epoch 8: <coco_eval.CocoEvaluator object at 0x7be9024ae6b0>\n",
      "2025-01-14 15:18:18,509 - INFO - Starting epoch 9/10\n"
     ]
    },
    {
     "name": "stdout",
     "output_type": "stream",
     "text": [
      "DONE (t=1.08s).\n",
      "IoU metric: bbox\n",
      " Average Precision  (AP) @[ IoU=0.50:0.95 | area=   all | maxDets=100 ] = 0.276\n",
      " Average Precision  (AP) @[ IoU=0.50      | area=   all | maxDets=100 ] = 0.501\n",
      " Average Precision  (AP) @[ IoU=0.75      | area=   all | maxDets=100 ] = 0.272\n",
      " Average Precision  (AP) @[ IoU=0.50:0.95 | area= small | maxDets=100 ] = 0.109\n",
      " Average Precision  (AP) @[ IoU=0.50:0.95 | area=medium | maxDets=100 ] = 0.286\n",
      " Average Precision  (AP) @[ IoU=0.50:0.95 | area= large | maxDets=100 ] = 0.363\n",
      " Average Recall     (AR) @[ IoU=0.50:0.95 | area=   all | maxDets=  1 ] = 0.252\n",
      " Average Recall     (AR) @[ IoU=0.50:0.95 | area=   all | maxDets= 10 ] = 0.389\n",
      " Average Recall     (AR) @[ IoU=0.50:0.95 | area=   all | maxDets=100 ] = 0.391\n",
      " Average Recall     (AR) @[ IoU=0.50:0.95 | area= small | maxDets=100 ] = 0.180\n",
      " Average Recall     (AR) @[ IoU=0.50:0.95 | area=medium | maxDets=100 ] = 0.384\n",
      " Average Recall     (AR) @[ IoU=0.50:0.95 | area= large | maxDets=100 ] = 0.500\n",
      "Epoch: [8]  [  0/324]  eta: 0:44:03  lr: 0.010000  loss: 0.3991 (0.3991)  loss_classifier: 0.1201 (0.1201)  loss_box_reg: 0.2063 (0.2063)  loss_objectness: 0.0096 (0.0096)  loss_rpn_box_reg: 0.0631 (0.0631)  time: 8.1594  data: 6.7069  max mem: 11520\n",
      "Epoch: [8]  [ 20/324]  eta: 0:40:58  lr: 0.010000  loss: 0.3537 (0.3554)  loss_classifier: 0.1054 (0.1103)  loss_box_reg: 0.1918 (0.1864)  loss_objectness: 0.0074 (0.0100)  loss_rpn_box_reg: 0.0336 (0.0487)  time: 8.0836  data: 6.6269  max mem: 11520\n",
      "Epoch: [8]  [ 40/324]  eta: 0:37:44  lr: 0.010000  loss: 0.4054 (0.3797)  loss_classifier: 0.1245 (0.1166)  loss_box_reg: 0.2066 (0.1951)  loss_objectness: 0.0115 (0.0116)  loss_rpn_box_reg: 0.0642 (0.0564)  time: 7.8551  data: 6.3968  max mem: 11520\n",
      "Epoch: [8]  [ 60/324]  eta: 0:34:48  lr: 0.010000  loss: 0.3632 (0.3762)  loss_classifier: 0.1084 (0.1151)  loss_box_reg: 0.1938 (0.1948)  loss_objectness: 0.0089 (0.0111)  loss_rpn_box_reg: 0.0490 (0.0552)  time: 7.7853  data: 6.3274  max mem: 11520\n",
      "Epoch: [8]  [ 80/324]  eta: 0:31:59  lr: 0.010000  loss: 0.3834 (0.3771)  loss_classifier: 0.1060 (0.1149)  loss_box_reg: 0.1879 (0.1936)  loss_objectness: 0.0111 (0.0115)  loss_rpn_box_reg: 0.0595 (0.0571)  time: 7.7328  data: 6.2758  max mem: 11520\n",
      "Epoch: [8]  [100/324]  eta: 0:29:15  lr: 0.010000  loss: 0.3550 (0.3731)  loss_classifier: 0.1023 (0.1136)  loss_box_reg: 0.1764 (0.1921)  loss_objectness: 0.0103 (0.0115)  loss_rpn_box_reg: 0.0466 (0.0559)  time: 7.7031  data: 6.2473  max mem: 11520\n",
      "Epoch: [8]  [120/324]  eta: 0:26:33  lr: 0.010000  loss: 0.3625 (0.3721)  loss_classifier: 0.1078 (0.1138)  loss_box_reg: 0.1969 (0.1920)  loss_objectness: 0.0082 (0.0113)  loss_rpn_box_reg: 0.0471 (0.0550)  time: 7.7028  data: 6.2461  max mem: 11520\n",
      "Epoch: [8]  [140/324]  eta: 0:23:52  lr: 0.010000  loss: 0.3678 (0.3737)  loss_classifier: 0.1103 (0.1139)  loss_box_reg: 0.1926 (0.1925)  loss_objectness: 0.0118 (0.0116)  loss_rpn_box_reg: 0.0468 (0.0557)  time: 7.6141  data: 6.1557  max mem: 11520\n",
      "Epoch: [8]  [160/324]  eta: 0:21:23  lr: 0.010000  loss: 0.3261 (0.3705)  loss_classifier: 0.1041 (0.1130)  loss_box_reg: 0.1823 (0.1924)  loss_objectness: 0.0086 (0.0114)  loss_rpn_box_reg: 0.0339 (0.0538)  time: 8.1231  data: 6.6654  max mem: 11520\n",
      "Epoch: [8]  [180/324]  eta: 0:18:51  lr: 0.010000  loss: 0.3831 (0.3712)  loss_classifier: 0.1107 (0.1133)  loss_box_reg: 0.1962 (0.1929)  loss_objectness: 0.0101 (0.0113)  loss_rpn_box_reg: 0.0509 (0.0536)  time: 8.1071  data: 6.6498  max mem: 11520\n",
      "Epoch: [8]  [200/324]  eta: 0:16:13  lr: 0.010000  loss: 0.3576 (0.3695)  loss_classifier: 0.1044 (0.1125)  loss_box_reg: 0.1876 (0.1922)  loss_objectness: 0.0110 (0.0113)  loss_rpn_box_reg: 0.0454 (0.0534)  time: 7.8112  data: 6.3548  max mem: 11520\n",
      "Epoch: [8]  [220/324]  eta: 0:13:35  lr: 0.010000  loss: 0.3872 (0.3704)  loss_classifier: 0.1104 (0.1125)  loss_box_reg: 0.1997 (0.1929)  loss_objectness: 0.0110 (0.0113)  loss_rpn_box_reg: 0.0542 (0.0538)  time: 7.7692  data: 6.3108  max mem: 11520\n",
      "Epoch: [8]  [240/324]  eta: 0:10:59  lr: 0.010000  loss: 0.3751 (0.3718)  loss_classifier: 0.1146 (0.1127)  loss_box_reg: 0.2044 (0.1940)  loss_objectness: 0.0114 (0.0114)  loss_rpn_box_reg: 0.0492 (0.0537)  time: 7.9439  data: 6.4857  max mem: 11520\n",
      "Epoch: [8]  [260/324]  eta: 0:08:21  lr: 0.010000  loss: 0.3478 (0.3713)  loss_classifier: 0.1078 (0.1127)  loss_box_reg: 0.1841 (0.1934)  loss_objectness: 0.0111 (0.0114)  loss_rpn_box_reg: 0.0491 (0.0538)  time: 7.5867  data: 6.1305  max mem: 11520\n",
      "Epoch: [8]  [280/324]  eta: 0:05:45  lr: 0.010000  loss: 0.3747 (0.3709)  loss_classifier: 0.1093 (0.1124)  loss_box_reg: 0.1847 (0.1932)  loss_objectness: 0.0102 (0.0113)  loss_rpn_box_reg: 0.0539 (0.0539)  time: 8.2290  data: 6.7702  max mem: 11520\n",
      "Epoch: [8]  [300/324]  eta: 0:03:08  lr: 0.010000  loss: 0.3423 (0.3693)  loss_classifier: 0.1067 (0.1120)  loss_box_reg: 0.1875 (0.1926)  loss_objectness: 0.0084 (0.0112)  loss_rpn_box_reg: 0.0469 (0.0535)  time: 7.7500  data: 6.2912  max mem: 11520\n",
      "Epoch: [8]  [320/324]  eta: 0:00:31  lr: 0.010000  loss: 0.3547 (0.3680)  loss_classifier: 0.1071 (0.1115)  loss_box_reg: 0.1842 (0.1923)  loss_objectness: 0.0081 (0.0110)  loss_rpn_box_reg: 0.0455 (0.0532)  time: 7.9918  data: 6.5351  max mem: 11520\n"
     ]
    },
    {
     "name": "stderr",
     "output_type": "stream",
     "text": [
      "2025-01-14 16:00:46,765 - INFO - Evaluating on validation set...\n"
     ]
    },
    {
     "name": "stdout",
     "output_type": "stream",
     "text": [
      "Epoch: [8]  [323/324]  eta: 0:00:07  lr: 0.010000  loss: 0.3581 (0.3683)  loss_classifier: 0.1098 (0.1115)  loss_box_reg: 0.1922 (0.1924)  loss_objectness: 0.0088 (0.0110)  loss_rpn_box_reg: 0.0489 (0.0534)  time: 8.0608  data: 6.6072  max mem: 11520\n",
      "Epoch: [8] Total time: 0:42:28 (7.8650 s / it)\n",
      "creating index...\n",
      "index created!\n",
      "Test:  [ 0/81]  eta: 0:07:45  model_time: 0.6976 (0.6976)  evaluator_time: 0.0483 (0.0483)  time: 5.7416  data: 4.9771  max mem: 11520\n",
      "Test:  [80/81]  eta: 0:00:07  model_time: 0.6909 (0.6919)  evaluator_time: 0.0491 (0.0491)  time: 7.3844  data: 6.6220  max mem: 11520\n",
      "Test: Total time: 0:09:38 (7.1399 s / it)\n",
      "Averaged stats: model_time: 0.6909 (0.6919)  evaluator_time: 0.0491 (0.0491)\n",
      "Accumulating evaluation results...\n"
     ]
    },
    {
     "name": "stderr",
     "output_type": "stream",
     "text": [
      "2025-01-14 16:19:04,243 - INFO - Validation metrics after epoch 9: <coco_eval.CocoEvaluator object at 0x7be827cf1f00>\n",
      "2025-01-14 16:19:04,245 - INFO - Starting epoch 10/10\n"
     ]
    },
    {
     "name": "stdout",
     "output_type": "stream",
     "text": [
      "DONE (t=1.10s).\n",
      "IoU metric: bbox\n",
      " Average Precision  (AP) @[ IoU=0.50:0.95 | area=   all | maxDets=100 ] = 0.279\n",
      " Average Precision  (AP) @[ IoU=0.50      | area=   all | maxDets=100 ] = 0.494\n",
      " Average Precision  (AP) @[ IoU=0.75      | area=   all | maxDets=100 ] = 0.284\n",
      " Average Precision  (AP) @[ IoU=0.50:0.95 | area= small | maxDets=100 ] = 0.113\n",
      " Average Precision  (AP) @[ IoU=0.50:0.95 | area=medium | maxDets=100 ] = 0.286\n",
      " Average Precision  (AP) @[ IoU=0.50:0.95 | area= large | maxDets=100 ] = 0.364\n",
      " Average Recall     (AR) @[ IoU=0.50:0.95 | area=   all | maxDets=  1 ] = 0.247\n",
      " Average Recall     (AR) @[ IoU=0.50:0.95 | area=   all | maxDets= 10 ] = 0.392\n",
      " Average Recall     (AR) @[ IoU=0.50:0.95 | area=   all | maxDets=100 ] = 0.393\n",
      " Average Recall     (AR) @[ IoU=0.50:0.95 | area= small | maxDets=100 ] = 0.172\n",
      " Average Recall     (AR) @[ IoU=0.50:0.95 | area=medium | maxDets=100 ] = 0.393\n",
      " Average Recall     (AR) @[ IoU=0.50:0.95 | area= large | maxDets=100 ] = 0.522\n",
      "Epoch: [9]  [  0/324]  eta: 0:36:10  lr: 0.010000  loss: 0.3436 (0.3436)  loss_classifier: 0.0981 (0.0981)  loss_box_reg: 0.2027 (0.2027)  loss_objectness: 0.0056 (0.0056)  loss_rpn_box_reg: 0.0371 (0.0371)  time: 6.6983  data: 5.2409  max mem: 11520\n",
      "Epoch: [9]  [ 20/324]  eta: 0:38:30  lr: 0.010000  loss: 0.3449 (0.3643)  loss_classifier: 0.1080 (0.1093)  loss_box_reg: 0.1895 (0.1936)  loss_objectness: 0.0076 (0.0098)  loss_rpn_box_reg: 0.0483 (0.0515)  time: 7.6470  data: 6.1883  max mem: 11520\n",
      "Epoch: [9]  [ 40/324]  eta: 0:36:15  lr: 0.010000  loss: 0.3838 (0.3704)  loss_classifier: 0.1092 (0.1099)  loss_box_reg: 0.1939 (0.1936)  loss_objectness: 0.0078 (0.0103)  loss_rpn_box_reg: 0.0655 (0.0566)  time: 7.7190  data: 6.2613  max mem: 11520\n",
      "Epoch: [9]  [ 60/324]  eta: 0:33:43  lr: 0.010000  loss: 0.3666 (0.3686)  loss_classifier: 0.1041 (0.1093)  loss_box_reg: 0.1905 (0.1930)  loss_objectness: 0.0082 (0.0099)  loss_rpn_box_reg: 0.0478 (0.0565)  time: 7.6738  data: 6.2156  max mem: 11520\n",
      "Epoch: [9]  [ 80/324]  eta: 0:31:26  lr: 0.010000  loss: 0.3382 (0.3647)  loss_classifier: 0.1056 (0.1089)  loss_box_reg: 0.1795 (0.1915)  loss_objectness: 0.0086 (0.0097)  loss_rpn_box_reg: 0.0438 (0.0546)  time: 7.9369  data: 6.4782  max mem: 11520\n",
      "Epoch: [9]  [100/324]  eta: 0:28:52  lr: 0.010000  loss: 0.3865 (0.3703)  loss_classifier: 0.1163 (0.1108)  loss_box_reg: 0.2042 (0.1933)  loss_objectness: 0.0112 (0.0103)  loss_rpn_box_reg: 0.0527 (0.0559)  time: 7.7425  data: 6.2831  max mem: 11520\n",
      "Epoch: [9]  [120/324]  eta: 0:26:10  lr: 0.010000  loss: 0.3393 (0.3661)  loss_classifier: 0.0987 (0.1094)  loss_box_reg: 0.1804 (0.1916)  loss_objectness: 0.0077 (0.0099)  loss_rpn_box_reg: 0.0499 (0.0552)  time: 7.5319  data: 6.0722  max mem: 11520\n",
      "Epoch: [9]  [140/324]  eta: 0:23:39  lr: 0.010000  loss: 0.3431 (0.3643)  loss_classifier: 0.1066 (0.1089)  loss_box_reg: 0.1859 (0.1909)  loss_objectness: 0.0094 (0.0100)  loss_rpn_box_reg: 0.0491 (0.0545)  time: 7.7998  data: 6.3403  max mem: 11520\n",
      "Epoch: [9]  [160/324]  eta: 0:21:07  lr: 0.010000  loss: 0.3435 (0.3631)  loss_classifier: 0.1011 (0.1089)  loss_box_reg: 0.1802 (0.1904)  loss_objectness: 0.0085 (0.0101)  loss_rpn_box_reg: 0.0408 (0.0537)  time: 7.8218  data: 6.3636  max mem: 11520\n",
      "Epoch: [9]  [180/324]  eta: 0:18:36  lr: 0.010000  loss: 0.3727 (0.3629)  loss_classifier: 0.1062 (0.1089)  loss_box_reg: 0.1853 (0.1899)  loss_objectness: 0.0084 (0.0101)  loss_rpn_box_reg: 0.0532 (0.0539)  time: 7.9682  data: 6.5079  max mem: 11520\n",
      "Epoch: [9]  [200/324]  eta: 0:16:02  lr: 0.010000  loss: 0.3368 (0.3609)  loss_classifier: 0.1000 (0.1083)  loss_box_reg: 0.1757 (0.1890)  loss_objectness: 0.0082 (0.0100)  loss_rpn_box_reg: 0.0496 (0.0537)  time: 7.8211  data: 6.3639  max mem: 11520\n",
      "Epoch: [9]  [220/324]  eta: 0:13:27  lr: 0.010000  loss: 0.3393 (0.3593)  loss_classifier: 0.1009 (0.1078)  loss_box_reg: 0.1725 (0.1882)  loss_objectness: 0.0087 (0.0099)  loss_rpn_box_reg: 0.0440 (0.0534)  time: 7.8109  data: 6.3530  max mem: 11520\n",
      "Epoch: [9]  [240/324]  eta: 0:10:52  lr: 0.010000  loss: 0.3583 (0.3601)  loss_classifier: 0.1110 (0.1081)  loss_box_reg: 0.1937 (0.1887)  loss_objectness: 0.0087 (0.0099)  loss_rpn_box_reg: 0.0596 (0.0534)  time: 7.7620  data: 6.3011  max mem: 11520\n",
      "Epoch: [9]  [260/324]  eta: 0:08:17  lr: 0.010000  loss: 0.3669 (0.3596)  loss_classifier: 0.1084 (0.1080)  loss_box_reg: 0.1977 (0.1888)  loss_objectness: 0.0083 (0.0098)  loss_rpn_box_reg: 0.0500 (0.0529)  time: 7.8024  data: 6.3448  max mem: 11520\n",
      "Epoch: [9]  [280/324]  eta: 0:05:42  lr: 0.010000  loss: 0.3486 (0.3593)  loss_classifier: 0.1080 (0.1081)  loss_box_reg: 0.1902 (0.1886)  loss_objectness: 0.0079 (0.0097)  loss_rpn_box_reg: 0.0438 (0.0528)  time: 7.9765  data: 6.5177  max mem: 11520\n",
      "Epoch: [9]  [300/324]  eta: 0:03:06  lr: 0.010000  loss: 0.3446 (0.3591)  loss_classifier: 0.1043 (0.1079)  loss_box_reg: 0.1833 (0.1885)  loss_objectness: 0.0084 (0.0098)  loss_rpn_box_reg: 0.0506 (0.0529)  time: 7.7756  data: 6.3181  max mem: 11520\n",
      "Epoch: [9]  [320/324]  eta: 0:00:31  lr: 0.010000  loss: 0.3566 (0.3593)  loss_classifier: 0.1122 (0.1079)  loss_box_reg: 0.1934 (0.1888)  loss_objectness: 0.0096 (0.0098)  loss_rpn_box_reg: 0.0412 (0.0527)  time: 8.0400  data: 6.5824  max mem: 11520\n"
     ]
    },
    {
     "name": "stderr",
     "output_type": "stream",
     "text": [
      "2025-01-14 17:01:10,632 - INFO - Evaluating on validation set...\n"
     ]
    },
    {
     "name": "stdout",
     "output_type": "stream",
     "text": [
      "Epoch: [9]  [323/324]  eta: 0:00:07  lr: 0.010000  loss: 0.3494 (0.3587)  loss_classifier: 0.1068 (0.1078)  loss_box_reg: 0.1919 (0.1887)  loss_objectness: 0.0080 (0.0097)  loss_rpn_box_reg: 0.0391 (0.0525)  time: 7.9495  data: 6.4954  max mem: 11520\n",
      "Epoch: [9] Total time: 0:42:06 (7.7975 s / it)\n",
      "creating index...\n",
      "index created!\n",
      "Test:  [ 0/81]  eta: 0:07:38  model_time: 0.7019 (0.7019)  evaluator_time: 0.0469 (0.0469)  time: 5.6630  data: 4.8954  max mem: 11520\n",
      "Test:  [80/81]  eta: 0:00:07  model_time: 0.6904 (0.6920)  evaluator_time: 0.0440 (0.0491)  time: 7.3495  data: 6.5904  max mem: 11520\n",
      "Test: Total time: 0:09:33 (7.0847 s / it)\n",
      "Averaged stats: model_time: 0.6904 (0.6920)  evaluator_time: 0.0440 (0.0491)\n",
      "Accumulating evaluation results...\n"
     ]
    },
    {
     "name": "stderr",
     "output_type": "stream",
     "text": [
      "2025-01-14 17:19:15,888 - INFO - Validation metrics after epoch 10: <coco_eval.CocoEvaluator object at 0x7be9024ae6b0>\n",
      "2025-01-14 17:19:15,889 - INFO - Evaluating on test set...\n"
     ]
    },
    {
     "name": "stdout",
     "output_type": "stream",
     "text": [
      "DONE (t=1.16s).\n",
      "IoU metric: bbox\n",
      " Average Precision  (AP) @[ IoU=0.50:0.95 | area=   all | maxDets=100 ] = 0.271\n",
      " Average Precision  (AP) @[ IoU=0.50      | area=   all | maxDets=100 ] = 0.494\n",
      " Average Precision  (AP) @[ IoU=0.75      | area=   all | maxDets=100 ] = 0.267\n",
      " Average Precision  (AP) @[ IoU=0.50:0.95 | area= small | maxDets=100 ] = 0.117\n",
      " Average Precision  (AP) @[ IoU=0.50:0.95 | area=medium | maxDets=100 ] = 0.281\n",
      " Average Precision  (AP) @[ IoU=0.50:0.95 | area= large | maxDets=100 ] = 0.333\n",
      " Average Recall     (AR) @[ IoU=0.50:0.95 | area=   all | maxDets=  1 ] = 0.241\n",
      " Average Recall     (AR) @[ IoU=0.50:0.95 | area=   all | maxDets= 10 ] = 0.364\n",
      " Average Recall     (AR) @[ IoU=0.50:0.95 | area=   all | maxDets=100 ] = 0.366\n",
      " Average Recall     (AR) @[ IoU=0.50:0.95 | area= small | maxDets=100 ] = 0.172\n",
      " Average Recall     (AR) @[ IoU=0.50:0.95 | area=medium | maxDets=100 ] = 0.373\n",
      " Average Recall     (AR) @[ IoU=0.50:0.95 | area= large | maxDets=100 ] = 0.428\n",
      "creating index...\n",
      "index created!\n",
      "Test:  [  0/102]  eta: 0:11:13  model_time: 0.7137 (0.7137)  evaluator_time: 0.0388 (0.0388)  time: 6.6027  data: 5.8313  max mem: 11520\n",
      "Test:  [100/102]  eta: 0:00:14  model_time: 0.6900 (0.6924)  evaluator_time: 0.0441 (0.0479)  time: 7.6327  data: 6.8761  max mem: 11520\n",
      "Test:  [101/102]  eta: 0:00:07  model_time: 0.6893 (0.6875)  evaluator_time: 0.0429 (0.0475)  time: 7.2442  data: 6.5153  max mem: 11520\n",
      "Test: Total time: 0:12:15 (7.2139 s / it)\n",
      "Averaged stats: model_time: 0.6893 (0.6875)  evaluator_time: 0.0429 (0.0475)\n",
      "Accumulating evaluation results...\n"
     ]
    },
    {
     "name": "stderr",
     "output_type": "stream",
     "text": [
      "2025-01-14 17:42:28,003 - INFO - Final evaluation metrics: <coco_eval.CocoEvaluator object at 0x7be827cf05b0>\n"
     ]
    },
    {
     "name": "stdout",
     "output_type": "stream",
     "text": [
      "DONE (t=1.15s).\n",
      "IoU metric: bbox\n",
      " Average Precision  (AP) @[ IoU=0.50:0.95 | area=   all | maxDets=100 ] = 0.271\n",
      " Average Precision  (AP) @[ IoU=0.50      | area=   all | maxDets=100 ] = 0.492\n",
      " Average Precision  (AP) @[ IoU=0.75      | area=   all | maxDets=100 ] = 0.265\n",
      " Average Precision  (AP) @[ IoU=0.50:0.95 | area= small | maxDets=100 ] = 0.103\n",
      " Average Precision  (AP) @[ IoU=0.50:0.95 | area=medium | maxDets=100 ] = 0.308\n",
      " Average Precision  (AP) @[ IoU=0.50:0.95 | area= large | maxDets=100 ] = 0.318\n",
      " Average Recall     (AR) @[ IoU=0.50:0.95 | area=   all | maxDets=  1 ] = 0.235\n",
      " Average Recall     (AR) @[ IoU=0.50:0.95 | area=   all | maxDets= 10 ] = 0.371\n",
      " Average Recall     (AR) @[ IoU=0.50:0.95 | area=   all | maxDets=100 ] = 0.373\n",
      " Average Recall     (AR) @[ IoU=0.50:0.95 | area= small | maxDets=100 ] = 0.182\n",
      " Average Recall     (AR) @[ IoU=0.50:0.95 | area=medium | maxDets=100 ] = 0.400\n",
      " Average Recall     (AR) @[ IoU=0.50:0.95 | area= large | maxDets=100 ] = 0.420\n",
      "<coco_eval.CocoEvaluator object at 0x7be827cf05b0>\n",
      "Model saved to /kaggle/working/models/fasterrcnn_model.pth\n"
     ]
    }
   ],
   "source": [
    "if __name__ == '__main__':\n",
    "    try:\n",
    "        data_dir = \"/kaggle/working/data\"\n",
    "        save_dir = \"/kaggle/working/models\"\n",
    "        if not os.path.exists(save_dir):\n",
    "            os.makedirs(save_dir)\n",
    "\n",
    "        num_epochs = 10\n",
    "\n",
    "        model, final_metrics = train_and_evaluate(data_dir, num_epochs, save_dir, sampling=True)\n",
    "\n",
    "    except Exception as e:\n",
    "        logger.error(f\"Program failed: {str(e)}\")\n",
    "        raise"
   ]
  }
 ],
 "metadata": {
  "kaggle": {
   "accelerator": "gpu",
   "dataSources": [
    {
     "datasetId": 5329058,
     "sourceId": 8853182,
     "sourceType": "datasetVersion"
    }
   ],
   "isGpuEnabled": true,
   "isInternetEnabled": true,
   "language": "python",
   "sourceType": "notebook"
  },
  "kernelspec": {
   "display_name": "Python 3",
   "language": "python",
   "name": "python3"
  },
  "language_info": {
   "codemirror_mode": {
    "name": "ipython",
    "version": 3
   },
   "file_extension": ".py",
   "mimetype": "text/x-python",
   "name": "python",
   "nbconvert_exporter": "python",
   "pygments_lexer": "ipython3",
   "version": "3.10.12"
  },
  "papermill": {
   "default_parameters": {},
   "duration": 39604.856033,
   "end_time": "2025-01-14T17:42:31.540770",
   "environment_variables": {},
   "exception": null,
   "input_path": "__notebook__.ipynb",
   "output_path": "__notebook__.ipynb",
   "parameters": {},
   "start_time": "2025-01-14T06:42:26.684737",
   "version": "2.6.0"
  }
 },
 "nbformat": 4,
 "nbformat_minor": 5
}
