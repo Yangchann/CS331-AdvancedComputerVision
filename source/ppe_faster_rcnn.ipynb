{
 "cells": [
  {
   "cell_type": "markdown",
   "id": "fe421c5a",
   "metadata": {},
   "source": [
    "#### **Clone Vision Utilities for Faster R-CNN Training**"
   ]
  },
  {
   "cell_type": "code",
   "execution_count": 1,
   "id": "6389c11b",
   "metadata": {
    "execution": {
     "iopub.execute_input": "2025-01-14T02:03:34.520789Z",
     "iopub.status.busy": "2025-01-14T02:03:34.520467Z",
     "iopub.status.idle": "2025-01-14T02:04:55.418985Z",
     "shell.execute_reply": "2025-01-14T02:04:55.417723Z"
    },
    "papermill": {
     "duration": 80.904315,
     "end_time": "2025-01-14T02:04:55.420713",
     "exception": false,
     "start_time": "2025-01-14T02:03:34.516398",
     "status": "completed"
    },
    "tags": []
   },
   "outputs": [
    {
     "name": "stdout",
     "output_type": "stream",
     "text": [
      "Cloning into 'vision'...\r\n",
      "remote: Enumerating objects: 591764, done.\u001b[K\r\n",
      "remote: Counting objects: 100% (2060/2060), done.\u001b[K\r\n",
      "remote: Compressing objects: 100% (949/949), done.\u001b[K\r\n",
      "remote: Total 591764 (delta 1811), reused 1170 (delta 1106), pack-reused 589704 (from 7)\u001b[K\r\n",
      "Receiving objects: 100% (591764/591764), 1.12 GiB | 44.96 MiB/s, done.\r\n",
      "Resolving deltas: 100% (552850/552850), done.\r\n",
      "fatal: not a git repository (or any parent up to mount point /kaggle)\r\n",
      "Stopping at filesystem boundary (GIT_DISCOVERY_ACROSS_FILESYSTEM not set).\r\n"
     ]
    }
   ],
   "source": [
    "!pip install pycocotools --quiet\n",
    "!git clone https://github.com/pytorch/vision.git\n",
    "!git checkout v0.3.0\n",
    "\n",
    "!cp vision/references/detection/utils.py ./\n",
    "\n",
    "!cp vision/references/detection/transforms.py ./\n",
    "!cp vision/references/detection/coco_eval.py ./\n",
    "!cp vision/references/detection/engine.py ./\n",
    "!cp vision/references/detection/coco_utils.py ./"
   ]
  },
  {
   "cell_type": "markdown",
   "id": "f6a12e54",
   "metadata": {},
   "source": [
    "#### **Import Required Libraries**"
   ]
  },
  {
   "cell_type": "code",
   "execution_count": 2,
   "id": "b37b5610",
   "metadata": {
    "execution": {
     "iopub.execute_input": "2025-01-14T02:04:55.450764Z",
     "iopub.status.busy": "2025-01-14T02:04:55.450489Z",
     "iopub.status.idle": "2025-01-14T02:05:02.227794Z",
     "shell.execute_reply": "2025-01-14T02:05:02.226754Z"
    },
    "papermill": {
     "duration": 6.793351,
     "end_time": "2025-01-14T02:05:02.229106",
     "exception": false,
     "start_time": "2025-01-14T02:04:55.435755",
     "status": "completed"
    },
    "tags": []
   },
   "outputs": [
    {
     "name": "stderr",
     "output_type": "stream",
     "text": [
      "/usr/local/lib/python3.10/dist-packages/albumentations/__init__.py:13: UserWarning: A new version of Albumentations is available: 2.0.0 (you have 1.4.15). Upgrade using: pip install -U albumentations. To disable automatic update checks, set the environment variable NO_ALBUMENTATIONS_UPDATE to 1.\n",
      "  check_for_updates()\n"
     ]
    }
   ],
   "source": [
    "import os\n",
    "import io\n",
    "import sys\n",
    "import time\n",
    "import random\n",
    "import shutil\n",
    "import warnings\n",
    "import logging\n",
    "\n",
    "from tqdm import tqdm\n",
    "from pathlib import Path\n",
    "\n",
    "# Data handling and transformations\n",
    "import cv2\n",
    "import numpy as np\n",
    "from PIL import Image\n",
    "import xml.etree.ElementTree as ET\n",
    "\n",
    "# Machine learning and deep learning libraries\n",
    "import torch\n",
    "import torchvision\n",
    "from torchvision import transforms as torchtrans\n",
    "from torchvision.models.detection.faster_rcnn import FastRCNNPredictor\n",
    "from sklearn.model_selection import train_test_split\n",
    "from sklearn.metrics import precision_recall_fscore_support\n",
    "\n",
    "# For image augmentations\n",
    "import albumentations as A\n",
    "from albumentations.pytorch.transforms import ToTensorV2\n",
    "\n",
    "# Custom libraries\n",
    "import utils\n",
    "import transforms as T\n",
    "import engine"
   ]
  },
  {
   "cell_type": "markdown",
   "id": "17c28a23",
   "metadata": {},
   "source": [
    "#### **Organize and Split Dataset for Traning**"
   ]
  },
  {
   "cell_type": "code",
   "execution_count": 3,
   "id": "3887a559",
   "metadata": {
    "_cell_guid": "b1076dfc-b9ad-4769-8c92-a6c4dae69d19",
    "_uuid": "8f2839f25d086af736a60e9eeb907d3b93b6e0e5",
    "execution": {
     "iopub.execute_input": "2025-01-14T02:05:02.259326Z",
     "iopub.status.busy": "2025-01-14T02:05:02.258884Z",
     "iopub.status.idle": "2025-01-14T02:10:18.014176Z",
     "shell.execute_reply": "2025-01-14T02:10:18.013236Z"
    },
    "papermill": {
     "duration": 315.771522,
     "end_time": "2025-01-14T02:10:18.015566",
     "exception": false,
     "start_time": "2025-01-14T02:05:02.244044",
     "status": "completed"
    },
    "tags": []
   },
   "outputs": [
    {
     "name": "stdout",
     "output_type": "stream",
     "text": [
      "Train: 5183 | Val: 1296 | Test: 1620\n",
      "Copying train files...\n"
     ]
    },
    {
     "name": "stderr",
     "output_type": "stream",
     "text": [
      "100%|██████████| 5183/5183 [03:23<00:00, 25.43it/s]\n"
     ]
    },
    {
     "name": "stdout",
     "output_type": "stream",
     "text": [
      "Copying val files...\n"
     ]
    },
    {
     "name": "stderr",
     "output_type": "stream",
     "text": [
      "100%|██████████| 1296/1296 [00:49<00:00, 26.25it/s]\n"
     ]
    },
    {
     "name": "stdout",
     "output_type": "stream",
     "text": [
      "Copying test files...\n"
     ]
    },
    {
     "name": "stderr",
     "output_type": "stream",
     "text": [
      "100%|██████████| 1620/1620 [01:02<00:00, 25.90it/s]"
     ]
    },
    {
     "name": "stdout",
     "output_type": "stream",
     "text": [
      "Data prepared!\n"
     ]
    },
    {
     "name": "stderr",
     "output_type": "stream",
     "text": [
      "\n"
     ]
    }
   ],
   "source": [
    "data_dir = \"/kaggle/input/sh17-dataset-for-ppe-detection\"\n",
    "output_dir = \"/kaggle/working/data\"\n",
    "\n",
    "train_txt = os.path.join(data_dir, \"train_files.txt\")\n",
    "val_txt = os.path.join(data_dir, \"val_files.txt\")\n",
    "\n",
    "os.makedirs(os.path.join(output_dir, \"train\", \"images\"), exist_ok=True)\n",
    "os.makedirs(os.path.join(output_dir, \"train\", \"labels\"), exist_ok=True)\n",
    "os.makedirs(os.path.join(output_dir, \"val\", \"images\"), exist_ok=True)\n",
    "os.makedirs(os.path.join(output_dir, \"val\", \"labels\"), exist_ok=True)\n",
    "os.makedirs(os.path.join(output_dir, \"test\", \"images\"), exist_ok=True)\n",
    "os.makedirs(os.path.join(output_dir, \"test\", \"labels\"), exist_ok=True)\n",
    "\n",
    "# Read file paths\n",
    "with open(train_txt, \"r\") as f:\n",
    "    train_files = f.read().splitlines()\n",
    "\n",
    "with open(val_txt, \"r\") as f:\n",
    "    test_files = f.read().splitlines()\n",
    "\n",
    "# Split train into train and val (80:20)\n",
    "train_files, val_files = train_test_split(train_files, test_size=0.2, random_state=42, shuffle=True)\n",
    "print(f\"Train: {len(train_files)} | Val: {len(val_files)} | Test: {len(test_files)}\")\n",
    "\n",
    "# Copy files to respective folders\n",
    "def copy_files(file_list, src_images, src_labels, dst_images, dst_labels):\n",
    "    for file in tqdm(file_list):\n",
    "        image_file = os.path.join(src_images, file)\n",
    "        label_file = os.path.join(src_labels, file.split(\".\")[0] + \".xml\")\n",
    "\n",
    "        # Copy images and labels\n",
    "        if os.path.exists(image_file):\n",
    "            shutil.copy(image_file, dst_images)\n",
    "        else:\n",
    "            print(f\"Image not found: {image_file}\")\n",
    "\n",
    "        if os.path.exists(label_file):\n",
    "            shutil.copy(label_file, dst_labels)\n",
    "        else:\n",
    "            print(f\"Label not found: {label_file}\")\n",
    "\n",
    "# Define source and destination folders\n",
    "src_images = os.path.join(data_dir, \"images\")\n",
    "src_labels = os.path.join(data_dir, \"voc_labels\")\n",
    "\n",
    "print(\"Copying train files...\")\n",
    "copy_files(train_files, src_images, src_labels,\n",
    "           os.path.join(output_dir, \"train\", \"images\"),\n",
    "           os.path.join(output_dir, \"train\", \"labels\"))\n",
    "\n",
    "print(\"Copying val files...\")\n",
    "copy_files(val_files, src_images, src_labels,\n",
    "           os.path.join(output_dir, \"val\", \"images\"),\n",
    "           os.path.join(output_dir, \"val\", \"labels\"))\n",
    "\n",
    "print(\"Copying test files...\")\n",
    "copy_files(test_files, src_images, src_labels,\n",
    "           os.path.join(output_dir, \"test\", \"images\"),\n",
    "           os.path.join(output_dir, \"test\", \"labels\"))\n",
    "\n",
    "print(\"Data prepared!\")"
   ]
  },
  {
   "cell_type": "markdown",
   "id": "f2241a74",
   "metadata": {},
   "source": [
    "#### **Validate and Update Invalid Bounding Boxes**"
   ]
  },
  {
   "cell_type": "code",
   "execution_count": 4,
   "id": "1097594d",
   "metadata": {
    "execution": {
     "iopub.execute_input": "2025-01-14T02:10:18.258981Z",
     "iopub.status.busy": "2025-01-14T02:10:18.258673Z",
     "iopub.status.idle": "2025-01-14T02:10:18.271297Z",
     "shell.execute_reply": "2025-01-14T02:10:18.270596Z"
    },
    "papermill": {
     "duration": 0.134729,
     "end_time": "2025-01-14T02:10:18.272569",
     "exception": false,
     "start_time": "2025-01-14T02:10:18.137840",
     "status": "completed"
    },
    "tags": []
   },
   "outputs": [],
   "source": [
    "# ========================================\n",
    "# Check and update invalid bounding boxes\n",
    "# ========================================\n",
    "\n",
    "class BBoxValidator:\n",
    "    def __init__(self, data_dir):\n",
    "        \"\"\"\n",
    "        Initialize the BBoxValidator with the directory containing XML files.\n",
    "\n",
    "        Parameters:\n",
    "            data_dir: Path to the base directory containing train, val, and test folders.\n",
    "        \"\"\"\n",
    "        self.data_dir = data_dir\n",
    "\n",
    "    def validate_bbox(self, file_path):\n",
    "        \"\"\"\n",
    "        Validate bounding boxes in a given XML file.\n",
    "\n",
    "        Parameters:\n",
    "            file_path (str): Path to the XML file.\n",
    "\n",
    "        Returns:\n",
    "            list: A list of invalid bounding boxes, each represented as a tuple (xmin, xmax, ymin, ymax).\n",
    "        \"\"\"\n",
    "        invalid_bboxes = []\n",
    "        try:\n",
    "            tree = ET.parse(file_path)\n",
    "            root = tree.getroot()\n",
    "            size = root.find('size')\n",
    "            image_width = int(size.find('width').text)\n",
    "            image_height = int(size.find('height').text)\n",
    "\n",
    "            for obj in root.findall('object'):\n",
    "                bndbox = obj.find('bndbox')\n",
    "                xmin = int(bndbox.find('xmin').text)\n",
    "                xmax = int(bndbox.find('xmax').text)\n",
    "                ymin = int(bndbox.find('ymin').text)\n",
    "                ymax = int(bndbox.find('ymax').text)\n",
    "\n",
    "                # Check for invalid bounding box conditions\n",
    "                if xmin < 0 or ymin < 0 or xmax > image_width or ymax > image_height or xmin >= xmax or ymin >= ymax:\n",
    "                    invalid_bboxes.append((xmin, xmax, ymin, ymax))\n",
    "        except Exception as e:\n",
    "            print(f\"Error validating {file_path}: {e}\")\n",
    "\n",
    "        return invalid_bboxes\n",
    "\n",
    "    def find_invalid_files(self, labels_dir):\n",
    "        \"\"\"\n",
    "        Find all XML files with invalid bounding boxes in a given directory.\n",
    "\n",
    "        Parameters:\n",
    "            labels_dir (str): Path to the directory containing XML label files.\n",
    "\n",
    "        Returns:\n",
    "            list: A list of tuples (file_name, invalid_bboxes).\n",
    "        \"\"\"\n",
    "        invalid_files = []\n",
    "        for file_name in os.listdir(labels_dir):\n",
    "            if file_name.endswith('.xml'):\n",
    "                file_path = os.path.join(labels_dir, file_name)\n",
    "                invalid_bboxes = self.validate_bbox(file_path)\n",
    "                if invalid_bboxes:\n",
    "                    invalid_files.append((file_name, invalid_bboxes))\n",
    "        return invalid_files\n",
    "\n",
    "    def update_invalid_bboxes(self, labels_dir):\n",
    "        \"\"\"\n",
    "        Update invalid bounding boxes in all XML files within the given directory.\n",
    "\n",
    "        Parameters:\n",
    "            labels_dir (str): Path to the directory containing XML label files.\n",
    "        \"\"\"\n",
    "        for file_name in os.listdir(labels_dir):\n",
    "            if file_name.endswith('.xml'):\n",
    "                file_path = os.path.join(labels_dir, file_name)\n",
    "                try:\n",
    "                    tree = ET.parse(file_path)\n",
    "                    root = tree.getroot()\n",
    "                    size = root.find('size')\n",
    "                    image_width = int(size.find('width').text)\n",
    "                    image_height = int(size.find('height').text)\n",
    "\n",
    "                    updated = False\n",
    "\n",
    "                    for obj in root.findall('object'):\n",
    "                        bbox = obj.find('bndbox')\n",
    "                        if bbox is None:\n",
    "                            continue\n",
    "\n",
    "                        xmin = int(bbox.find('xmin').text)\n",
    "                        ymin = int(bbox.find('ymin').text)\n",
    "                        xmax = int(bbox.find('xmax').text)\n",
    "                        ymax = int(bbox.find('ymax').text)\n",
    "\n",
    "                        # Correct invalid bounding boxes\n",
    "                        if xmin < 0:\n",
    "                            bbox.find('xmin').text = '0'\n",
    "                            updated = True\n",
    "                        if ymin < 0:\n",
    "                            bbox.find('ymin').text = '0'\n",
    "                            updated = True\n",
    "                        if xmax > image_width:\n",
    "                            bbox.find('xmax').text = str(image_width)\n",
    "                            updated = True\n",
    "                        if ymax > image_height:\n",
    "                            bbox.find('ymax').text = str(image_height)\n",
    "                            updated = True\n",
    "                        if xmin >= xmax:\n",
    "                            bbox.find('xmax').text = str(xmin + 1)\n",
    "                            updated = True\n",
    "                        if ymin >= ymax:\n",
    "                            bbox.find('ymax').text = str(ymin + 1)\n",
    "                            updated = True\n",
    "\n",
    "                    if updated:\n",
    "                        tree.write(file_path)\n",
    "                        print(f\"    => Updated invalid bounding boxes in {file_path}\")\n",
    "\n",
    "                except Exception as e:\n",
    "                    print(f\"Error processing file {file_path}: {e}\")\n",
    "\n",
    "    def process_all_folders(self):\n",
    "        \"\"\"\n",
    "        Validate and update bounding boxes in train, val, and test label folders.\n",
    "        \"\"\"\n",
    "        for folder in ['train', 'val', 'test']:\n",
    "            labels_dir = os.path.join(self.data_dir, folder, 'labels')\n",
    "            print(f\"\\nProcessing {labels_dir}...\")\n",
    "\n",
    "            # Find and print invalid files\n",
    "            invalid_files = self.find_invalid_files(labels_dir)\n",
    "            if invalid_files:\n",
    "                print(f\"    Files with invalid bounding boxes in {folder}:\")\n",
    "                for file_name, bboxes in invalid_files:\n",
    "                    print(f\"        File: {file_name}\")\n",
    "                    for bbox in bboxes:\n",
    "                        print(f\"              Invalid BBox: {bbox}\")\n",
    "            else:\n",
    "                print(f\"    No invalid bounding boxes found in {folder}.\")\n",
    "\n",
    "            # Update invalid bounding boxes\n",
    "            self.update_invalid_bboxes(labels_dir)"
   ]
  },
  {
   "cell_type": "code",
   "execution_count": 5,
   "id": "eabcee4a",
   "metadata": {
    "execution": {
     "iopub.execute_input": "2025-01-14T02:10:18.504343Z",
     "iopub.status.busy": "2025-01-14T02:10:18.504015Z",
     "iopub.status.idle": "2025-01-14T02:10:22.593073Z",
     "shell.execute_reply": "2025-01-14T02:10:22.591620Z"
    },
    "papermill": {
     "duration": 4.205498,
     "end_time": "2025-01-14T02:10:22.594550",
     "exception": false,
     "start_time": "2025-01-14T02:10:18.389052",
     "status": "completed"
    },
    "tags": []
   },
   "outputs": [
    {
     "name": "stdout",
     "output_type": "stream",
     "text": [
      "\n",
      "Processing /kaggle/working/data/train/labels...\n",
      "    Files with invalid bounding boxes in train:\n",
      "        File: pexels-photo-258626.xml\n",
      "              Invalid BBox: (1725, 1874, 4430, 4664)\n",
      "        File: pexels-photo-259265.xml\n",
      "              Invalid BBox: (1559, 3509, 123, 1358)\n",
      "    => Updated invalid bounding boxes in /kaggle/working/data/train/labels/pexels-photo-258626.xml\n",
      "    => Updated invalid bounding boxes in /kaggle/working/data/train/labels/pexels-photo-259265.xml\n",
      "\n",
      "Processing /kaggle/working/data/val/labels...\n",
      "    No invalid bounding boxes found in val.\n",
      "\n",
      "Processing /kaggle/working/data/test/labels...\n",
      "    No invalid bounding boxes found in test.\n"
     ]
    }
   ],
   "source": [
    "data_dir = '/kaggle/working/data'\n",
    "validator = BBoxValidator(data_dir)\n",
    "validator.process_all_folders()"
   ]
  },
  {
   "cell_type": "markdown",
   "id": "acad6154",
   "metadata": {},
   "source": [
    "#### **Define Custom Dataset Class and Dataloaders**"
   ]
  },
  {
   "cell_type": "code",
   "execution_count": 6,
   "id": "d28d6fce",
   "metadata": {
    "execution": {
     "iopub.execute_input": "2025-01-14T02:10:22.831703Z",
     "iopub.status.busy": "2025-01-14T02:10:22.831411Z",
     "iopub.status.idle": "2025-01-14T02:10:22.843788Z",
     "shell.execute_reply": "2025-01-14T02:10:22.843106Z"
    },
    "papermill": {
     "duration": 0.131517,
     "end_time": "2025-01-14T02:10:22.844981",
     "exception": false,
     "start_time": "2025-01-14T02:10:22.713464",
     "status": "completed"
    },
    "tags": []
   },
   "outputs": [],
   "source": [
    "# ========================================\n",
    "# Class Custom Dataset\n",
    "# ========================================\n",
    "class CustomDataset(torch.utils.data.Dataset):\n",
    "    def __init__(self, root, class_mapping, transforms=None):\n",
    "        self.root = root\n",
    "        self.class_mapping = class_mapping\n",
    "        self.transforms = transforms\n",
    "        self.images = sorted(os.listdir(os.path.join(root, \"images\")))  # Sort images\n",
    "        self.labels = sorted(os.listdir(os.path.join(root, \"labels\")))  # Sort labels\n",
    "\n",
    "        # Ensure the same number of images and labels\n",
    "        assert len(self.images) == len(self.labels), \"Mismatch between number of images and labels\"\n",
    "\n",
    "        # Optionally ensure filenames (without extensions) match between images and labels\n",
    "        for img, label in zip(self.images, self.labels):\n",
    "            assert img.split('.')[0] == label.split('.')[0], f\"Image {img} and label {label} do not match\"\n",
    "\n",
    "    def __len__(self):\n",
    "        return len(self.images)\n",
    "\n",
    "    def __getitem__(self, idx):\n",
    "        img_path = os.path.join(self.root, \"images\", self.images[idx])\n",
    "        label_path = os.path.join(self.root, \"labels\", self.labels[idx])\n",
    "        img = Image.open(img_path).convert(\"RGB\")\n",
    "        tree = ET.parse(label_path)\n",
    "        root = tree.getroot()\n",
    "\n",
    "        boxes = []\n",
    "        labels = []\n",
    "        img_width, img_height = img.size\n",
    "        for obj in root.findall(\"object\"):\n",
    "            bbox = obj.find(\"bndbox\")\n",
    "            xmin = int(bbox.find(\"xmin\").text)\n",
    "            ymin = int(bbox.find(\"ymin\").text)\n",
    "            xmax = int(bbox.find(\"xmax\").text)\n",
    "            ymax = int(bbox.find(\"ymax\").text)\n",
    "            boxes.append([xmin, ymin, xmax, ymax])\n",
    "            name = obj.find(\"name\").text\n",
    "\n",
    "            if name in self.class_mapping:\n",
    "                labels.append(self.class_mapping[name])\n",
    "            else:\n",
    "                raise ValueError(f\"Unknown label '{name}' in {label_path}\")\n",
    "\n",
    "        # Convert boxes to numpy array for albumentations (no manual normalization here)\n",
    "        boxes = np.array(boxes, dtype=np.float32)\n",
    "\n",
    "        # Apply transformations if provided\n",
    "        if self.transforms:\n",
    "            # albumentations requires input to be a dictionary with 'image' and 'bboxes'\n",
    "            augmented = self.transforms(image=np.array(img), bboxes=boxes, labels=labels)\n",
    "            img = augmented['image']\n",
    "            boxes = augmented['bboxes']\n",
    "\n",
    "        # Convert boxes to tensor\n",
    "        boxes = torch.as_tensor(boxes, dtype=torch.float32)\n",
    "        labels = torch.as_tensor(labels, dtype=torch.int64)\n",
    "\n",
    "        # Calculate area of each box\n",
    "        area = (boxes[:, 3] - boxes[:, 1]) * (boxes[:, 2] - boxes[:, 0])\n",
    "\n",
    "        # Suppose all instances are not crowd\n",
    "        iscrowd = torch.zeros((boxes.shape[0],), dtype=torch.int64)\n",
    "\n",
    "        # Prepare the target dictionary\n",
    "        target = {\n",
    "            \"boxes\": boxes,\n",
    "            \"labels\": labels,\n",
    "            \"area\": area,\n",
    "            \"iscrowd\": iscrowd,\n",
    "            \"image_id\": int(idx)\n",
    "        }\n",
    "\n",
    "        return img, target\n",
    "\n",
    "\n",
    "\n",
    "# =================================\n",
    "# Data Loaders\n",
    "# =================================\n",
    "def collate_fn(batch):\n",
    "    return tuple(zip(*batch))\n",
    "\n",
    "def get_dataloaders(data_dir, class_mapping, batch_size=4):\n",
    "    # Define albumentations transformations\n",
    "    image_transforms = A.Compose(\n",
    "        [\n",
    "            A.Resize(640, 640),\n",
    "            A.Normalize(mean=[0.485, 0.456, 0.406], std=[0.229, 0.224, 0.225], max_pixel_value=255.0),\n",
    "            ToTensorV2(),\n",
    "        ],\n",
    "        bbox_params=A.BboxParams(format='pascal_voc', label_fields=['labels'])\n",
    "    )\n",
    "\n",
    "\n",
    "\n",
    "    # Create dataset instances\n",
    "    train_dataset = CustomDataset(os.path.join(data_dir, \"train\"), class_mapping, transforms=image_transforms)\n",
    "    val_dataset = CustomDataset(os.path.join(data_dir, \"val\"), class_mapping, transforms=image_transforms)\n",
    "    test_dataset = CustomDataset(os.path.join(data_dir, \"test\"), class_mapping, transforms=image_transforms)\n",
    "\n",
    "    # Create data loaders\n",
    "    train_loader = torch.utils.data.DataLoader(train_dataset, batch_size=batch_size, shuffle=True, collate_fn=collate_fn)\n",
    "    val_loader = torch.utils.data.DataLoader(val_dataset, batch_size=batch_size, shuffle=False, collate_fn=collate_fn)\n",
    "    test_loader = torch.utils.data.DataLoader(test_dataset, batch_size=batch_size, shuffle=False, collate_fn=collate_fn)\n",
    "\n",
    "    return train_loader, val_loader, test_loader"
   ]
  },
  {
   "cell_type": "markdown",
   "id": "7f12dc77",
   "metadata": {},
   "source": [
    "#### **Setup Logging, Class Mapping, and Model Initialization**"
   ]
  },
  {
   "cell_type": "code",
   "execution_count": 8,
   "id": "a52202b7",
   "metadata": {
    "execution": {
     "iopub.execute_input": "2025-01-14T02:10:23.312234Z",
     "iopub.status.busy": "2025-01-14T02:10:23.311900Z",
     "iopub.status.idle": "2025-01-14T02:10:23.318995Z",
     "shell.execute_reply": "2025-01-14T02:10:23.318353Z"
    },
    "papermill": {
     "duration": 0.12375,
     "end_time": "2025-01-14T02:10:23.320118",
     "exception": false,
     "start_time": "2025-01-14T02:10:23.196368",
     "status": "completed"
    },
    "tags": []
   },
   "outputs": [],
   "source": [
    "from coco_utils import get_coco_api_from_dataset\n",
    "from coco_eval import CocoEvaluator\n",
    "from engine import train_one_epoch, evaluate\n",
    "\n",
    "# ========================\n",
    "# Logging Configuration\n",
    "# ========================\n",
    "root_logger = logging.getLogger()\n",
    "for handler in root_logger.handlers[:]:\n",
    "    root_logger.removeHandler(handler)\n",
    "\n",
    "LOG_FILE = \"/kaggle/working/log.txt\"\n",
    "Path(LOG_FILE).parent.mkdir(parents=True, exist_ok=True)\n",
    "\n",
    "logging.basicConfig(level=logging.INFO,\n",
    "                    format=\"%(asctime)s - %(levelname)s - %(message)s\",\n",
    "                    handlers=[\n",
    "                        logging.FileHandler(LOG_FILE, mode='a'),\n",
    "                        logging.StreamHandler()  # Display on terminal\n",
    "                    ])\n",
    "logger = logging.getLogger()\n",
    "\n",
    "# ========================\n",
    "# Define Class Mapping\n",
    "# ========================\n",
    "class_mapping = {\n",
    "    \"__background__\": 0,\n",
    "    \"person\": 1,\n",
    "    \"ear\": 2,\n",
    "    \"ear-mufs\": 3,\n",
    "    \"face\": 4,\n",
    "    \"face-guard\": 5,\n",
    "    \"face-mask-medical\": 6,\n",
    "    \"foot\": 7,\n",
    "    \"tools\": 8,\n",
    "    \"glasses\": 9,\n",
    "    \"gloves\": 10,\n",
    "    \"helmet\": 11,\n",
    "    \"hands\": 12,\n",
    "    \"head\": 13,\n",
    "    \"medical-suit\": 14,\n",
    "    \"shoes\": 15,\n",
    "    \"safety-suit\": 16,\n",
    "    \"safety-vest\": 17\n",
    "}\n",
    "\n",
    "\n",
    "# ========================\n",
    "# Get Model\n",
    "# ========================\n",
    "def get_model(num_classes):\n",
    "    model = torchvision.models.detection.fasterrcnn_resnet50_fpn(weights=\"COCO_V1\")\n",
    "    in_features = model.roi_heads.box_predictor.cls_score.in_features\n",
    "    model.roi_heads.box_predictor = FastRCNNPredictor(in_features, num_classes)\n",
    "    print(\"Model Done!\")\n",
    "    return model"
   ]
  },
  {
   "cell_type": "markdown",
   "id": "feae7ddf",
   "metadata": {},
   "source": [
    "#### **Train and Evaluate Model**"
   ]
  },
  {
   "cell_type": "code",
   "execution_count": 9,
   "id": "36835b01",
   "metadata": {
    "execution": {
     "iopub.execute_input": "2025-01-14T02:10:23.571702Z",
     "iopub.status.busy": "2025-01-14T02:10:23.571443Z",
     "iopub.status.idle": "2025-01-14T12:14:57.727691Z",
     "shell.execute_reply": "2025-01-14T12:14:57.726783Z"
    },
    "papermill": {
     "duration": 36274.287231,
     "end_time": "2025-01-14T12:14:57.729046",
     "exception": false,
     "start_time": "2025-01-14T02:10:23.441815",
     "status": "completed"
    },
    "tags": []
   },
   "outputs": [
    {
     "name": "stderr",
     "output_type": "stream",
     "text": [
      "2025-01-14 02:10:23,624 - INFO - Using device: cuda\n",
      "Downloading: \"https://download.pytorch.org/models/fasterrcnn_resnet50_fpn_coco-258fb6c6.pth\" to /root/.cache/torch/hub/checkpoints/fasterrcnn_resnet50_fpn_coco-258fb6c6.pth\n",
      "100%|██████████| 160M/160M [00:00<00:00, 201MB/s]\n"
     ]
    },
    {
     "name": "stdout",
     "output_type": "stream",
     "text": [
      "Model Done!\n"
     ]
    },
    {
     "name": "stderr",
     "output_type": "stream",
     "text": [
      "2025-01-14 02:10:25,636 - INFO - Starting epoch 1/10\n",
      "/kaggle/working/engine.py:30: FutureWarning: `torch.cuda.amp.autocast(args...)` is deprecated. Please use `torch.amp.autocast('cuda', args...)` instead.\n",
      "  with torch.cuda.amp.autocast(enabled=scaler is not None):\n"
     ]
    },
    {
     "name": "stdout",
     "output_type": "stream",
     "text": [
      "Epoch: [0]  [  0/324]  eta: 0:53:42  lr: 0.000041  loss: 3.9080 (3.9080)  loss_classifier: 2.6723 (2.6723)  loss_box_reg: 0.2870 (0.2870)  loss_objectness: 0.6999 (0.6999)  loss_rpn_box_reg: 0.2487 (0.2487)  time: 9.9447  data: 6.9746  max mem: 11366\n",
      "Epoch: [0]  [ 20/324]  eta: 0:38:54  lr: 0.000660  loss: 1.8365 (2.1770)  loss_classifier: 0.9346 (1.1811)  loss_box_reg: 0.3924 (0.3771)  loss_objectness: 0.3952 (0.4666)  loss_rpn_box_reg: 0.1358 (0.1522)  time: 7.5654  data: 6.1146  max mem: 11524\n",
      "Epoch: [0]  [ 40/324]  eta: 0:35:27  lr: 0.001278  loss: 1.3761 (1.8071)  loss_classifier: 0.6404 (0.9161)  loss_box_reg: 0.4504 (0.4064)  loss_objectness: 0.2016 (0.3417)  loss_rpn_box_reg: 0.1444 (0.1429)  time: 7.2969  data: 5.8450  max mem: 11524\n",
      "Epoch: [0]  [ 60/324]  eta: 0:33:17  lr: 0.001897  loss: 1.4111 (1.6749)  loss_classifier: 0.5949 (0.8087)  loss_box_reg: 0.5226 (0.4412)  loss_objectness: 0.1619 (0.2840)  loss_rpn_box_reg: 0.1419 (0.1410)  time: 7.7197  data: 6.2671  max mem: 11524\n",
      "Epoch: [0]  [ 80/324]  eta: 0:30:46  lr: 0.002515  loss: 1.2077 (1.5622)  loss_classifier: 0.5018 (0.7334)  loss_box_reg: 0.5123 (0.4551)  loss_objectness: 0.1047 (0.2407)  loss_rpn_box_reg: 0.0894 (0.1330)  time: 7.5690  data: 6.1176  max mem: 11524\n",
      "Epoch: [0]  [100/324]  eta: 0:28:21  lr: 0.003134  loss: 1.2023 (1.4853)  loss_classifier: 0.4649 (0.6821)  loss_box_reg: 0.4798 (0.4618)  loss_objectness: 0.0995 (0.2148)  loss_rpn_box_reg: 0.0945 (0.1266)  time: 7.7175  data: 6.2652  max mem: 11524\n",
      "Epoch: [0]  [120/324]  eta: 0:25:57  lr: 0.003752  loss: 1.0560 (1.4201)  loss_classifier: 0.4210 (0.6407)  loss_box_reg: 0.4545 (0.4607)  loss_objectness: 0.0934 (0.1944)  loss_rpn_box_reg: 0.1005 (0.1243)  time: 7.8103  data: 6.3574  max mem: 11524\n",
      "Epoch: [0]  [140/324]  eta: 0:23:30  lr: 0.004371  loss: 1.0254 (1.3636)  loss_classifier: 0.3714 (0.6015)  loss_box_reg: 0.4167 (0.4546)  loss_objectness: 0.0911 (0.1822)  loss_rpn_box_reg: 0.1185 (0.1253)  time: 7.8776  data: 6.4238  max mem: 11524\n",
      "Epoch: [0]  [160/324]  eta: 0:20:54  lr: 0.004990  loss: 0.9362 (1.3073)  loss_classifier: 0.3353 (0.5682)  loss_box_reg: 0.3856 (0.4465)  loss_objectness: 0.0852 (0.1699)  loss_rpn_box_reg: 0.1098 (0.1227)  time: 7.5464  data: 6.0920  max mem: 11524\n",
      "Epoch: [0]  [180/324]  eta: 0:18:22  lr: 0.005608  loss: 0.9017 (1.2653)  loss_classifier: 0.3389 (0.5438)  loss_box_reg: 0.3901 (0.4414)  loss_objectness: 0.0697 (0.1595)  loss_rpn_box_reg: 0.1012 (0.1206)  time: 7.6776  data: 6.2236  max mem: 11524\n",
      "Epoch: [0]  [200/324]  eta: 0:15:49  lr: 0.006227  loss: 0.9089 (1.2336)  loss_classifier: 0.3287 (0.5235)  loss_box_reg: 0.3799 (0.4363)  loss_objectness: 0.0834 (0.1530)  loss_rpn_box_reg: 0.1127 (0.1208)  time: 7.6701  data: 6.2149  max mem: 11524\n",
      "Epoch: [0]  [220/324]  eta: 0:13:15  lr: 0.006845  loss: 0.8616 (1.2007)  loss_classifier: 0.3039 (0.5047)  loss_box_reg: 0.3702 (0.4303)  loss_objectness: 0.0590 (0.1452)  loss_rpn_box_reg: 0.1085 (0.1206)  time: 7.5391  data: 6.0851  max mem: 11524\n",
      "Epoch: [0]  [240/324]  eta: 0:10:40  lr: 0.007464  loss: 0.8289 (1.1736)  loss_classifier: 0.2970 (0.4882)  loss_box_reg: 0.3596 (0.4250)  loss_objectness: 0.0662 (0.1401)  loss_rpn_box_reg: 0.1040 (0.1203)  time: 7.4470  data: 5.9948  max mem: 11524\n",
      "Epoch: [0]  [260/324]  eta: 0:08:09  lr: 0.008082  loss: 0.8681 (1.1503)  loss_classifier: 0.3247 (0.4755)  loss_box_reg: 0.3752 (0.4208)  loss_objectness: 0.0700 (0.1352)  loss_rpn_box_reg: 0.1066 (0.1187)  time: 7.8666  data: 6.4141  max mem: 11524\n",
      "Epoch: [0]  [280/324]  eta: 0:05:35  lr: 0.008701  loss: 0.7904 (1.1250)  loss_classifier: 0.2834 (0.4619)  loss_box_reg: 0.3454 (0.4155)  loss_objectness: 0.0658 (0.1309)  loss_rpn_box_reg: 0.0860 (0.1167)  time: 7.4863  data: 6.0333  max mem: 11524\n",
      "Epoch: [0]  [300/324]  eta: 0:03:03  lr: 0.009320  loss: 0.7860 (1.1048)  loss_classifier: 0.2944 (0.4514)  loss_box_reg: 0.3563 (0.4123)  loss_objectness: 0.0543 (0.1261)  loss_rpn_box_reg: 0.0734 (0.1150)  time: 7.6496  data: 6.1974  max mem: 11524\n",
      "Epoch: [0]  [320/324]  eta: 0:00:30  lr: 0.009938  loss: 0.7983 (1.0850)  loss_classifier: 0.2728 (0.4408)  loss_box_reg: 0.3553 (0.4087)  loss_objectness: 0.0597 (0.1222)  loss_rpn_box_reg: 0.0822 (0.1133)  time: 7.7388  data: 6.2842  max mem: 11524\n"
     ]
    },
    {
     "name": "stderr",
     "output_type": "stream",
     "text": [
      "2025-01-14 02:51:42,743 - INFO - Evaluating on validation set...\n"
     ]
    },
    {
     "name": "stdout",
     "output_type": "stream",
     "text": [
      "Epoch: [0]  [323/324]  eta: 0:00:07  lr: 0.010000  loss: 0.7983 (1.0814)  loss_classifier: 0.2728 (0.4390)  loss_box_reg: 0.3419 (0.4078)  loss_objectness: 0.0590 (0.1215)  loss_rpn_box_reg: 0.0835 (0.1130)  time: 7.6812  data: 6.2306  max mem: 11524\n",
      "Epoch: [0] Total time: 0:41:17 (7.6454 s / it)\n",
      "creating index...\n",
      "index created!\n",
      "Test:  [ 0/81]  eta: 0:06:35  model_time: 0.7087 (0.7087)  evaluator_time: 0.0644 (0.0644)  time: 4.8864  data: 4.0950  max mem: 11524\n",
      "Test:  [80/81]  eta: 0:00:07  model_time: 0.6892 (0.6907)  evaluator_time: 0.0706 (0.0685)  time: 7.6097  data: 6.8192  max mem: 11524\n",
      "Test: Total time: 0:09:39 (7.1538 s / it)\n",
      "Averaged stats: model_time: 0.6892 (0.6907)  evaluator_time: 0.0706 (0.0685)\n",
      "Accumulating evaluation results...\n"
     ]
    },
    {
     "name": "stderr",
     "output_type": "stream",
     "text": [
      "2025-01-14 03:08:21,927 - INFO - Validation metrics after epoch 1: <coco_eval.CocoEvaluator object at 0x7900076bd660>\n",
      "2025-01-14 03:08:21,928 - INFO - Starting epoch 2/10\n"
     ]
    },
    {
     "name": "stdout",
     "output_type": "stream",
     "text": [
      "DONE (t=1.49s).\n",
      "IoU metric: bbox\n",
      " Average Precision  (AP) @[ IoU=0.50:0.95 | area=   all | maxDets=100 ] = 0.150\n",
      " Average Precision  (AP) @[ IoU=0.50      | area=   all | maxDets=100 ] = 0.295\n",
      " Average Precision  (AP) @[ IoU=0.75      | area=   all | maxDets=100 ] = 0.135\n",
      " Average Precision  (AP) @[ IoU=0.50:0.95 | area= small | maxDets=100 ] = 0.065\n",
      " Average Precision  (AP) @[ IoU=0.50:0.95 | area=medium | maxDets=100 ] = 0.172\n",
      " Average Precision  (AP) @[ IoU=0.50:0.95 | area= large | maxDets=100 ] = 0.179\n",
      " Average Recall     (AR) @[ IoU=0.50:0.95 | area=   all | maxDets=  1 ] = 0.136\n",
      " Average Recall     (AR) @[ IoU=0.50:0.95 | area=   all | maxDets= 10 ] = 0.230\n",
      " Average Recall     (AR) @[ IoU=0.50:0.95 | area=   all | maxDets=100 ] = 0.234\n",
      " Average Recall     (AR) @[ IoU=0.50:0.95 | area= small | maxDets=100 ] = 0.118\n",
      " Average Recall     (AR) @[ IoU=0.50:0.95 | area=medium | maxDets=100 ] = 0.272\n",
      " Average Recall     (AR) @[ IoU=0.50:0.95 | area= large | maxDets=100 ] = 0.315\n",
      "Epoch: [1]  [  0/324]  eta: 0:43:35  lr: 0.010000  loss: 0.7374 (0.7374)  loss_classifier: 0.2772 (0.2772)  loss_box_reg: 0.3349 (0.3349)  loss_objectness: 0.0544 (0.0544)  loss_rpn_box_reg: 0.0709 (0.0709)  time: 8.0733  data: 6.6213  max mem: 11524\n",
      "Epoch: [1]  [ 20/324]  eta: 0:39:33  lr: 0.010000  loss: 0.7575 (0.7663)  loss_classifier: 0.2597 (0.2732)  loss_box_reg: 0.3475 (0.3455)  loss_objectness: 0.0493 (0.0514)  loss_rpn_box_reg: 0.0851 (0.0962)  time: 7.7928  data: 6.3392  max mem: 11524\n",
      "Epoch: [1]  [ 40/324]  eta: 0:37:33  lr: 0.010000  loss: 0.8060 (0.7792)  loss_classifier: 0.2871 (0.2807)  loss_box_reg: 0.3585 (0.3496)  loss_objectness: 0.0488 (0.0508)  loss_rpn_box_reg: 0.1021 (0.0982)  time: 8.0704  data: 6.6158  max mem: 11524\n",
      "Epoch: [1]  [ 60/324]  eta: 0:35:23  lr: 0.010000  loss: 0.6967 (0.7688)  loss_classifier: 0.2494 (0.2741)  loss_box_reg: 0.3287 (0.3447)  loss_objectness: 0.0435 (0.0516)  loss_rpn_box_reg: 0.0802 (0.0984)  time: 8.2625  data: 6.8092  max mem: 11524\n",
      "Epoch: [1]  [ 80/324]  eta: 0:32:42  lr: 0.010000  loss: 0.7540 (0.7678)  loss_classifier: 0.2626 (0.2704)  loss_box_reg: 0.3478 (0.3442)  loss_objectness: 0.0479 (0.0516)  loss_rpn_box_reg: 0.0991 (0.1016)  time: 8.0510  data: 6.5972  max mem: 11524\n",
      "Epoch: [1]  [100/324]  eta: 0:29:41  lr: 0.010000  loss: 0.7399 (0.7627)  loss_classifier: 0.2638 (0.2691)  loss_box_reg: 0.3381 (0.3427)  loss_objectness: 0.0448 (0.0510)  loss_rpn_box_reg: 0.1000 (0.0999)  time: 7.5926  data: 6.1404  max mem: 11524\n",
      "Epoch: [1]  [120/324]  eta: 0:27:04  lr: 0.010000  loss: 0.6715 (0.7562)  loss_classifier: 0.2634 (0.2684)  loss_box_reg: 0.3303 (0.3421)  loss_objectness: 0.0357 (0.0504)  loss_rpn_box_reg: 0.0630 (0.0953)  time: 7.9963  data: 6.5443  max mem: 11524\n",
      "Epoch: [1]  [140/324]  eta: 0:24:19  lr: 0.010000  loss: 0.7171 (0.7509)  loss_classifier: 0.2484 (0.2666)  loss_box_reg: 0.3256 (0.3403)  loss_objectness: 0.0463 (0.0502)  loss_rpn_box_reg: 0.0767 (0.0938)  time: 7.7620  data: 6.3089  max mem: 11524\n",
      "Epoch: [1]  [160/324]  eta: 0:21:38  lr: 0.010000  loss: 0.7642 (0.7517)  loss_classifier: 0.2702 (0.2674)  loss_box_reg: 0.3331 (0.3399)  loss_objectness: 0.0529 (0.0505)  loss_rpn_box_reg: 0.0942 (0.0940)  time: 7.8012  data: 6.3493  max mem: 11524\n",
      "Epoch: [1]  [180/324]  eta: 0:18:57  lr: 0.010000  loss: 0.6768 (0.7444)  loss_classifier: 0.2351 (0.2638)  loss_box_reg: 0.3135 (0.3367)  loss_objectness: 0.0455 (0.0505)  loss_rpn_box_reg: 0.0933 (0.0934)  time: 7.7290  data: 6.2767  max mem: 11524\n",
      "Epoch: [1]  [200/324]  eta: 0:16:23  lr: 0.010000  loss: 0.7009 (0.7425)  loss_classifier: 0.2550 (0.2629)  loss_box_reg: 0.3386 (0.3373)  loss_objectness: 0.0394 (0.0501)  loss_rpn_box_reg: 0.0728 (0.0923)  time: 8.2666  data: 6.8152  max mem: 11524\n",
      "Epoch: [1]  [220/324]  eta: 0:13:42  lr: 0.010000  loss: 0.6999 (0.7399)  loss_classifier: 0.2477 (0.2618)  loss_box_reg: 0.3175 (0.3359)  loss_objectness: 0.0499 (0.0502)  loss_rpn_box_reg: 0.0788 (0.0921)  time: 7.6679  data: 6.2156  max mem: 11524\n",
      "Epoch: [1]  [240/324]  eta: 0:11:00  lr: 0.010000  loss: 0.6773 (0.7370)  loss_classifier: 0.2400 (0.2605)  loss_box_reg: 0.3263 (0.3351)  loss_objectness: 0.0439 (0.0504)  loss_rpn_box_reg: 0.0652 (0.0909)  time: 7.3909  data: 5.9397  max mem: 11524\n",
      "Epoch: [1]  [260/324]  eta: 0:08:24  lr: 0.010000  loss: 0.7063 (0.7353)  loss_classifier: 0.2508 (0.2598)  loss_box_reg: 0.3214 (0.3343)  loss_objectness: 0.0413 (0.0508)  loss_rpn_box_reg: 0.0859 (0.0905)  time: 8.0498  data: 6.5953  max mem: 11524\n",
      "Epoch: [1]  [280/324]  eta: 0:05:46  lr: 0.010000  loss: 0.7389 (0.7338)  loss_classifier: 0.2402 (0.2589)  loss_box_reg: 0.3354 (0.3342)  loss_objectness: 0.0473 (0.0507)  loss_rpn_box_reg: 0.0796 (0.0900)  time: 7.8590  data: 6.4079  max mem: 11524\n",
      "Epoch: [1]  [300/324]  eta: 0:03:09  lr: 0.010000  loss: 0.7451 (0.7343)  loss_classifier: 0.2618 (0.2590)  loss_box_reg: 0.3474 (0.3345)  loss_objectness: 0.0411 (0.0507)  loss_rpn_box_reg: 0.0839 (0.0901)  time: 7.9138  data: 6.4603  max mem: 11524\n",
      "Epoch: [1]  [320/324]  eta: 0:00:31  lr: 0.010000  loss: 0.7555 (0.7354)  loss_classifier: 0.2811 (0.2595)  loss_box_reg: 0.3300 (0.3344)  loss_objectness: 0.0530 (0.0512)  loss_rpn_box_reg: 0.0825 (0.0903)  time: 7.7964  data: 6.3408  max mem: 11524\n"
     ]
    },
    {
     "name": "stderr",
     "output_type": "stream",
     "text": [
      "2025-01-14 03:50:50,519 - INFO - Evaluating on validation set...\n"
     ]
    },
    {
     "name": "stdout",
     "output_type": "stream",
     "text": [
      "Epoch: [1]  [323/324]  eta: 0:00:07  lr: 0.010000  loss: 0.7515 (0.7344)  loss_classifier: 0.2707 (0.2593)  loss_box_reg: 0.3300 (0.3343)  loss_objectness: 0.0494 (0.0510)  loss_rpn_box_reg: 0.0759 (0.0899)  time: 7.5702  data: 6.1193  max mem: 11524\n",
      "Epoch: [1] Total time: 0:42:28 (7.8660 s / it)\n",
      "creating index...\n",
      "index created!\n",
      "Test:  [ 0/81]  eta: 0:07:49  model_time: 0.7004 (0.7004)  evaluator_time: 0.0673 (0.0673)  time: 5.7904  data: 5.0035  max mem: 11524\n",
      "Test:  [80/81]  eta: 0:00:07  model_time: 0.6880 (0.6900)  evaluator_time: 0.0735 (0.0726)  time: 7.2789  data: 6.4952  max mem: 11524\n",
      "Test: Total time: 0:09:30 (7.0412 s / it)\n",
      "Averaged stats: model_time: 0.6880 (0.6900)  evaluator_time: 0.0735 (0.0726)\n",
      "Accumulating evaluation results...\n"
     ]
    },
    {
     "name": "stderr",
     "output_type": "stream",
     "text": [
      "2025-01-14 04:09:03,028 - INFO - Validation metrics after epoch 2: <coco_eval.CocoEvaluator object at 0x7900076ba260>\n",
      "2025-01-14 04:09:03,029 - INFO - Starting epoch 3/10\n"
     ]
    },
    {
     "name": "stdout",
     "output_type": "stream",
     "text": [
      "DONE (t=1.58s).\n",
      "IoU metric: bbox\n",
      " Average Precision  (AP) @[ IoU=0.50:0.95 | area=   all | maxDets=100 ] = 0.193\n",
      " Average Precision  (AP) @[ IoU=0.50      | area=   all | maxDets=100 ] = 0.362\n",
      " Average Precision  (AP) @[ IoU=0.75      | area=   all | maxDets=100 ] = 0.184\n",
      " Average Precision  (AP) @[ IoU=0.50:0.95 | area= small | maxDets=100 ] = 0.091\n",
      " Average Precision  (AP) @[ IoU=0.50:0.95 | area=medium | maxDets=100 ] = 0.225\n",
      " Average Precision  (AP) @[ IoU=0.50:0.95 | area= large | maxDets=100 ] = 0.224\n",
      " Average Recall     (AR) @[ IoU=0.50:0.95 | area=   all | maxDets=  1 ] = 0.167\n",
      " Average Recall     (AR) @[ IoU=0.50:0.95 | area=   all | maxDets= 10 ] = 0.281\n",
      " Average Recall     (AR) @[ IoU=0.50:0.95 | area=   all | maxDets=100 ] = 0.288\n",
      " Average Recall     (AR) @[ IoU=0.50:0.95 | area= small | maxDets=100 ] = 0.155\n",
      " Average Recall     (AR) @[ IoU=0.50:0.95 | area=medium | maxDets=100 ] = 0.333\n",
      " Average Recall     (AR) @[ IoU=0.50:0.95 | area= large | maxDets=100 ] = 0.339\n",
      "Epoch: [2]  [  0/324]  eta: 0:38:20  lr: 0.010000  loss: 0.7318 (0.7318)  loss_classifier: 0.2169 (0.2169)  loss_box_reg: 0.2923 (0.2923)  loss_objectness: 0.0443 (0.0443)  loss_rpn_box_reg: 0.1784 (0.1784)  time: 7.1017  data: 5.6454  max mem: 11524\n",
      "Epoch: [2]  [ 20/324]  eta: 0:39:31  lr: 0.010000  loss: 0.6408 (0.6431)  loss_classifier: 0.2161 (0.2266)  loss_box_reg: 0.3090 (0.3084)  loss_objectness: 0.0310 (0.0332)  loss_rpn_box_reg: 0.0528 (0.0750)  time: 7.8357  data: 6.3823  max mem: 11524\n",
      "Epoch: [2]  [ 40/324]  eta: 0:37:03  lr: 0.010000  loss: 0.6125 (0.6307)  loss_classifier: 0.2151 (0.2208)  loss_box_reg: 0.2970 (0.3035)  loss_objectness: 0.0295 (0.0321)  loss_rpn_box_reg: 0.0663 (0.0743)  time: 7.8612  data: 6.4081  max mem: 11524\n",
      "Epoch: [2]  [ 60/324]  eta: 0:34:30  lr: 0.010000  loss: 0.6443 (0.6420)  loss_classifier: 0.2266 (0.2220)  loss_box_reg: 0.3104 (0.3091)  loss_objectness: 0.0342 (0.0334)  loss_rpn_box_reg: 0.0785 (0.0775)  time: 7.8716  data: 6.4168  max mem: 11524\n",
      "Epoch: [2]  [ 80/324]  eta: 0:31:39  lr: 0.010000  loss: 0.6364 (0.6420)  loss_classifier: 0.2123 (0.2227)  loss_box_reg: 0.3141 (0.3098)  loss_objectness: 0.0322 (0.0333)  loss_rpn_box_reg: 0.0650 (0.0762)  time: 7.6057  data: 6.1523  max mem: 11524\n",
      "Epoch: [2]  [100/324]  eta: 0:28:55  lr: 0.010000  loss: 0.6697 (0.6472)  loss_classifier: 0.2263 (0.2237)  loss_box_reg: 0.3152 (0.3104)  loss_objectness: 0.0351 (0.0349)  loss_rpn_box_reg: 0.0796 (0.0782)  time: 7.5865  data: 6.1324  max mem: 11524\n",
      "Epoch: [2]  [120/324]  eta: 0:26:24  lr: 0.010000  loss: 0.6204 (0.6436)  loss_classifier: 0.2130 (0.2226)  loss_box_reg: 0.3012 (0.3088)  loss_objectness: 0.0280 (0.0344)  loss_rpn_box_reg: 0.0674 (0.0778)  time: 7.8774  data: 6.4233  max mem: 11524\n",
      "Epoch: [2]  [140/324]  eta: 0:23:54  lr: 0.010000  loss: 0.6536 (0.6439)  loss_classifier: 0.2205 (0.2222)  loss_box_reg: 0.3033 (0.3097)  loss_objectness: 0.0331 (0.0339)  loss_rpn_box_reg: 0.0745 (0.0782)  time: 7.9543  data: 6.5003  max mem: 11524\n",
      "Epoch: [2]  [160/324]  eta: 0:21:19  lr: 0.010000  loss: 0.6811 (0.6463)  loss_classifier: 0.2260 (0.2229)  loss_box_reg: 0.3275 (0.3111)  loss_objectness: 0.0375 (0.0343)  loss_rpn_box_reg: 0.0715 (0.0780)  time: 7.8623  data: 6.4080  max mem: 11524\n",
      "Epoch: [2]  [180/324]  eta: 0:18:46  lr: 0.010000  loss: 0.6610 (0.6485)  loss_classifier: 0.2254 (0.2236)  loss_box_reg: 0.3150 (0.3116)  loss_objectness: 0.0353 (0.0345)  loss_rpn_box_reg: 0.0695 (0.0788)  time: 7.9924  data: 6.5374  max mem: 11524\n",
      "Epoch: [2]  [200/324]  eta: 0:16:10  lr: 0.010000  loss: 0.6150 (0.6461)  loss_classifier: 0.2051 (0.2224)  loss_box_reg: 0.3035 (0.3103)  loss_objectness: 0.0355 (0.0345)  loss_rpn_box_reg: 0.0741 (0.0788)  time: 7.8273  data: 6.3716  max mem: 11524\n",
      "Epoch: [2]  [220/324]  eta: 0:13:31  lr: 0.010000  loss: 0.6261 (0.6471)  loss_classifier: 0.2162 (0.2236)  loss_box_reg: 0.3131 (0.3106)  loss_objectness: 0.0318 (0.0346)  loss_rpn_box_reg: 0.0766 (0.0784)  time: 7.6334  data: 6.1775  max mem: 11524\n",
      "Epoch: [2]  [240/324]  eta: 0:10:55  lr: 0.010000  loss: 0.6365 (0.6467)  loss_classifier: 0.2208 (0.2238)  loss_box_reg: 0.3173 (0.3103)  loss_objectness: 0.0345 (0.0345)  loss_rpn_box_reg: 0.0721 (0.0782)  time: 7.8215  data: 6.3679  max mem: 11524\n",
      "Epoch: [2]  [260/324]  eta: 0:08:20  lr: 0.010000  loss: 0.6805 (0.6489)  loss_classifier: 0.2269 (0.2244)  loss_box_reg: 0.3087 (0.3102)  loss_objectness: 0.0367 (0.0347)  loss_rpn_box_reg: 0.0980 (0.0796)  time: 7.9701  data: 6.5160  max mem: 11524\n",
      "Epoch: [2]  [280/324]  eta: 0:05:44  lr: 0.010000  loss: 0.6441 (0.6501)  loss_classifier: 0.2338 (0.2250)  loss_box_reg: 0.3196 (0.3108)  loss_objectness: 0.0345 (0.0348)  loss_rpn_box_reg: 0.0747 (0.0795)  time: 7.9032  data: 6.4469  max mem: 11524\n",
      "Epoch: [2]  [300/324]  eta: 0:03:07  lr: 0.010000  loss: 0.6118 (0.6488)  loss_classifier: 0.2159 (0.2245)  loss_box_reg: 0.3003 (0.3099)  loss_objectness: 0.0282 (0.0346)  loss_rpn_box_reg: 0.0665 (0.0798)  time: 7.6662  data: 6.2120  max mem: 11524\n",
      "Epoch: [2]  [320/324]  eta: 0:00:31  lr: 0.010000  loss: 0.6181 (0.6483)  loss_classifier: 0.2160 (0.2241)  loss_box_reg: 0.2974 (0.3094)  loss_objectness: 0.0330 (0.0348)  loss_rpn_box_reg: 0.0719 (0.0801)  time: 7.5700  data: 6.1161  max mem: 11524\n"
     ]
    },
    {
     "name": "stderr",
     "output_type": "stream",
     "text": [
      "2025-01-14 04:51:08,965 - INFO - Evaluating on validation set...\n"
     ]
    },
    {
     "name": "stdout",
     "output_type": "stream",
     "text": [
      "Epoch: [2]  [323/324]  eta: 0:00:07  lr: 0.010000  loss: 0.6181 (0.6482)  loss_classifier: 0.2160 (0.2241)  loss_box_reg: 0.3024 (0.3092)  loss_objectness: 0.0388 (0.0349)  loss_rpn_box_reg: 0.0716 (0.0800)  time: 7.4267  data: 5.9767  max mem: 11524\n",
      "Epoch: [2] Total time: 0:42:05 (7.7961 s / it)\n",
      "creating index...\n",
      "index created!\n",
      "Test:  [ 0/81]  eta: 0:07:24  model_time: 0.7050 (0.7050)  evaluator_time: 0.0592 (0.0592)  time: 5.4918  data: 4.7092  max mem: 11524\n",
      "Test:  [80/81]  eta: 0:00:06  model_time: 0.6887 (0.6904)  evaluator_time: 0.0700 (0.0661)  time: 6.2820  data: 5.5018  max mem: 11524\n",
      "Test: Total time: 0:09:06 (6.7409 s / it)\n",
      "Averaged stats: model_time: 0.6887 (0.6904)  evaluator_time: 0.0700 (0.0661)\n",
      "Accumulating evaluation results...\n"
     ]
    },
    {
     "name": "stderr",
     "output_type": "stream",
     "text": [
      "2025-01-14 05:08:34,234 - INFO - Validation metrics after epoch 3: <coco_eval.CocoEvaluator object at 0x7900076b8220>\n",
      "2025-01-14 05:08:34,236 - INFO - Starting epoch 4/10\n"
     ]
    },
    {
     "name": "stdout",
     "output_type": "stream",
     "text": [
      "DONE (t=1.82s).\n",
      "IoU metric: bbox\n",
      " Average Precision  (AP) @[ IoU=0.50:0.95 | area=   all | maxDets=100 ] = 0.213\n",
      " Average Precision  (AP) @[ IoU=0.50      | area=   all | maxDets=100 ] = 0.388\n",
      " Average Precision  (AP) @[ IoU=0.75      | area=   all | maxDets=100 ] = 0.211\n",
      " Average Precision  (AP) @[ IoU=0.50:0.95 | area= small | maxDets=100 ] = 0.098\n",
      " Average Precision  (AP) @[ IoU=0.50:0.95 | area=medium | maxDets=100 ] = 0.244\n",
      " Average Precision  (AP) @[ IoU=0.50:0.95 | area= large | maxDets=100 ] = 0.262\n",
      " Average Recall     (AR) @[ IoU=0.50:0.95 | area=   all | maxDets=  1 ] = 0.197\n",
      " Average Recall     (AR) @[ IoU=0.50:0.95 | area=   all | maxDets= 10 ] = 0.326\n",
      " Average Recall     (AR) @[ IoU=0.50:0.95 | area=   all | maxDets=100 ] = 0.331\n",
      " Average Recall     (AR) @[ IoU=0.50:0.95 | area= small | maxDets=100 ] = 0.161\n",
      " Average Recall     (AR) @[ IoU=0.50:0.95 | area=medium | maxDets=100 ] = 0.363\n",
      " Average Recall     (AR) @[ IoU=0.50:0.95 | area= large | maxDets=100 ] = 0.413\n",
      "Epoch: [3]  [  0/324]  eta: 0:37:51  lr: 0.010000  loss: 0.6251 (0.6251)  loss_classifier: 0.2348 (0.2348)  loss_box_reg: 0.2982 (0.2982)  loss_objectness: 0.0280 (0.0280)  loss_rpn_box_reg: 0.0642 (0.0642)  time: 7.0102  data: 5.5516  max mem: 11524\n",
      "Epoch: [3]  [ 20/324]  eta: 0:34:43  lr: 0.010000  loss: 0.5615 (0.5809)  loss_classifier: 0.1877 (0.1950)  loss_box_reg: 0.2839 (0.2818)  loss_objectness: 0.0241 (0.0266)  loss_rpn_box_reg: 0.0671 (0.0775)  time: 6.8472  data: 5.3945  max mem: 11524\n",
      "Epoch: [3]  [ 40/324]  eta: 0:31:43  lr: 0.010000  loss: 0.5430 (0.5667)  loss_classifier: 0.1911 (0.1907)  loss_box_reg: 0.2689 (0.2765)  loss_objectness: 0.0239 (0.0255)  loss_rpn_box_reg: 0.0588 (0.0740)  time: 6.5415  data: 5.0901  max mem: 11524\n",
      "Epoch: [3]  [ 60/324]  eta: 0:29:36  lr: 0.010000  loss: 0.5590 (0.5694)  loss_classifier: 0.1938 (0.1920)  loss_box_reg: 0.2900 (0.2813)  loss_objectness: 0.0223 (0.0248)  loss_rpn_box_reg: 0.0574 (0.0712)  time: 6.7840  data: 5.3312  max mem: 11524\n",
      "Epoch: [3]  [ 80/324]  eta: 0:27:26  lr: 0.010000  loss: 0.5364 (0.5641)  loss_classifier: 0.1896 (0.1925)  loss_box_reg: 0.2663 (0.2792)  loss_objectness: 0.0217 (0.0241)  loss_rpn_box_reg: 0.0496 (0.0683)  time: 6.8088  data: 5.3554  max mem: 11524\n",
      "Epoch: [3]  [100/324]  eta: 0:24:59  lr: 0.010000  loss: 0.5921 (0.5727)  loss_classifier: 0.1993 (0.1967)  loss_box_reg: 0.2964 (0.2825)  loss_objectness: 0.0247 (0.0244)  loss_rpn_box_reg: 0.0710 (0.0691)  time: 6.4705  data: 5.0159  max mem: 11524\n",
      "Epoch: [3]  [120/324]  eta: 0:22:57  lr: 0.010000  loss: 0.6002 (0.5784)  loss_classifier: 0.1972 (0.1979)  loss_box_reg: 0.2943 (0.2855)  loss_objectness: 0.0252 (0.0246)  loss_rpn_box_reg: 0.0695 (0.0704)  time: 7.0395  data: 5.5830  max mem: 11524\n",
      "Epoch: [3]  [140/324]  eta: 0:20:49  lr: 0.010000  loss: 0.5912 (0.5818)  loss_classifier: 0.2033 (0.1995)  loss_box_reg: 0.2876 (0.2861)  loss_objectness: 0.0278 (0.0252)  loss_rpn_box_reg: 0.0688 (0.0710)  time: 7.0304  data: 5.5752  max mem: 11524\n",
      "Epoch: [3]  [160/324]  eta: 0:18:36  lr: 0.010000  loss: 0.5854 (0.5832)  loss_classifier: 0.2034 (0.2003)  loss_box_reg: 0.2935 (0.2876)  loss_objectness: 0.0227 (0.0250)  loss_rpn_box_reg: 0.0487 (0.0702)  time: 6.9077  data: 5.4563  max mem: 11524\n",
      "Epoch: [3]  [180/324]  eta: 0:16:16  lr: 0.010000  loss: 0.5859 (0.5836)  loss_classifier: 0.2007 (0.2004)  loss_box_reg: 0.2862 (0.2881)  loss_objectness: 0.0252 (0.0250)  loss_rpn_box_reg: 0.0712 (0.0700)  time: 6.6015  data: 5.1480  max mem: 11524\n",
      "Epoch: [3]  [200/324]  eta: 0:14:03  lr: 0.010000  loss: 0.6170 (0.5863)  loss_classifier: 0.2116 (0.2012)  loss_box_reg: 0.2972 (0.2891)  loss_objectness: 0.0254 (0.0252)  loss_rpn_box_reg: 0.0732 (0.0708)  time: 6.9982  data: 5.5434  max mem: 11524\n",
      "Epoch: [3]  [220/324]  eta: 0:11:46  lr: 0.010000  loss: 0.5874 (0.5871)  loss_classifier: 0.2026 (0.2014)  loss_box_reg: 0.2925 (0.2891)  loss_objectness: 0.0283 (0.0256)  loss_rpn_box_reg: 0.0642 (0.0710)  time: 6.7152  data: 5.2604  max mem: 11524\n",
      "Epoch: [3]  [240/324]  eta: 0:09:31  lr: 0.010000  loss: 0.5592 (0.5859)  loss_classifier: 0.1932 (0.2011)  loss_box_reg: 0.2823 (0.2889)  loss_objectness: 0.0225 (0.0255)  loss_rpn_box_reg: 0.0625 (0.0704)  time: 6.9215  data: 5.4688  max mem: 11524\n",
      "Epoch: [3]  [260/324]  eta: 0:07:14  lr: 0.010000  loss: 0.5821 (0.5871)  loss_classifier: 0.1962 (0.2010)  loss_box_reg: 0.2827 (0.2891)  loss_objectness: 0.0254 (0.0255)  loss_rpn_box_reg: 0.0750 (0.0715)  time: 6.6314  data: 5.1772  max mem: 11524\n",
      "Epoch: [3]  [280/324]  eta: 0:04:59  lr: 0.010000  loss: 0.6085 (0.5878)  loss_classifier: 0.1931 (0.2009)  loss_box_reg: 0.2924 (0.2891)  loss_objectness: 0.0251 (0.0256)  loss_rpn_box_reg: 0.0712 (0.0723)  time: 6.8349  data: 5.3805  max mem: 11524\n",
      "Epoch: [3]  [300/324]  eta: 0:02:43  lr: 0.010000  loss: 0.5897 (0.5877)  loss_classifier: 0.1910 (0.2008)  loss_box_reg: 0.2858 (0.2891)  loss_objectness: 0.0236 (0.0256)  loss_rpn_box_reg: 0.0644 (0.0722)  time: 6.8760  data: 5.4215  max mem: 11524\n",
      "Epoch: [3]  [320/324]  eta: 0:00:27  lr: 0.010000  loss: 0.5587 (0.5874)  loss_classifier: 0.1940 (0.2006)  loss_box_reg: 0.2867 (0.2888)  loss_objectness: 0.0248 (0.0256)  loss_rpn_box_reg: 0.0711 (0.0724)  time: 6.8234  data: 5.3706  max mem: 11524\n"
     ]
    },
    {
     "name": "stderr",
     "output_type": "stream",
     "text": [
      "2025-01-14 05:45:16,919 - INFO - Evaluating on validation set...\n"
     ]
    },
    {
     "name": "stdout",
     "output_type": "stream",
     "text": [
      "Epoch: [3]  [323/324]  eta: 0:00:06  lr: 0.010000  loss: 0.5598 (0.5870)  loss_classifier: 0.1888 (0.2004)  loss_box_reg: 0.2841 (0.2886)  loss_objectness: 0.0248 (0.0256)  loss_rpn_box_reg: 0.0768 (0.0724)  time: 6.7627  data: 5.3135  max mem: 11524\n",
      "Epoch: [3] Total time: 0:36:42 (6.7984 s / it)\n",
      "creating index...\n",
      "index created!\n",
      "Test:  [ 0/81]  eta: 0:06:36  model_time: 0.7024 (0.7024)  evaluator_time: 0.0575 (0.0575)  time: 4.8997  data: 4.1214  max mem: 11524\n",
      "Test:  [80/81]  eta: 0:00:06  model_time: 0.6881 (0.6906)  evaluator_time: 0.0623 (0.0650)  time: 6.5052  data: 5.7176  max mem: 11524\n",
      "Test: Total time: 0:08:10 (6.0512 s / it)\n",
      "Averaged stats: model_time: 0.6881 (0.6906)  evaluator_time: 0.0623 (0.0650)\n",
      "Accumulating evaluation results...\n"
     ]
    },
    {
     "name": "stderr",
     "output_type": "stream",
     "text": [
      "2025-01-14 06:00:27,239 - INFO - Validation metrics after epoch 4: <coco_eval.CocoEvaluator object at 0x79000780b580>\n",
      "2025-01-14 06:00:27,241 - INFO - Starting epoch 5/10\n"
     ]
    },
    {
     "name": "stdout",
     "output_type": "stream",
     "text": [
      "DONE (t=1.32s).\n",
      "IoU metric: bbox\n",
      " Average Precision  (AP) @[ IoU=0.50:0.95 | area=   all | maxDets=100 ] = 0.233\n",
      " Average Precision  (AP) @[ IoU=0.50      | area=   all | maxDets=100 ] = 0.432\n",
      " Average Precision  (AP) @[ IoU=0.75      | area=   all | maxDets=100 ] = 0.227\n",
      " Average Precision  (AP) @[ IoU=0.50:0.95 | area= small | maxDets=100 ] = 0.104\n",
      " Average Precision  (AP) @[ IoU=0.50:0.95 | area=medium | maxDets=100 ] = 0.270\n",
      " Average Precision  (AP) @[ IoU=0.50:0.95 | area= large | maxDets=100 ] = 0.302\n",
      " Average Recall     (AR) @[ IoU=0.50:0.95 | area=   all | maxDets=  1 ] = 0.211\n",
      " Average Recall     (AR) @[ IoU=0.50:0.95 | area=   all | maxDets= 10 ] = 0.346\n",
      " Average Recall     (AR) @[ IoU=0.50:0.95 | area=   all | maxDets=100 ] = 0.350\n",
      " Average Recall     (AR) @[ IoU=0.50:0.95 | area= small | maxDets=100 ] = 0.176\n",
      " Average Recall     (AR) @[ IoU=0.50:0.95 | area=medium | maxDets=100 ] = 0.389\n",
      " Average Recall     (AR) @[ IoU=0.50:0.95 | area= large | maxDets=100 ] = 0.440\n",
      "Epoch: [4]  [  0/324]  eta: 0:36:24  lr: 0.010000  loss: 0.5480 (0.5480)  loss_classifier: 0.1671 (0.1671)  loss_box_reg: 0.2884 (0.2884)  loss_objectness: 0.0176 (0.0176)  loss_rpn_box_reg: 0.0749 (0.0749)  time: 6.7422  data: 5.2925  max mem: 11524\n",
      "Epoch: [4]  [ 20/324]  eta: 0:36:10  lr: 0.010000  loss: 0.5761 (0.5702)  loss_classifier: 0.1919 (0.1927)  loss_box_reg: 0.2862 (0.2883)  loss_objectness: 0.0183 (0.0208)  loss_rpn_box_reg: 0.0579 (0.0685)  time: 7.1595  data: 5.7043  max mem: 11524\n",
      "Epoch: [4]  [ 40/324]  eta: 0:33:49  lr: 0.010000  loss: 0.5198 (0.5503)  loss_classifier: 0.1770 (0.1843)  loss_box_reg: 0.2675 (0.2788)  loss_objectness: 0.0158 (0.0192)  loss_rpn_box_reg: 0.0598 (0.0678)  time: 7.1514  data: 5.6956  max mem: 11524\n",
      "Epoch: [4]  [ 60/324]  eta: 0:31:37  lr: 0.010000  loss: 0.5178 (0.5478)  loss_classifier: 0.1756 (0.1816)  loss_box_reg: 0.2705 (0.2770)  loss_objectness: 0.0183 (0.0195)  loss_rpn_box_reg: 0.0598 (0.0697)  time: 7.2698  data: 5.8139  max mem: 11524\n",
      "Epoch: [4]  [ 80/324]  eta: 0:29:08  lr: 0.010000  loss: 0.5081 (0.5376)  loss_classifier: 0.1796 (0.1805)  loss_box_reg: 0.2548 (0.2725)  loss_objectness: 0.0171 (0.0188)  loss_rpn_box_reg: 0.0429 (0.0659)  time: 7.1119  data: 5.6559  max mem: 11524\n",
      "Epoch: [4]  [100/324]  eta: 0:26:50  lr: 0.010000  loss: 0.5301 (0.5377)  loss_classifier: 0.1828 (0.1817)  loss_box_reg: 0.2650 (0.2716)  loss_objectness: 0.0181 (0.0187)  loss_rpn_box_reg: 0.0536 (0.0657)  time: 7.2781  data: 5.8224  max mem: 11524\n",
      "Epoch: [4]  [120/324]  eta: 0:24:30  lr: 0.010000  loss: 0.5346 (0.5399)  loss_classifier: 0.1792 (0.1821)  loss_box_reg: 0.2725 (0.2721)  loss_objectness: 0.0189 (0.0188)  loss_rpn_box_reg: 0.0631 (0.0670)  time: 7.2885  data: 5.8330  max mem: 11524\n",
      "Epoch: [4]  [140/324]  eta: 0:21:57  lr: 0.010000  loss: 0.5379 (0.5408)  loss_classifier: 0.1792 (0.1822)  loss_box_reg: 0.2683 (0.2726)  loss_objectness: 0.0207 (0.0190)  loss_rpn_box_reg: 0.0652 (0.0670)  time: 6.9009  data: 5.4466  max mem: 11524\n",
      "Epoch: [4]  [160/324]  eta: 0:19:36  lr: 0.010000  loss: 0.5514 (0.5405)  loss_classifier: 0.1846 (0.1818)  loss_box_reg: 0.2755 (0.2732)  loss_objectness: 0.0198 (0.0191)  loss_rpn_box_reg: 0.0622 (0.0665)  time: 7.2357  data: 5.7800  max mem: 11524\n",
      "Epoch: [4]  [180/324]  eta: 0:17:09  lr: 0.010000  loss: 0.5033 (0.5367)  loss_classifier: 0.1738 (0.1808)  loss_box_reg: 0.2674 (0.2721)  loss_objectness: 0.0165 (0.0189)  loss_rpn_box_reg: 0.0494 (0.0650)  time: 6.9503  data: 5.4956  max mem: 11524\n",
      "Epoch: [4]  [200/324]  eta: 0:14:45  lr: 0.010000  loss: 0.5136 (0.5362)  loss_classifier: 0.1700 (0.1797)  loss_box_reg: 0.2622 (0.2716)  loss_objectness: 0.0194 (0.0191)  loss_rpn_box_reg: 0.0778 (0.0658)  time: 7.1169  data: 5.6621  max mem: 11524\n",
      "Epoch: [4]  [220/324]  eta: 0:12:22  lr: 0.010000  loss: 0.4960 (0.5339)  loss_classifier: 0.1640 (0.1791)  loss_box_reg: 0.2545 (0.2711)  loss_objectness: 0.0185 (0.0191)  loss_rpn_box_reg: 0.0416 (0.0645)  time: 7.1028  data: 5.6487  max mem: 11524\n",
      "Epoch: [4]  [240/324]  eta: 0:09:58  lr: 0.010000  loss: 0.5114 (0.5346)  loss_classifier: 0.1710 (0.1793)  loss_box_reg: 0.2667 (0.2713)  loss_objectness: 0.0186 (0.0191)  loss_rpn_box_reg: 0.0637 (0.0649)  time: 6.9123  data: 5.4580  max mem: 11524\n",
      "Epoch: [4]  [260/324]  eta: 0:07:36  lr: 0.010000  loss: 0.5303 (0.5352)  loss_classifier: 0.1718 (0.1797)  loss_box_reg: 0.2677 (0.2711)  loss_objectness: 0.0219 (0.0195)  loss_rpn_box_reg: 0.0570 (0.0650)  time: 7.2623  data: 5.8078  max mem: 11524\n",
      "Epoch: [4]  [280/324]  eta: 0:05:12  lr: 0.010000  loss: 0.5418 (0.5366)  loss_classifier: 0.1878 (0.1804)  loss_box_reg: 0.2723 (0.2714)  loss_objectness: 0.0193 (0.0196)  loss_rpn_box_reg: 0.0639 (0.0653)  time: 6.8691  data: 5.4148  max mem: 11524\n",
      "Epoch: [4]  [300/324]  eta: 0:02:50  lr: 0.010000  loss: 0.5503 (0.5378)  loss_classifier: 0.1796 (0.1803)  loss_box_reg: 0.2777 (0.2715)  loss_objectness: 0.0222 (0.0198)  loss_rpn_box_reg: 0.0767 (0.0661)  time: 7.0614  data: 5.6069  max mem: 11524\n",
      "Epoch: [4]  [320/324]  eta: 0:00:28  lr: 0.010000  loss: 0.5558 (0.5389)  loss_classifier: 0.1860 (0.1810)  loss_box_reg: 0.2709 (0.2718)  loss_objectness: 0.0210 (0.0198)  loss_rpn_box_reg: 0.0575 (0.0663)  time: 7.1600  data: 5.7054  max mem: 11524\n"
     ]
    },
    {
     "name": "stderr",
     "output_type": "stream",
     "text": [
      "2025-01-14 06:38:52,847 - INFO - Evaluating on validation set...\n"
     ]
    },
    {
     "name": "stdout",
     "output_type": "stream",
     "text": [
      "Epoch: [4]  [323/324]  eta: 0:00:07  lr: 0.010000  loss: 0.5558 (0.5394)  loss_classifier: 0.1787 (0.1811)  loss_box_reg: 0.2706 (0.2721)  loss_objectness: 0.0210 (0.0198)  loss_rpn_box_reg: 0.0575 (0.0664)  time: 7.1169  data: 5.6656  max mem: 11524\n",
      "Epoch: [4] Total time: 0:38:25 (7.1161 s / it)\n",
      "creating index...\n",
      "index created!\n",
      "Test:  [ 0/81]  eta: 0:06:50  model_time: 0.7014 (0.7014)  evaluator_time: 0.0544 (0.0544)  time: 5.0726  data: 4.2978  max mem: 11524\n",
      "Test:  [80/81]  eta: 0:00:06  model_time: 0.6882 (0.6906)  evaluator_time: 0.0590 (0.0634)  time: 6.6142  data: 5.8422  max mem: 11524\n",
      "Test: Total time: 0:08:36 (6.3725 s / it)\n",
      "Averaged stats: model_time: 0.6882 (0.6906)  evaluator_time: 0.0590 (0.0634)\n",
      "Accumulating evaluation results...\n"
     ]
    },
    {
     "name": "stderr",
     "output_type": "stream",
     "text": [
      "2025-01-14 06:54:53,219 - INFO - Validation metrics after epoch 5: <coco_eval.CocoEvaluator object at 0x7900076bb160>\n",
      "2025-01-14 06:54:53,221 - INFO - Starting epoch 6/10\n"
     ]
    },
    {
     "name": "stdout",
     "output_type": "stream",
     "text": [
      "DONE (t=1.33s).\n",
      "IoU metric: bbox\n",
      " Average Precision  (AP) @[ IoU=0.50:0.95 | area=   all | maxDets=100 ] = 0.235\n",
      " Average Precision  (AP) @[ IoU=0.50      | area=   all | maxDets=100 ] = 0.434\n",
      " Average Precision  (AP) @[ IoU=0.75      | area=   all | maxDets=100 ] = 0.225\n",
      " Average Precision  (AP) @[ IoU=0.50:0.95 | area= small | maxDets=100 ] = 0.100\n",
      " Average Precision  (AP) @[ IoU=0.50:0.95 | area=medium | maxDets=100 ] = 0.268\n",
      " Average Precision  (AP) @[ IoU=0.50:0.95 | area= large | maxDets=100 ] = 0.296\n",
      " Average Recall     (AR) @[ IoU=0.50:0.95 | area=   all | maxDets=  1 ] = 0.215\n",
      " Average Recall     (AR) @[ IoU=0.50:0.95 | area=   all | maxDets= 10 ] = 0.358\n",
      " Average Recall     (AR) @[ IoU=0.50:0.95 | area=   all | maxDets=100 ] = 0.363\n",
      " Average Recall     (AR) @[ IoU=0.50:0.95 | area= small | maxDets=100 ] = 0.177\n",
      " Average Recall     (AR) @[ IoU=0.50:0.95 | area=medium | maxDets=100 ] = 0.390\n",
      " Average Recall     (AR) @[ IoU=0.50:0.95 | area= large | maxDets=100 ] = 0.470\n",
      "Epoch: [5]  [  0/324]  eta: 0:42:50  lr: 0.010000  loss: 0.5451 (0.5451)  loss_classifier: 0.1810 (0.1810)  loss_box_reg: 0.2802 (0.2802)  loss_objectness: 0.0254 (0.0254)  loss_rpn_box_reg: 0.0586 (0.0586)  time: 7.9338  data: 6.4717  max mem: 11524\n",
      "Epoch: [5]  [ 20/324]  eta: 0:37:42  lr: 0.010000  loss: 0.4834 (0.4820)  loss_classifier: 0.1533 (0.1575)  loss_box_reg: 0.2458 (0.2486)  loss_objectness: 0.0149 (0.0165)  loss_rpn_box_reg: 0.0541 (0.0593)  time: 7.4181  data: 5.9627  max mem: 11524\n",
      "Epoch: [5]  [ 40/324]  eta: 0:34:45  lr: 0.010000  loss: 0.4401 (0.4737)  loss_classifier: 0.1486 (0.1566)  loss_box_reg: 0.2417 (0.2471)  loss_objectness: 0.0119 (0.0148)  loss_rpn_box_reg: 0.0376 (0.0552)  time: 7.2360  data: 5.7817  max mem: 11524\n",
      "Epoch: [5]  [ 60/324]  eta: 0:32:25  lr: 0.010000  loss: 0.4917 (0.4811)  loss_classifier: 0.1535 (0.1570)  loss_box_reg: 0.2530 (0.2509)  loss_objectness: 0.0154 (0.0151)  loss_rpn_box_reg: 0.0629 (0.0580)  time: 7.4311  data: 5.9768  max mem: 11524\n",
      "Epoch: [5]  [ 80/324]  eta: 0:30:07  lr: 0.010000  loss: 0.4855 (0.4873)  loss_classifier: 0.1623 (0.1601)  loss_box_reg: 0.2626 (0.2531)  loss_objectness: 0.0155 (0.0154)  loss_rpn_box_reg: 0.0546 (0.0586)  time: 7.5252  data: 6.0720  max mem: 11524\n",
      "Epoch: [5]  [100/324]  eta: 0:27:34  lr: 0.010000  loss: 0.4924 (0.4903)  loss_classifier: 0.1646 (0.1618)  loss_box_reg: 0.2409 (0.2528)  loss_objectness: 0.0171 (0.0158)  loss_rpn_box_reg: 0.0580 (0.0600)  time: 7.2917  data: 5.8373  max mem: 11524\n",
      "Epoch: [5]  [120/324]  eta: 0:24:58  lr: 0.010000  loss: 0.4792 (0.4922)  loss_classifier: 0.1626 (0.1625)  loss_box_reg: 0.2521 (0.2527)  loss_objectness: 0.0156 (0.0159)  loss_rpn_box_reg: 0.0521 (0.0611)  time: 7.1530  data: 5.7005  max mem: 11524\n",
      "Epoch: [5]  [140/324]  eta: 0:22:25  lr: 0.010000  loss: 0.5032 (0.4937)  loss_classifier: 0.1527 (0.1625)  loss_box_reg: 0.2494 (0.2531)  loss_objectness: 0.0163 (0.0162)  loss_rpn_box_reg: 0.0612 (0.0618)  time: 7.1138  data: 5.6603  max mem: 11524\n",
      "Epoch: [5]  [160/324]  eta: 0:19:55  lr: 0.010000  loss: 0.5089 (0.4950)  loss_classifier: 0.1697 (0.1631)  loss_box_reg: 0.2634 (0.2541)  loss_objectness: 0.0153 (0.0162)  loss_rpn_box_reg: 0.0552 (0.0616)  time: 7.1358  data: 5.6830  max mem: 11524\n",
      "Epoch: [5]  [180/324]  eta: 0:17:28  lr: 0.010000  loss: 0.4902 (0.4952)  loss_classifier: 0.1638 (0.1631)  loss_box_reg: 0.2558 (0.2549)  loss_objectness: 0.0146 (0.0162)  loss_rpn_box_reg: 0.0459 (0.0610)  time: 7.1691  data: 5.7157  max mem: 11524\n",
      "Epoch: [5]  [200/324]  eta: 0:15:04  lr: 0.010000  loss: 0.4960 (0.4961)  loss_classifier: 0.1607 (0.1632)  loss_box_reg: 0.2514 (0.2552)  loss_objectness: 0.0157 (0.0162)  loss_rpn_box_reg: 0.0618 (0.0615)  time: 7.4196  data: 5.9661  max mem: 11524\n",
      "Epoch: [5]  [220/324]  eta: 0:12:37  lr: 0.010000  loss: 0.4967 (0.4967)  loss_classifier: 0.1658 (0.1636)  loss_box_reg: 0.2656 (0.2560)  loss_objectness: 0.0154 (0.0162)  loss_rpn_box_reg: 0.0483 (0.0609)  time: 7.1735  data: 5.7198  max mem: 11524\n",
      "Epoch: [5]  [240/324]  eta: 0:10:11  lr: 0.010000  loss: 0.4852 (0.4964)  loss_classifier: 0.1531 (0.1633)  loss_box_reg: 0.2580 (0.2560)  loss_objectness: 0.0164 (0.0162)  loss_rpn_box_reg: 0.0583 (0.0610)  time: 7.2200  data: 5.7677  max mem: 11524\n",
      "Epoch: [5]  [260/324]  eta: 0:07:45  lr: 0.010000  loss: 0.5055 (0.4969)  loss_classifier: 0.1703 (0.1637)  loss_box_reg: 0.2517 (0.2562)  loss_objectness: 0.0151 (0.0163)  loss_rpn_box_reg: 0.0560 (0.0608)  time: 7.2350  data: 5.7804  max mem: 11524\n",
      "Epoch: [5]  [280/324]  eta: 0:05:19  lr: 0.010000  loss: 0.5060 (0.4979)  loss_classifier: 0.1673 (0.1640)  loss_box_reg: 0.2458 (0.2559)  loss_objectness: 0.0167 (0.0163)  loss_rpn_box_reg: 0.0715 (0.0616)  time: 7.1338  data: 5.6798  max mem: 11524\n",
      "Epoch: [5]  [300/324]  eta: 0:02:54  lr: 0.010000  loss: 0.4800 (0.4977)  loss_classifier: 0.1586 (0.1640)  loss_box_reg: 0.2507 (0.2555)  loss_objectness: 0.0174 (0.0165)  loss_rpn_box_reg: 0.0502 (0.0616)  time: 7.0801  data: 5.6254  max mem: 11524\n",
      "Epoch: [5]  [320/324]  eta: 0:00:28  lr: 0.010000  loss: 0.5140 (0.4981)  loss_classifier: 0.1581 (0.1639)  loss_box_reg: 0.2587 (0.2556)  loss_objectness: 0.0171 (0.0165)  loss_rpn_box_reg: 0.0576 (0.0620)  time: 7.0531  data: 5.5996  max mem: 11524\n"
     ]
    },
    {
     "name": "stderr",
     "output_type": "stream",
     "text": [
      "2025-01-14 07:33:56,217 - INFO - Evaluating on validation set...\n"
     ]
    },
    {
     "name": "stdout",
     "output_type": "stream",
     "text": [
      "Epoch: [5]  [323/324]  eta: 0:00:07  lr: 0.010000  loss: 0.5329 (0.4990)  loss_classifier: 0.1645 (0.1642)  loss_box_reg: 0.2603 (0.2558)  loss_objectness: 0.0175 (0.0166)  loss_rpn_box_reg: 0.0627 (0.0624)  time: 6.9579  data: 5.5080  max mem: 11524\n",
      "Epoch: [5] Total time: 0:39:02 (7.2315 s / it)\n",
      "creating index...\n",
      "index created!\n",
      "Test:  [ 0/81]  eta: 0:07:10  model_time: 0.7072 (0.7072)  evaluator_time: 0.0560 (0.0560)  time: 5.3116  data: 4.5299  max mem: 11524\n",
      "Test:  [80/81]  eta: 0:00:06  model_time: 0.6891 (0.6911)  evaluator_time: 0.0593 (0.0610)  time: 7.1472  data: 6.3637  max mem: 11524\n",
      "Test: Total time: 0:09:14 (6.8444 s / it)\n",
      "Averaged stats: model_time: 0.6891 (0.6911)  evaluator_time: 0.0593 (0.0610)\n",
      "Accumulating evaluation results...\n"
     ]
    },
    {
     "name": "stderr",
     "output_type": "stream",
     "text": [
      "2025-01-14 07:50:42,118 - INFO - Validation metrics after epoch 6: <coco_eval.CocoEvaluator object at 0x7900c267cac0>\n",
      "2025-01-14 07:50:42,120 - INFO - Starting epoch 7/10\n"
     ]
    },
    {
     "name": "stdout",
     "output_type": "stream",
     "text": [
      "DONE (t=1.27s).\n",
      "IoU metric: bbox\n",
      " Average Precision  (AP) @[ IoU=0.50:0.95 | area=   all | maxDets=100 ] = 0.248\n",
      " Average Precision  (AP) @[ IoU=0.50      | area=   all | maxDets=100 ] = 0.458\n",
      " Average Precision  (AP) @[ IoU=0.75      | area=   all | maxDets=100 ] = 0.238\n",
      " Average Precision  (AP) @[ IoU=0.50:0.95 | area= small | maxDets=100 ] = 0.113\n",
      " Average Precision  (AP) @[ IoU=0.50:0.95 | area=medium | maxDets=100 ] = 0.273\n",
      " Average Precision  (AP) @[ IoU=0.50:0.95 | area= large | maxDets=100 ] = 0.315\n",
      " Average Recall     (AR) @[ IoU=0.50:0.95 | area=   all | maxDets=  1 ] = 0.229\n",
      " Average Recall     (AR) @[ IoU=0.50:0.95 | area=   all | maxDets= 10 ] = 0.384\n",
      " Average Recall     (AR) @[ IoU=0.50:0.95 | area=   all | maxDets=100 ] = 0.388\n",
      " Average Recall     (AR) @[ IoU=0.50:0.95 | area= small | maxDets=100 ] = 0.192\n",
      " Average Recall     (AR) @[ IoU=0.50:0.95 | area=medium | maxDets=100 ] = 0.399\n",
      " Average Recall     (AR) @[ IoU=0.50:0.95 | area= large | maxDets=100 ] = 0.462\n",
      "Epoch: [6]  [  0/324]  eta: 0:43:50  lr: 0.010000  loss: 0.3742 (0.3742)  loss_classifier: 0.1214 (0.1214)  loss_box_reg: 0.2190 (0.2190)  loss_objectness: 0.0132 (0.0132)  loss_rpn_box_reg: 0.0206 (0.0206)  time: 8.1201  data: 6.6676  max mem: 11524\n",
      "Epoch: [6]  [ 20/324]  eta: 0:39:10  lr: 0.010000  loss: 0.4575 (0.4515)  loss_classifier: 0.1367 (0.1439)  loss_box_reg: 0.2359 (0.2391)  loss_objectness: 0.0117 (0.0133)  loss_rpn_box_reg: 0.0458 (0.0551)  time: 7.7117  data: 6.2567  max mem: 11524\n",
      "Epoch: [6]  [ 40/324]  eta: 0:36:08  lr: 0.010000  loss: 0.4436 (0.4528)  loss_classifier: 0.1426 (0.1449)  loss_box_reg: 0.2367 (0.2398)  loss_objectness: 0.0144 (0.0133)  loss_rpn_box_reg: 0.0501 (0.0548)  time: 7.5369  data: 6.0817  max mem: 11524\n",
      "Epoch: [6]  [ 60/324]  eta: 0:33:47  lr: 0.010000  loss: 0.4609 (0.4535)  loss_classifier: 0.1442 (0.1442)  loss_box_reg: 0.2394 (0.2396)  loss_objectness: 0.0142 (0.0138)  loss_rpn_box_reg: 0.0617 (0.0560)  time: 7.7668  data: 6.3107  max mem: 11524\n",
      "Epoch: [6]  [ 80/324]  eta: 0:31:10  lr: 0.010000  loss: 0.4255 (0.4548)  loss_classifier: 0.1396 (0.1451)  loss_box_reg: 0.2378 (0.2404)  loss_objectness: 0.0120 (0.0135)  loss_rpn_box_reg: 0.0427 (0.0558)  time: 7.6292  data: 6.1730  max mem: 11524\n",
      "Epoch: [6]  [100/324]  eta: 0:28:42  lr: 0.010000  loss: 0.4502 (0.4556)  loss_classifier: 0.1402 (0.1453)  loss_box_reg: 0.2391 (0.2414)  loss_objectness: 0.0131 (0.0134)  loss_rpn_box_reg: 0.0462 (0.0555)  time: 7.7729  data: 6.3182  max mem: 11524\n",
      "Epoch: [6]  [120/324]  eta: 0:25:58  lr: 0.010000  loss: 0.4571 (0.4587)  loss_classifier: 0.1508 (0.1470)  loss_box_reg: 0.2456 (0.2423)  loss_objectness: 0.0132 (0.0135)  loss_rpn_box_reg: 0.0535 (0.0559)  time: 7.4008  data: 5.9459  max mem: 11524\n",
      "Epoch: [6]  [140/324]  eta: 0:23:28  lr: 0.010000  loss: 0.4546 (0.4572)  loss_classifier: 0.1478 (0.1477)  loss_box_reg: 0.2284 (0.2407)  loss_objectness: 0.0132 (0.0137)  loss_rpn_box_reg: 0.0464 (0.0551)  time: 7.7609  data: 6.3046  max mem: 11524\n",
      "Epoch: [6]  [160/324]  eta: 0:20:58  lr: 0.010000  loss: 0.4401 (0.4545)  loss_classifier: 0.1321 (0.1467)  loss_box_reg: 0.2224 (0.2386)  loss_objectness: 0.0122 (0.0136)  loss_rpn_box_reg: 0.0517 (0.0556)  time: 7.8013  data: 6.3465  max mem: 11524\n",
      "Epoch: [6]  [180/324]  eta: 0:18:29  lr: 0.010000  loss: 0.4560 (0.4544)  loss_classifier: 0.1419 (0.1467)  loss_box_reg: 0.2415 (0.2389)  loss_objectness: 0.0109 (0.0136)  loss_rpn_box_reg: 0.0460 (0.0552)  time: 7.9272  data: 6.4727  max mem: 11524\n",
      "Epoch: [6]  [200/324]  eta: 0:15:54  lr: 0.010000  loss: 0.4480 (0.4547)  loss_classifier: 0.1475 (0.1466)  loss_box_reg: 0.2354 (0.2389)  loss_objectness: 0.0118 (0.0135)  loss_rpn_box_reg: 0.0570 (0.0557)  time: 7.6457  data: 6.1913  max mem: 11524\n",
      "Epoch: [6]  [220/324]  eta: 0:13:20  lr: 0.010000  loss: 0.4634 (0.4563)  loss_classifier: 0.1478 (0.1467)  loss_box_reg: 0.2414 (0.2392)  loss_objectness: 0.0128 (0.0135)  loss_rpn_box_reg: 0.0695 (0.0568)  time: 7.6545  data: 6.1991  max mem: 11524\n",
      "Epoch: [6]  [240/324]  eta: 0:10:46  lr: 0.010000  loss: 0.4853 (0.4600)  loss_classifier: 0.1647 (0.1480)  loss_box_reg: 0.2554 (0.2407)  loss_objectness: 0.0151 (0.0137)  loss_rpn_box_reg: 0.0677 (0.0576)  time: 7.6810  data: 6.2251  max mem: 11524\n",
      "Epoch: [6]  [260/324]  eta: 0:08:11  lr: 0.010000  loss: 0.4689 (0.4621)  loss_classifier: 0.1588 (0.1488)  loss_box_reg: 0.2422 (0.2411)  loss_objectness: 0.0149 (0.0140)  loss_rpn_box_reg: 0.0619 (0.0582)  time: 7.6010  data: 6.1454  max mem: 11524\n",
      "Epoch: [6]  [280/324]  eta: 0:05:38  lr: 0.010000  loss: 0.4466 (0.4619)  loss_classifier: 0.1438 (0.1486)  loss_box_reg: 0.2342 (0.2408)  loss_objectness: 0.0129 (0.0140)  loss_rpn_box_reg: 0.0521 (0.0584)  time: 7.7521  data: 6.2977  max mem: 11524\n",
      "Epoch: [6]  [300/324]  eta: 0:03:04  lr: 0.010000  loss: 0.4644 (0.4621)  loss_classifier: 0.1541 (0.1490)  loss_box_reg: 0.2394 (0.2410)  loss_objectness: 0.0148 (0.0141)  loss_rpn_box_reg: 0.0539 (0.0581)  time: 7.6518  data: 6.1977  max mem: 11524\n",
      "Epoch: [6]  [320/324]  eta: 0:00:30  lr: 0.010000  loss: 0.4987 (0.4647)  loss_classifier: 0.1614 (0.1499)  loss_box_reg: 0.2616 (0.2421)  loss_objectness: 0.0149 (0.0141)  loss_rpn_box_reg: 0.0633 (0.0586)  time: 7.7628  data: 6.3084  max mem: 11524\n"
     ]
    },
    {
     "name": "stderr",
     "output_type": "stream",
     "text": [
      "2025-01-14 08:32:13,675 - INFO - Evaluating on validation set...\n"
     ]
    },
    {
     "name": "stdout",
     "output_type": "stream",
     "text": [
      "Epoch: [6]  [323/324]  eta: 0:00:07  lr: 0.010000  loss: 0.5034 (0.4650)  loss_classifier: 0.1614 (0.1501)  loss_box_reg: 0.2616 (0.2421)  loss_objectness: 0.0157 (0.0142)  loss_rpn_box_reg: 0.0674 (0.0587)  time: 7.7778  data: 6.3265  max mem: 11524\n",
      "Epoch: [6] Total time: 0:41:31 (7.6900 s / it)\n",
      "creating index...\n",
      "index created!\n",
      "Test:  [ 0/81]  eta: 0:07:29  model_time: 0.7014 (0.7014)  evaluator_time: 0.0476 (0.0476)  time: 5.5476  data: 4.7801  max mem: 11524\n",
      "Test:  [80/81]  eta: 0:00:07  model_time: 0.6878 (0.6902)  evaluator_time: 0.0514 (0.0512)  time: 7.3029  data: 6.5267  max mem: 11524\n",
      "Test: Total time: 0:09:29 (7.0310 s / it)\n",
      "Averaged stats: model_time: 0.6878 (0.6902)  evaluator_time: 0.0514 (0.0512)\n",
      "Accumulating evaluation results...\n"
     ]
    },
    {
     "name": "stderr",
     "output_type": "stream",
     "text": [
      "2025-01-14 08:49:58,251 - INFO - Validation metrics after epoch 7: <coco_eval.CocoEvaluator object at 0x7900076b9e70>\n",
      "2025-01-14 08:49:58,252 - INFO - Starting epoch 8/10\n"
     ]
    },
    {
     "name": "stdout",
     "output_type": "stream",
     "text": [
      "DONE (t=1.06s).\n",
      "IoU metric: bbox\n",
      " Average Precision  (AP) @[ IoU=0.50:0.95 | area=   all | maxDets=100 ] = 0.244\n",
      " Average Precision  (AP) @[ IoU=0.50      | area=   all | maxDets=100 ] = 0.446\n",
      " Average Precision  (AP) @[ IoU=0.75      | area=   all | maxDets=100 ] = 0.231\n",
      " Average Precision  (AP) @[ IoU=0.50:0.95 | area= small | maxDets=100 ] = 0.113\n",
      " Average Precision  (AP) @[ IoU=0.50:0.95 | area=medium | maxDets=100 ] = 0.277\n",
      " Average Precision  (AP) @[ IoU=0.50:0.95 | area= large | maxDets=100 ] = 0.324\n",
      " Average Recall     (AR) @[ IoU=0.50:0.95 | area=   all | maxDets=  1 ] = 0.226\n",
      " Average Recall     (AR) @[ IoU=0.50:0.95 | area=   all | maxDets= 10 ] = 0.355\n",
      " Average Recall     (AR) @[ IoU=0.50:0.95 | area=   all | maxDets=100 ] = 0.358\n",
      " Average Recall     (AR) @[ IoU=0.50:0.95 | area= small | maxDets=100 ] = 0.182\n",
      " Average Recall     (AR) @[ IoU=0.50:0.95 | area=medium | maxDets=100 ] = 0.393\n",
      " Average Recall     (AR) @[ IoU=0.50:0.95 | area= large | maxDets=100 ] = 0.436\n",
      "Epoch: [7]  [  0/324]  eta: 0:43:47  lr: 0.010000  loss: 0.3932 (0.3932)  loss_classifier: 0.1238 (0.1238)  loss_box_reg: 0.2241 (0.2241)  loss_objectness: 0.0116 (0.0116)  loss_rpn_box_reg: 0.0337 (0.0337)  time: 8.1106  data: 6.6569  max mem: 11524\n",
      "Epoch: [7]  [ 20/324]  eta: 0:39:42  lr: 0.010000  loss: 0.4421 (0.4599)  loss_classifier: 0.1411 (0.1464)  loss_box_reg: 0.2461 (0.2404)  loss_objectness: 0.0142 (0.0154)  loss_rpn_box_reg: 0.0555 (0.0576)  time: 7.8242  data: 6.3693  max mem: 11524\n",
      "Epoch: [7]  [ 40/324]  eta: 0:36:54  lr: 0.010000  loss: 0.4069 (0.4419)  loss_classifier: 0.1341 (0.1414)  loss_box_reg: 0.2275 (0.2329)  loss_objectness: 0.0116 (0.0138)  loss_rpn_box_reg: 0.0471 (0.0538)  time: 7.7588  data: 6.3054  max mem: 11524\n",
      "Epoch: [7]  [ 60/324]  eta: 0:34:25  lr: 0.010000  loss: 0.4384 (0.4435)  loss_classifier: 0.1400 (0.1415)  loss_box_reg: 0.2278 (0.2322)  loss_objectness: 0.0126 (0.0134)  loss_rpn_box_reg: 0.0652 (0.0563)  time: 7.8754  data: 6.4194  max mem: 11524\n",
      "Epoch: [7]  [ 80/324]  eta: 0:31:58  lr: 0.010000  loss: 0.4184 (0.4403)  loss_classifier: 0.1354 (0.1412)  loss_box_reg: 0.2211 (0.2296)  loss_objectness: 0.0111 (0.0133)  loss_rpn_box_reg: 0.0513 (0.0562)  time: 7.9723  data: 6.5183  max mem: 11524\n",
      "Epoch: [7]  [100/324]  eta: 0:29:14  lr: 0.010000  loss: 0.4087 (0.4357)  loss_classifier: 0.1310 (0.1398)  loss_box_reg: 0.2222 (0.2284)  loss_objectness: 0.0097 (0.0128)  loss_rpn_box_reg: 0.0414 (0.0547)  time: 7.7130  data: 6.2583  max mem: 11524\n",
      "Epoch: [7]  [120/324]  eta: 0:26:36  lr: 0.010000  loss: 0.4552 (0.4383)  loss_classifier: 0.1423 (0.1406)  loss_box_reg: 0.2345 (0.2296)  loss_objectness: 0.0113 (0.0129)  loss_rpn_box_reg: 0.0470 (0.0552)  time: 7.8048  data: 6.3495  max mem: 11524\n",
      "Epoch: [7]  [140/324]  eta: 0:24:01  lr: 0.010000  loss: 0.4192 (0.4368)  loss_classifier: 0.1370 (0.1402)  loss_box_reg: 0.2299 (0.2293)  loss_objectness: 0.0110 (0.0126)  loss_rpn_box_reg: 0.0498 (0.0548)  time: 7.8693  data: 6.4144  max mem: 11524\n",
      "Epoch: [7]  [160/324]  eta: 0:21:23  lr: 0.010000  loss: 0.4429 (0.4372)  loss_classifier: 0.1459 (0.1405)  loss_box_reg: 0.2393 (0.2302)  loss_objectness: 0.0111 (0.0125)  loss_rpn_box_reg: 0.0469 (0.0540)  time: 7.7668  data: 6.3110  max mem: 11524\n",
      "Epoch: [7]  [180/324]  eta: 0:18:44  lr: 0.010000  loss: 0.4142 (0.4347)  loss_classifier: 0.1349 (0.1401)  loss_box_reg: 0.2225 (0.2290)  loss_objectness: 0.0113 (0.0124)  loss_rpn_box_reg: 0.0441 (0.0531)  time: 7.6506  data: 6.1970  max mem: 11524\n",
      "Epoch: [7]  [200/324]  eta: 0:16:05  lr: 0.010000  loss: 0.4384 (0.4355)  loss_classifier: 0.1390 (0.1405)  loss_box_reg: 0.2344 (0.2293)  loss_objectness: 0.0122 (0.0124)  loss_rpn_box_reg: 0.0456 (0.0533)  time: 7.6235  data: 6.1686  max mem: 11524\n",
      "Epoch: [7]  [220/324]  eta: 0:13:30  lr: 0.010000  loss: 0.4226 (0.4354)  loss_classifier: 0.1405 (0.1406)  loss_box_reg: 0.2333 (0.2298)  loss_objectness: 0.0111 (0.0124)  loss_rpn_box_reg: 0.0467 (0.0527)  time: 7.8056  data: 6.3501  max mem: 11524\n",
      "Epoch: [7]  [240/324]  eta: 0:10:52  lr: 0.010000  loss: 0.4815 (0.4400)  loss_classifier: 0.1417 (0.1416)  loss_box_reg: 0.2419 (0.2312)  loss_objectness: 0.0149 (0.0127)  loss_rpn_box_reg: 0.0633 (0.0544)  time: 7.5226  data: 6.0674  max mem: 11524\n",
      "Epoch: [7]  [260/324]  eta: 0:08:17  lr: 0.010000  loss: 0.4549 (0.4403)  loss_classifier: 0.1443 (0.1413)  loss_box_reg: 0.2252 (0.2314)  loss_objectness: 0.0114 (0.0126)  loss_rpn_box_reg: 0.0493 (0.0550)  time: 7.8298  data: 6.3764  max mem: 11524\n",
      "Epoch: [7]  [280/324]  eta: 0:05:40  lr: 0.010000  loss: 0.4563 (0.4436)  loss_classifier: 0.1434 (0.1420)  loss_box_reg: 0.2421 (0.2325)  loss_objectness: 0.0138 (0.0128)  loss_rpn_box_reg: 0.0607 (0.0563)  time: 7.4212  data: 5.9661  max mem: 11524\n",
      "Epoch: [7]  [300/324]  eta: 0:03:05  lr: 0.010000  loss: 0.4530 (0.4440)  loss_classifier: 0.1377 (0.1420)  loss_box_reg: 0.2313 (0.2328)  loss_objectness: 0.0130 (0.0129)  loss_rpn_box_reg: 0.0488 (0.0564)  time: 7.7272  data: 6.2722  max mem: 11524\n",
      "Epoch: [7]  [320/324]  eta: 0:00:31  lr: 0.010000  loss: 0.4404 (0.4443)  loss_classifier: 0.1390 (0.1421)  loss_box_reg: 0.2378 (0.2330)  loss_objectness: 0.0130 (0.0128)  loss_rpn_box_reg: 0.0525 (0.0562)  time: 7.8384  data: 6.3841  max mem: 11524\n"
     ]
    },
    {
     "name": "stderr",
     "output_type": "stream",
     "text": [
      "2025-01-14 09:31:47,423 - INFO - Evaluating on validation set...\n"
     ]
    },
    {
     "name": "stdout",
     "output_type": "stream",
     "text": [
      "Epoch: [7]  [323/324]  eta: 0:00:07  lr: 0.010000  loss: 0.4331 (0.4439)  loss_classifier: 0.1390 (0.1421)  loss_box_reg: 0.2378 (0.2329)  loss_objectness: 0.0135 (0.0128)  loss_rpn_box_reg: 0.0525 (0.0561)  time: 7.7405  data: 6.2901  max mem: 11524\n",
      "Epoch: [7] Total time: 0:41:49 (7.7443 s / it)\n",
      "creating index...\n",
      "index created!\n",
      "Test:  [ 0/81]  eta: 0:07:31  model_time: 0.7024 (0.7024)  evaluator_time: 0.0484 (0.0484)  time: 5.5775  data: 4.8082  max mem: 11524\n",
      "Test:  [80/81]  eta: 0:00:06  model_time: 0.6892 (0.6913)  evaluator_time: 0.0508 (0.0564)  time: 7.2426  data: 6.4655  max mem: 11524\n",
      "Test: Total time: 0:09:25 (6.9854 s / it)\n",
      "Averaged stats: model_time: 0.6892 (0.6913)  evaluator_time: 0.0508 (0.0564)\n",
      "Accumulating evaluation results...\n"
     ]
    },
    {
     "name": "stderr",
     "output_type": "stream",
     "text": [
      "2025-01-14 09:49:36,450 - INFO - Validation metrics after epoch 8: <coco_eval.CocoEvaluator object at 0x7900076bb4c0>\n",
      "2025-01-14 09:49:36,452 - INFO - Starting epoch 9/10\n"
     ]
    },
    {
     "name": "stdout",
     "output_type": "stream",
     "text": [
      "DONE (t=1.11s).\n",
      "IoU metric: bbox\n",
      " Average Precision  (AP) @[ IoU=0.50:0.95 | area=   all | maxDets=100 ] = 0.256\n",
      " Average Precision  (AP) @[ IoU=0.50      | area=   all | maxDets=100 ] = 0.472\n",
      " Average Precision  (AP) @[ IoU=0.75      | area=   all | maxDets=100 ] = 0.246\n",
      " Average Precision  (AP) @[ IoU=0.50:0.95 | area= small | maxDets=100 ] = 0.112\n",
      " Average Precision  (AP) @[ IoU=0.50:0.95 | area=medium | maxDets=100 ] = 0.274\n",
      " Average Precision  (AP) @[ IoU=0.50:0.95 | area= large | maxDets=100 ] = 0.334\n",
      " Average Recall     (AR) @[ IoU=0.50:0.95 | area=   all | maxDets=  1 ] = 0.235\n",
      " Average Recall     (AR) @[ IoU=0.50:0.95 | area=   all | maxDets= 10 ] = 0.369\n",
      " Average Recall     (AR) @[ IoU=0.50:0.95 | area=   all | maxDets=100 ] = 0.371\n",
      " Average Recall     (AR) @[ IoU=0.50:0.95 | area= small | maxDets=100 ] = 0.173\n",
      " Average Recall     (AR) @[ IoU=0.50:0.95 | area=medium | maxDets=100 ] = 0.385\n",
      " Average Recall     (AR) @[ IoU=0.50:0.95 | area= large | maxDets=100 ] = 0.467\n",
      "Epoch: [8]  [  0/324]  eta: 0:32:56  lr: 0.010000  loss: 0.4209 (0.4209)  loss_classifier: 0.1326 (0.1326)  loss_box_reg: 0.2313 (0.2313)  loss_objectness: 0.0067 (0.0067)  loss_rpn_box_reg: 0.0503 (0.0503)  time: 6.1018  data: 4.6482  max mem: 11524\n",
      "Epoch: [8]  [ 20/324]  eta: 0:39:12  lr: 0.010000  loss: 0.4061 (0.4095)  loss_classifier: 0.1286 (0.1301)  loss_box_reg: 0.2136 (0.2201)  loss_objectness: 0.0097 (0.0107)  loss_rpn_box_reg: 0.0347 (0.0487)  time: 7.8194  data: 6.3643  max mem: 11524\n",
      "Epoch: [8]  [ 40/324]  eta: 0:36:32  lr: 0.010000  loss: 0.4181 (0.4087)  loss_classifier: 0.1237 (0.1299)  loss_box_reg: 0.2218 (0.2186)  loss_objectness: 0.0103 (0.0108)  loss_rpn_box_reg: 0.0532 (0.0493)  time: 7.6982  data: 6.2415  max mem: 11524\n",
      "Epoch: [8]  [ 60/324]  eta: 0:33:43  lr: 0.010000  loss: 0.4117 (0.4115)  loss_classifier: 0.1257 (0.1297)  loss_box_reg: 0.2188 (0.2200)  loss_objectness: 0.0100 (0.0111)  loss_rpn_box_reg: 0.0495 (0.0507)  time: 7.5543  data: 6.0984  max mem: 11524\n",
      "Epoch: [8]  [ 80/324]  eta: 0:31:36  lr: 0.010000  loss: 0.4210 (0.4140)  loss_classifier: 0.1413 (0.1307)  loss_box_reg: 0.2262 (0.2204)  loss_objectness: 0.0104 (0.0112)  loss_rpn_box_reg: 0.0547 (0.0518)  time: 8.0962  data: 6.6409  max mem: 11524\n",
      "Epoch: [8]  [100/324]  eta: 0:28:56  lr: 0.010000  loss: 0.4128 (0.4128)  loss_classifier: 0.1277 (0.1302)  loss_box_reg: 0.2130 (0.2196)  loss_objectness: 0.0086 (0.0109)  loss_rpn_box_reg: 0.0472 (0.0521)  time: 7.6801  data: 6.2260  max mem: 11524\n",
      "Epoch: [8]  [120/324]  eta: 0:26:28  lr: 0.010000  loss: 0.3989 (0.4104)  loss_classifier: 0.1219 (0.1291)  loss_box_reg: 0.2115 (0.2197)  loss_objectness: 0.0078 (0.0106)  loss_rpn_box_reg: 0.0410 (0.0511)  time: 7.9707  data: 6.5157  max mem: 11524\n",
      "Epoch: [8]  [140/324]  eta: 0:23:49  lr: 0.010000  loss: 0.4035 (0.4101)  loss_classifier: 0.1249 (0.1286)  loss_box_reg: 0.2142 (0.2195)  loss_objectness: 0.0102 (0.0106)  loss_rpn_box_reg: 0.0551 (0.0514)  time: 7.6297  data: 6.1752  max mem: 11524\n",
      "Epoch: [8]  [160/324]  eta: 0:21:18  lr: 0.010000  loss: 0.3995 (0.4086)  loss_classifier: 0.1253 (0.1283)  loss_box_reg: 0.2144 (0.2185)  loss_objectness: 0.0093 (0.0105)  loss_rpn_box_reg: 0.0518 (0.0513)  time: 8.0177  data: 6.5639  max mem: 11524\n",
      "Epoch: [8]  [180/324]  eta: 0:18:45  lr: 0.010000  loss: 0.4148 (0.4116)  loss_classifier: 0.1314 (0.1285)  loss_box_reg: 0.2076 (0.2183)  loss_objectness: 0.0134 (0.0108)  loss_rpn_box_reg: 0.0725 (0.0539)  time: 7.9895  data: 6.5337  max mem: 11524\n",
      "Epoch: [8]  [200/324]  eta: 0:16:07  lr: 0.010000  loss: 0.4058 (0.4109)  loss_classifier: 0.1265 (0.1285)  loss_box_reg: 0.2104 (0.2181)  loss_objectness: 0.0088 (0.0107)  loss_rpn_box_reg: 0.0493 (0.0537)  time: 7.6831  data: 6.2272  max mem: 11524\n",
      "Epoch: [8]  [220/324]  eta: 0:13:32  lr: 0.010000  loss: 0.3917 (0.4101)  loss_classifier: 0.1220 (0.1280)  loss_box_reg: 0.2127 (0.2181)  loss_objectness: 0.0107 (0.0107)  loss_rpn_box_reg: 0.0416 (0.0533)  time: 7.8907  data: 6.4354  max mem: 11524\n",
      "Epoch: [8]  [240/324]  eta: 0:10:57  lr: 0.010000  loss: 0.3881 (0.4086)  loss_classifier: 0.1197 (0.1274)  loss_box_reg: 0.2113 (0.2176)  loss_objectness: 0.0087 (0.0105)  loss_rpn_box_reg: 0.0458 (0.0530)  time: 7.9275  data: 6.4726  max mem: 11524\n",
      "Epoch: [8]  [260/324]  eta: 0:08:21  lr: 0.010000  loss: 0.4181 (0.4102)  loss_classifier: 0.1301 (0.1279)  loss_box_reg: 0.2325 (0.2185)  loss_objectness: 0.0092 (0.0106)  loss_rpn_box_reg: 0.0515 (0.0532)  time: 7.9329  data: 6.4776  max mem: 11524\n",
      "Epoch: [8]  [280/324]  eta: 0:05:44  lr: 0.010000  loss: 0.3919 (0.4090)  loss_classifier: 0.1254 (0.1276)  loss_box_reg: 0.2145 (0.2183)  loss_objectness: 0.0084 (0.0104)  loss_rpn_box_reg: 0.0467 (0.0527)  time: 7.7037  data: 6.2491  max mem: 11524\n",
      "Epoch: [8]  [300/324]  eta: 0:03:07  lr: 0.010000  loss: 0.4337 (0.4115)  loss_classifier: 0.1428 (0.1286)  loss_box_reg: 0.2240 (0.2188)  loss_objectness: 0.0134 (0.0106)  loss_rpn_box_reg: 0.0656 (0.0535)  time: 7.6955  data: 6.2375  max mem: 11524\n",
      "Epoch: [8]  [320/324]  eta: 0:00:31  lr: 0.010000  loss: 0.4263 (0.4124)  loss_classifier: 0.1278 (0.1288)  loss_box_reg: 0.2214 (0.2190)  loss_objectness: 0.0130 (0.0108)  loss_rpn_box_reg: 0.0520 (0.0538)  time: 7.8008  data: 6.3457  max mem: 11524\n"
     ]
    },
    {
     "name": "stderr",
     "output_type": "stream",
     "text": [
      "2025-01-14 10:31:47,642 - INFO - Evaluating on validation set...\n"
     ]
    },
    {
     "name": "stdout",
     "output_type": "stream",
     "text": [
      "Epoch: [8]  [323/324]  eta: 0:00:07  lr: 0.010000  loss: 0.4192 (0.4124)  loss_classifier: 0.1263 (0.1288)  loss_box_reg: 0.2129 (0.2191)  loss_objectness: 0.0134 (0.0108)  loss_rpn_box_reg: 0.0539 (0.0538)  time: 7.6862  data: 6.2337  max mem: 11524\n",
      "Epoch: [8] Total time: 0:42:11 (7.8123 s / it)\n",
      "creating index...\n",
      "index created!\n",
      "Test:  [ 0/81]  eta: 0:07:39  model_time: 0.7016 (0.7016)  evaluator_time: 0.0471 (0.0471)  time: 5.6676  data: 4.9003  max mem: 11524\n",
      "Test:  [80/81]  eta: 0:00:07  model_time: 0.6884 (0.6904)  evaluator_time: 0.0507 (0.0491)  time: 7.3780  data: 6.6019  max mem: 11524\n",
      "Test: Total time: 0:09:32 (7.0689 s / it)\n",
      "Averaged stats: model_time: 0.6884 (0.6904)  evaluator_time: 0.0507 (0.0491)\n",
      "Accumulating evaluation results...\n"
     ]
    },
    {
     "name": "stderr",
     "output_type": "stream",
     "text": [
      "2025-01-14 10:49:51,554 - INFO - Validation metrics after epoch 9: <coco_eval.CocoEvaluator object at 0x7900076bf700>\n",
      "2025-01-14 10:49:51,555 - INFO - Starting epoch 10/10\n"
     ]
    },
    {
     "name": "stdout",
     "output_type": "stream",
     "text": [
      "DONE (t=1.04s).\n",
      "IoU metric: bbox\n",
      " Average Precision  (AP) @[ IoU=0.50:0.95 | area=   all | maxDets=100 ] = 0.263\n",
      " Average Precision  (AP) @[ IoU=0.50      | area=   all | maxDets=100 ] = 0.472\n",
      " Average Precision  (AP) @[ IoU=0.75      | area=   all | maxDets=100 ] = 0.258\n",
      " Average Precision  (AP) @[ IoU=0.50:0.95 | area= small | maxDets=100 ] = 0.120\n",
      " Average Precision  (AP) @[ IoU=0.50:0.95 | area=medium | maxDets=100 ] = 0.286\n",
      " Average Precision  (AP) @[ IoU=0.50:0.95 | area= large | maxDets=100 ] = 0.318\n",
      " Average Recall     (AR) @[ IoU=0.50:0.95 | area=   all | maxDets=  1 ] = 0.235\n",
      " Average Recall     (AR) @[ IoU=0.50:0.95 | area=   all | maxDets= 10 ] = 0.376\n",
      " Average Recall     (AR) @[ IoU=0.50:0.95 | area=   all | maxDets=100 ] = 0.378\n",
      " Average Recall     (AR) @[ IoU=0.50:0.95 | area= small | maxDets=100 ] = 0.187\n",
      " Average Recall     (AR) @[ IoU=0.50:0.95 | area=medium | maxDets=100 ] = 0.395\n",
      " Average Recall     (AR) @[ IoU=0.50:0.95 | area= large | maxDets=100 ] = 0.461\n",
      "Epoch: [9]  [  0/324]  eta: 0:43:40  lr: 0.010000  loss: 0.4062 (0.4062)  loss_classifier: 0.1234 (0.1234)  loss_box_reg: 0.2252 (0.2252)  loss_objectness: 0.0102 (0.0102)  loss_rpn_box_reg: 0.0474 (0.0474)  time: 8.0865  data: 6.6342  max mem: 11524\n",
      "Epoch: [9]  [ 20/324]  eta: 0:40:30  lr: 0.010000  loss: 0.4015 (0.4094)  loss_classifier: 0.1199 (0.1272)  loss_box_reg: 0.2158 (0.2158)  loss_objectness: 0.0090 (0.0104)  loss_rpn_box_reg: 0.0540 (0.0560)  time: 7.9897  data: 6.5335  max mem: 11524\n",
      "Epoch: [9]  [ 40/324]  eta: 0:38:44  lr: 0.010000  loss: 0.3728 (0.3999)  loss_classifier: 0.1152 (0.1246)  loss_box_reg: 0.2002 (0.2108)  loss_objectness: 0.0082 (0.0097)  loss_rpn_box_reg: 0.0482 (0.0549)  time: 8.3858  data: 6.9285  max mem: 11524\n",
      "Epoch: [9]  [ 60/324]  eta: 0:35:51  lr: 0.010000  loss: 0.3833 (0.3987)  loss_classifier: 0.1215 (0.1239)  loss_box_reg: 0.2072 (0.2102)  loss_objectness: 0.0090 (0.0098)  loss_rpn_box_reg: 0.0588 (0.0549)  time: 8.0750  data: 6.6200  max mem: 11524\n",
      "Epoch: [9]  [ 80/324]  eta: 0:32:53  lr: 0.010000  loss: 0.3897 (0.3991)  loss_classifier: 0.1134 (0.1225)  loss_box_reg: 0.2108 (0.2105)  loss_objectness: 0.0103 (0.0103)  loss_rpn_box_reg: 0.0493 (0.0558)  time: 7.9067  data: 6.4521  max mem: 11524\n",
      "Epoch: [9]  [100/324]  eta: 0:30:03  lr: 0.010000  loss: 0.3866 (0.3989)  loss_classifier: 0.1203 (0.1226)  loss_box_reg: 0.2093 (0.2103)  loss_objectness: 0.0077 (0.0103)  loss_rpn_box_reg: 0.0506 (0.0556)  time: 7.8977  data: 6.4425  max mem: 11524\n",
      "Epoch: [9]  [120/324]  eta: 0:27:11  lr: 0.010000  loss: 0.3834 (0.3988)  loss_classifier: 0.1166 (0.1234)  loss_box_reg: 0.2050 (0.2111)  loss_objectness: 0.0076 (0.0102)  loss_rpn_box_reg: 0.0366 (0.0540)  time: 7.7241  data: 6.2675  max mem: 11524\n",
      "Epoch: [9]  [140/324]  eta: 0:24:35  lr: 0.010000  loss: 0.3937 (0.3987)  loss_classifier: 0.1178 (0.1230)  loss_box_reg: 0.2100 (0.2114)  loss_objectness: 0.0097 (0.0103)  loss_rpn_box_reg: 0.0507 (0.0541)  time: 8.1617  data: 6.7067  max mem: 11524\n",
      "Epoch: [9]  [160/324]  eta: 0:21:53  lr: 0.010000  loss: 0.3833 (0.3994)  loss_classifier: 0.1238 (0.1231)  loss_box_reg: 0.2096 (0.2117)  loss_objectness: 0.0102 (0.0103)  loss_rpn_box_reg: 0.0485 (0.0542)  time: 7.9341  data: 6.4788  max mem: 11524\n",
      "Epoch: [9]  [180/324]  eta: 0:19:11  lr: 0.010000  loss: 0.3842 (0.3977)  loss_classifier: 0.1184 (0.1229)  loss_box_reg: 0.2062 (0.2109)  loss_objectness: 0.0098 (0.0103)  loss_rpn_box_reg: 0.0484 (0.0536)  time: 7.8837  data: 6.4287  max mem: 11524\n",
      "Epoch: [9]  [200/324]  eta: 0:16:30  lr: 0.010000  loss: 0.3653 (0.3960)  loss_classifier: 0.1140 (0.1224)  loss_box_reg: 0.2023 (0.2104)  loss_objectness: 0.0097 (0.0102)  loss_rpn_box_reg: 0.0468 (0.0530)  time: 7.9081  data: 6.4541  max mem: 11524\n",
      "Epoch: [9]  [220/324]  eta: 0:13:50  lr: 0.010000  loss: 0.3728 (0.3954)  loss_classifier: 0.1156 (0.1223)  loss_box_reg: 0.2073 (0.2103)  loss_objectness: 0.0103 (0.0102)  loss_rpn_box_reg: 0.0417 (0.0525)  time: 8.0092  data: 6.5531  max mem: 11524\n",
      "Epoch: [9]  [240/324]  eta: 0:11:10  lr: 0.010000  loss: 0.3756 (0.3945)  loss_classifier: 0.1176 (0.1224)  loss_box_reg: 0.2091 (0.2103)  loss_objectness: 0.0086 (0.0102)  loss_rpn_box_reg: 0.0408 (0.0517)  time: 7.9166  data: 6.4625  max mem: 11524\n",
      "Epoch: [9]  [260/324]  eta: 0:08:29  lr: 0.010000  loss: 0.3954 (0.3956)  loss_classifier: 0.1262 (0.1227)  loss_box_reg: 0.2079 (0.2108)  loss_objectness: 0.0091 (0.0101)  loss_rpn_box_reg: 0.0473 (0.0519)  time: 7.7872  data: 6.3309  max mem: 11524\n",
      "Epoch: [9]  [280/324]  eta: 0:05:51  lr: 0.010000  loss: 0.3814 (0.3952)  loss_classifier: 0.1103 (0.1223)  loss_box_reg: 0.1998 (0.2107)  loss_objectness: 0.0109 (0.0102)  loss_rpn_box_reg: 0.0473 (0.0520)  time: 8.1660  data: 6.7120  max mem: 11524\n",
      "Epoch: [9]  [300/324]  eta: 0:03:11  lr: 0.010000  loss: 0.4059 (0.3968)  loss_classifier: 0.1222 (0.1229)  loss_box_reg: 0.2195 (0.2115)  loss_objectness: 0.0094 (0.0102)  loss_rpn_box_reg: 0.0559 (0.0522)  time: 8.1834  data: 6.7286  max mem: 11524\n",
      "Epoch: [9]  [320/324]  eta: 0:00:31  lr: 0.010000  loss: 0.3938 (0.3967)  loss_classifier: 0.1193 (0.1227)  loss_box_reg: 0.2156 (0.2114)  loss_objectness: 0.0109 (0.0103)  loss_rpn_box_reg: 0.0478 (0.0522)  time: 7.8416  data: 6.3856  max mem: 11524\n"
     ]
    },
    {
     "name": "stderr",
     "output_type": "stream",
     "text": [
      "2025-01-14 11:32:58,326 - INFO - Evaluating on validation set...\n"
     ]
    },
    {
     "name": "stdout",
     "output_type": "stream",
     "text": [
      "Epoch: [9]  [323/324]  eta: 0:00:07  lr: 0.010000  loss: 0.3947 (0.3968)  loss_classifier: 0.1240 (0.1228)  loss_box_reg: 0.2045 (0.2114)  loss_objectness: 0.0109 (0.0103)  loss_rpn_box_reg: 0.0481 (0.0523)  time: 7.7475  data: 6.2960  max mem: 11524\n",
      "Epoch: [9] Total time: 0:43:06 (7.9839 s / it)\n",
      "creating index...\n",
      "index created!\n",
      "Test:  [ 0/81]  eta: 0:07:49  model_time: 0.7050 (0.7050)  evaluator_time: 0.0443 (0.0443)  time: 5.7981  data: 5.0303  max mem: 11524\n",
      "Test:  [80/81]  eta: 0:00:07  model_time: 0.6887 (0.6906)  evaluator_time: 0.0487 (0.0516)  time: 7.4142  data: 6.6410  max mem: 11524\n",
      "Test: Total time: 0:09:41 (7.1776 s / it)\n",
      "Averaged stats: model_time: 0.6887 (0.6906)  evaluator_time: 0.0487 (0.0516)\n",
      "Accumulating evaluation results...\n"
     ]
    },
    {
     "name": "stderr",
     "output_type": "stream",
     "text": [
      "2025-01-14 11:51:21,216 - INFO - Validation metrics after epoch 10: <coco_eval.CocoEvaluator object at 0x7900081d6590>\n",
      "2025-01-14 11:51:21,218 - INFO - Evaluating on test set...\n"
     ]
    },
    {
     "name": "stdout",
     "output_type": "stream",
     "text": [
      "DONE (t=0.98s).\n",
      "IoU metric: bbox\n",
      " Average Precision  (AP) @[ IoU=0.50:0.95 | area=   all | maxDets=100 ] = 0.256\n",
      " Average Precision  (AP) @[ IoU=0.50      | area=   all | maxDets=100 ] = 0.460\n",
      " Average Precision  (AP) @[ IoU=0.75      | area=   all | maxDets=100 ] = 0.255\n",
      " Average Precision  (AP) @[ IoU=0.50:0.95 | area= small | maxDets=100 ] = 0.109\n",
      " Average Precision  (AP) @[ IoU=0.50:0.95 | area=medium | maxDets=100 ] = 0.276\n",
      " Average Precision  (AP) @[ IoU=0.50:0.95 | area= large | maxDets=100 ] = 0.321\n",
      " Average Recall     (AR) @[ IoU=0.50:0.95 | area=   all | maxDets=  1 ] = 0.234\n",
      " Average Recall     (AR) @[ IoU=0.50:0.95 | area=   all | maxDets= 10 ] = 0.368\n",
      " Average Recall     (AR) @[ IoU=0.50:0.95 | area=   all | maxDets=100 ] = 0.370\n",
      " Average Recall     (AR) @[ IoU=0.50:0.95 | area= small | maxDets=100 ] = 0.181\n",
      " Average Recall     (AR) @[ IoU=0.50:0.95 | area=medium | maxDets=100 ] = 0.388\n",
      " Average Recall     (AR) @[ IoU=0.50:0.95 | area= large | maxDets=100 ] = 0.440\n",
      "creating index...\n",
      "index created!\n",
      "Test:  [  0/102]  eta: 0:11:29  model_time: 0.7042 (0.7042)  evaluator_time: 0.0433 (0.0433)  time: 6.7592  data: 5.9932  max mem: 11524\n",
      "Test:  [100/102]  eta: 0:00:14  model_time: 0.6875 (0.6901)  evaluator_time: 0.0447 (0.0498)  time: 7.6631  data: 6.8934  max mem: 11524\n",
      "Test:  [101/102]  eta: 0:00:07  model_time: 0.6870 (0.6852)  evaluator_time: 0.0434 (0.0494)  time: 7.2748  data: 6.5324  max mem: 11524\n",
      "Test: Total time: 0:12:23 (7.2909 s / it)\n",
      "Averaged stats: model_time: 0.6870 (0.6852)  evaluator_time: 0.0434 (0.0494)\n",
      "Accumulating evaluation results...\n"
     ]
    },
    {
     "name": "stderr",
     "output_type": "stream",
     "text": [
      "2025-01-14 12:14:57,379 - INFO - Final evaluation metrics: <coco_eval.CocoEvaluator object at 0x7900076b8220>\n"
     ]
    },
    {
     "name": "stdout",
     "output_type": "stream",
     "text": [
      "DONE (t=1.26s).\n",
      "IoU metric: bbox\n",
      " Average Precision  (AP) @[ IoU=0.50:0.95 | area=   all | maxDets=100 ] = 0.260\n",
      " Average Precision  (AP) @[ IoU=0.50      | area=   all | maxDets=100 ] = 0.462\n",
      " Average Precision  (AP) @[ IoU=0.75      | area=   all | maxDets=100 ] = 0.266\n",
      " Average Precision  (AP) @[ IoU=0.50:0.95 | area= small | maxDets=100 ] = 0.104\n",
      " Average Precision  (AP) @[ IoU=0.50:0.95 | area=medium | maxDets=100 ] = 0.306\n",
      " Average Precision  (AP) @[ IoU=0.50:0.95 | area= large | maxDets=100 ] = 0.300\n",
      " Average Recall     (AR) @[ IoU=0.50:0.95 | area=   all | maxDets=  1 ] = 0.234\n",
      " Average Recall     (AR) @[ IoU=0.50:0.95 | area=   all | maxDets= 10 ] = 0.376\n",
      " Average Recall     (AR) @[ IoU=0.50:0.95 | area=   all | maxDets=100 ] = 0.379\n",
      " Average Recall     (AR) @[ IoU=0.50:0.95 | area= small | maxDets=100 ] = 0.176\n",
      " Average Recall     (AR) @[ IoU=0.50:0.95 | area=medium | maxDets=100 ] = 0.412\n",
      " Average Recall     (AR) @[ IoU=0.50:0.95 | area= large | maxDets=100 ] = 0.422\n",
      "<coco_eval.CocoEvaluator object at 0x7900076b8220>\n",
      "Model saved to /kaggle/working/models/fasterrcnn_model.pth\n"
     ]
    }
   ],
   "source": [
    "def train_and_evaluate(data_dir: str, num_epochs: int = 10, save_dir: str = 'models'):\n",
    "    batch_size = 16\n",
    "    num_classes = len(class_mapping)\n",
    "    device = torch.device(\"cuda\" if torch.cuda.is_available() else \"cpu\")\n",
    "    logger.info(f\"Using device: {device}\")\n",
    "\n",
    "    # Load Data\n",
    "    train_loader, val_loader, test_loader = get_dataloaders(data_dir, class_mapping, batch_size)\n",
    "\n",
    "    # Initialize Model\n",
    "    model = get_model(num_classes)\n",
    "    model.to(device)\n",
    "\n",
    "    # Optimizer\n",
    "    optimizer = torch.optim.SGD(model.parameters(), lr=0.01, momentum=0.9, weight_decay=0.0005)\n",
    "\n",
    "    # Training Loop\n",
    "    for epoch in range(num_epochs):\n",
    "        logger.info(f\"Starting epoch {epoch + 1}/{num_epochs}\")\n",
    "\n",
    "        # Train One Epoch\n",
    "        train_one_epoch(model, optimizer, train_loader, device, epoch, print_freq=20)\n",
    "\n",
    "        # Evaluate on Validation Set\n",
    "        logger.info(\"Evaluating on validation set...\")\n",
    "        metrics = evaluate(model, val_loader, device)\n",
    "        logger.info(f\"Validation metrics after epoch {epoch + 1}: {metrics}\")\n",
    "\n",
    "    # Final Evaluation on Test Set\n",
    "    logger.info(\"Evaluating on test set...\")\n",
    "    final_metrics = evaluate(model, test_loader, device)\n",
    "    logger.info(f\"Final evaluation metrics: {final_metrics}\")\n",
    "    print(final_metrics)\n",
    "\n",
    "    # Save Model\n",
    "    model_save_path = os.path.join(save_dir, \"fasterrcnn_model.pth\")\n",
    "    torch.save(model.state_dict(), model_save_path)\n",
    "    print(f\"Model saved to {model_save_path}\")\n",
    "\n",
    "    return model, final_metrics\n",
    "\n",
    "if __name__ == '__main__':\n",
    "    try:\n",
    "        data_dir = \"/kaggle/working/data\"\n",
    "        save_dir = \"/kaggle/working/models\"\n",
    "        if not os.path.exists(save_dir):\n",
    "            os.makedirs(save_dir)\n",
    "\n",
    "        num_epochs = 10\n",
    "\n",
    "        model, final_metrics = train_and_evaluate(data_dir, num_epochs, save_dir)\n",
    "\n",
    "    except Exception as e:\n",
    "        logger.error(f\"Program failed: {str(e)}\")\n",
    "        raise"
   ]
  }
 ],
 "metadata": {
  "kaggle": {
   "accelerator": "gpu",
   "dataSources": [
    {
     "datasetId": 5329058,
     "sourceId": 8853182,
     "sourceType": "datasetVersion"
    }
   ],
   "isGpuEnabled": true,
   "isInternetEnabled": true,
   "language": "python",
   "sourceType": "notebook"
  },
  "kernelspec": {
   "display_name": "Python 3",
   "language": "python",
   "name": "python3"
  },
  "language_info": {
   "codemirror_mode": {
    "name": "ipython",
    "version": 3
   },
   "file_extension": ".py",
   "mimetype": "text/x-python",
   "name": "python",
   "nbconvert_exporter": "python",
   "pygments_lexer": "ipython3",
   "version": "3.10.12"
  },
  "papermill": {
   "default_parameters": {},
   "duration": 36688.011158,
   "end_time": "2025-01-14T12:15:00.386543",
   "environment_variables": {},
   "exception": null,
   "input_path": "__notebook__.ipynb",
   "output_path": "__notebook__.ipynb",
   "parameters": {},
   "start_time": "2025-01-14T02:03:32.375385",
   "version": "2.6.0"
  }
 },
 "nbformat": 4,
 "nbformat_minor": 5
}
