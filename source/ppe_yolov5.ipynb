{
 "cells": [
  {
   "cell_type": "markdown",
   "id": "3280cb15",
   "metadata": {
    "papermill": {
     "duration": 0.003609,
     "end_time": "2025-01-13T16:41:21.511268",
     "exception": false,
     "start_time": "2025-01-13T16:41:21.507659",
     "status": "completed"
    },
    "tags": []
   },
   "source": [
    "### **Format Dataset for YOLOv5**"
   ]
  },
  {
   "cell_type": "code",
   "execution_count": 1,
   "id": "dc5c453e",
   "metadata": {
    "_cell_guid": "b1076dfc-b9ad-4769-8c92-a6c4dae69d19",
    "_uuid": "8f2839f25d086af736a60e9eeb907d3b93b6e0e5",
    "execution": {
     "iopub.execute_input": "2025-01-13T16:41:21.517895Z",
     "iopub.status.busy": "2025-01-13T16:41:21.517580Z",
     "iopub.status.idle": "2025-01-13T16:46:31.032165Z",
     "shell.execute_reply": "2025-01-13T16:46:31.030875Z"
    },
    "papermill": {
     "duration": 309.519082,
     "end_time": "2025-01-13T16:46:31.033538",
     "exception": false,
     "start_time": "2025-01-13T16:41:21.514456",
     "status": "completed"
    },
    "tags": []
   },
   "outputs": [
    {
     "name": "stdout",
     "output_type": "stream",
     "text": [
      "Copying train files...\n"
     ]
    },
    {
     "name": "stderr",
     "output_type": "stream",
     "text": [
      "100%|██████████| 5183/5183 [03:19<00:00, 26.02it/s]\n"
     ]
    },
    {
     "name": "stdout",
     "output_type": "stream",
     "text": [
      "Copying val files...\n"
     ]
    },
    {
     "name": "stderr",
     "output_type": "stream",
     "text": [
      "100%|██████████| 1296/1296 [00:51<00:00, 25.14it/s]\n"
     ]
    },
    {
     "name": "stdout",
     "output_type": "stream",
     "text": [
      "Copying test files...\n"
     ]
    },
    {
     "name": "stderr",
     "output_type": "stream",
     "text": [
      "100%|██████████| 1620/1620 [00:58<00:00, 27.59it/s]"
     ]
    },
    {
     "name": "stdout",
     "output_type": "stream",
     "text": [
      "Data prepared!\n"
     ]
    },
    {
     "name": "stderr",
     "output_type": "stream",
     "text": [
      "\n"
     ]
    }
   ],
   "source": [
    "import os\n",
    "import shutil\n",
    "import random\n",
    "from tqdm import tqdm\n",
    "\n",
    "# Define the base directory containing the SH17 dataset\n",
    "base_dir = \"/kaggle/input/sh17-dataset-for-ppe-detection\"\n",
    "\n",
    "# Paths to the train and validation file lists\n",
    "train_file = os.path.join(base_dir, \"train_files.txt\")\n",
    "val_file = os.path.join(base_dir, \"val_files.txt\")\n",
    "\n",
    "# Directories for images and labels in the source dataset\n",
    "images_dir = os.path.join(base_dir, \"images\")\n",
    "labels_dir = os.path.join(base_dir, \"labels\")\n",
    "\n",
    "# Output directory for prepared data\n",
    "output_dir = \"/kaggle/working/data\"\n",
    "os.makedirs(output_dir, exist_ok=True)\n",
    "\n",
    "# Directories for train, validation, and test sets (images and labels)\n",
    "train_images_dir = os.path.join(output_dir, \"images/train\")\n",
    "val_images_dir = os.path.join(output_dir, \"images/val\")\n",
    "test_images_dir = os.path.join(output_dir, \"images/test\")\n",
    "\n",
    "train_labels_dir = os.path.join(output_dir, \"labels/train\")\n",
    "val_labels_dir = os.path.join(output_dir, \"labels/val\")\n",
    "test_labels_dir = os.path.join(output_dir, \"labels/test\")\n",
    "\n",
    "# Create all required directories if they do not exist\n",
    "for dir_path in [train_images_dir, val_images_dir, test_images_dir,\n",
    "                 train_labels_dir, val_labels_dir, test_labels_dir]:\n",
    "    os.makedirs(dir_path, exist_ok=True)\n",
    "\n",
    "def copy_files(file_list, dest_images_dir, dest_labels_dir):\n",
    "    \"\"\"\n",
    "    Copies image and corresponding label files to the specified directories.\n",
    "\n",
    "    Args:\n",
    "        file_list (list): List of file names to be copied.\n",
    "        dest_images_dir (str): Destination directory for images.\n",
    "        dest_labels_dir (str): Destination directory for labels.\n",
    "    \"\"\"\n",
    "    for file in tqdm(file_list):\n",
    "        file = file.strip()\n",
    "\n",
    "        # Copy the image file\n",
    "        image_path = os.path.join(images_dir, file)\n",
    "        if os.path.exists(image_path):\n",
    "            shutil.copy(image_path, dest_images_dir)\n",
    "        else:\n",
    "            print(f\"Image not found: {image_path}\")\n",
    "\n",
    "        # Copy the corresponding label file\n",
    "        label_path = os.path.join(labels_dir, file.replace(\n",
    "            image_path.split(\".\")[-1], \"txt\"))\n",
    "        if os.path.exists(label_path):\n",
    "            shutil.copy(label_path, dest_labels_dir)\n",
    "        else:\n",
    "            print(f\"Label not found: {label_path}\")\n",
    "\n",
    "# Read the list of training files from train_files.txt\n",
    "with open(train_file, 'r') as f:\n",
    "    train_files = f.readlines()\n",
    "\n",
    "# Shuffle and split the training data into 80% training and 20% validation\n",
    "random.shuffle(train_files)\n",
    "split_idx = int(0.8 * len(train_files))\n",
    "train_split = train_files[:split_idx]\n",
    "val_split = train_files[split_idx:]\n",
    "\n",
    "# Copy the training split files\n",
    "print(\"Copying train files...\")\n",
    "copy_files(train_split, train_images_dir, train_labels_dir)\n",
    "\n",
    "# Copy the validation split files\n",
    "print(\"Copying val files...\")\n",
    "copy_files(val_split, val_images_dir, val_labels_dir)\n",
    "\n",
    "# Copy the test files listed in val_files.txt\n",
    "with open(val_file, 'r') as f:\n",
    "    test_files = f.readlines()\n",
    "\n",
    "print(\"Copying test files...\")\n",
    "copy_files(test_files, test_images_dir, test_labels_dir)\n",
    "\n",
    "print(\"Data prepared!\")"
   ]
  },
  {
   "cell_type": "markdown",
   "id": "64287516",
   "metadata": {
    "papermill": {
     "duration": 0.101323,
     "end_time": "2025-01-13T16:46:31.274635",
     "exception": false,
     "start_time": "2025-01-13T16:46:31.173312",
     "status": "completed"
    },
    "tags": []
   },
   "source": [
    "### **Setup environment for YOLOv5**"
   ]
  },
  {
   "cell_type": "code",
   "execution_count": 2,
   "id": "e2cbc865",
   "metadata": {
    "execution": {
     "iopub.execute_input": "2025-01-13T16:46:31.475501Z",
     "iopub.status.busy": "2025-01-13T16:46:31.475223Z",
     "iopub.status.idle": "2025-01-13T16:46:37.334372Z",
     "shell.execute_reply": "2025-01-13T16:46:37.333302Z"
    },
    "papermill": {
     "duration": 5.962056,
     "end_time": "2025-01-13T16:46:37.335877",
     "exception": false,
     "start_time": "2025-01-13T16:46:31.373821",
     "status": "completed"
    },
    "tags": []
   },
   "outputs": [
    {
     "name": "stdout",
     "output_type": "stream",
     "text": [
      "Cloning into 'yolov5'...\r\n",
      "remote: Enumerating objects: 17129, done.\u001b[K\r\n",
      "remote: Counting objects: 100% (62/62), done.\u001b[K\r\n",
      "remote: Compressing objects: 100% (48/48), done.\u001b[K\r\n",
      "remote: Total 17129 (delta 43), reused 14 (delta 14), pack-reused 17067 (from 3)\u001b[K\r\n",
      "Receiving objects: 100% (17129/17129), 15.84 MiB | 31.67 MiB/s, done.\r\n",
      "Resolving deltas: 100% (11747/11747), done.\r\n",
      "/kaggle/working/yolov5\n"
     ]
    }
   ],
   "source": [
    "!git clone https://github.com/ultralytics/yolov5.git\n",
    "%cd yolov5"
   ]
  },
  {
   "cell_type": "code",
   "execution_count": 3,
   "id": "f73403e9",
   "metadata": {
    "execution": {
     "iopub.execute_input": "2025-01-13T16:46:37.541685Z",
     "iopub.status.busy": "2025-01-13T16:46:37.541365Z",
     "iopub.status.idle": "2025-01-13T16:46:48.952744Z",
     "shell.execute_reply": "2025-01-13T16:46:48.951906Z"
    },
    "papermill": {
     "duration": 11.516265,
     "end_time": "2025-01-13T16:46:48.954358",
     "exception": false,
     "start_time": "2025-01-13T16:46:37.438093",
     "status": "completed"
    },
    "tags": []
   },
   "outputs": [
    {
     "name": "stdout",
     "output_type": "stream",
     "text": [
      "Requirement already satisfied: gitpython>=3.1.30 in /usr/local/lib/python3.10/dist-packages (from -r requirements.txt (line 5)) (3.1.43)\r\n",
      "Requirement already satisfied: matplotlib>=3.3 in /usr/local/lib/python3.10/dist-packages (from -r requirements.txt (line 6)) (3.7.1)\r\n",
      "Requirement already satisfied: numpy>=1.23.5 in /usr/local/lib/python3.10/dist-packages (from -r requirements.txt (line 7)) (1.26.4)\r\n",
      "Requirement already satisfied: opencv-python>=4.1.1 in /usr/local/lib/python3.10/dist-packages (from -r requirements.txt (line 8)) (4.10.0.84)\r\n",
      "Requirement already satisfied: pillow>=10.3.0 in /usr/local/lib/python3.10/dist-packages (from -r requirements.txt (line 9)) (10.4.0)\r\n",
      "Requirement already satisfied: psutil in /usr/local/lib/python3.10/dist-packages (from -r requirements.txt (line 10)) (5.9.5)\r\n",
      "Requirement already satisfied: PyYAML>=5.3.1 in /usr/local/lib/python3.10/dist-packages (from -r requirements.txt (line 11)) (6.0.2)\r\n",
      "Requirement already satisfied: requests>=2.32.2 in /usr/local/lib/python3.10/dist-packages (from -r requirements.txt (line 12)) (2.32.3)\r\n",
      "Requirement already satisfied: scipy>=1.4.1 in /usr/local/lib/python3.10/dist-packages (from -r requirements.txt (line 13)) (1.13.1)\r\n",
      "Collecting thop>=0.1.1 (from -r requirements.txt (line 14))\r\n",
      "  Downloading thop-0.1.1.post2209072238-py3-none-any.whl.metadata (2.7 kB)\r\n",
      "Requirement already satisfied: torch>=1.8.0 in /usr/local/lib/python3.10/dist-packages (from -r requirements.txt (line 15)) (2.4.1+cu121)\r\n",
      "Requirement already satisfied: torchvision>=0.9.0 in /usr/local/lib/python3.10/dist-packages (from -r requirements.txt (line 16)) (0.19.1+cu121)\r\n",
      "Requirement already satisfied: tqdm>=4.66.3 in /usr/local/lib/python3.10/dist-packages (from -r requirements.txt (line 17)) (4.66.5)\r\n",
      "Collecting ultralytics>=8.2.34 (from -r requirements.txt (line 18))\r\n",
      "  Downloading ultralytics-8.3.60-py3-none-any.whl.metadata (35 kB)\r\n",
      "Requirement already satisfied: pandas>=1.1.4 in /usr/local/lib/python3.10/dist-packages (from -r requirements.txt (line 27)) (2.1.4)\r\n",
      "Requirement already satisfied: seaborn>=0.11.0 in /usr/local/lib/python3.10/dist-packages (from -r requirements.txt (line 28)) (0.12.2)\r\n",
      "Requirement already satisfied: setuptools>=70.0.0 in /usr/local/lib/python3.10/dist-packages (from -r requirements.txt (line 42)) (71.0.4)\r\n",
      "Requirement already satisfied: gitdb<5,>=4.0.1 in /usr/local/lib/python3.10/dist-packages (from gitpython>=3.1.30->-r requirements.txt (line 5)) (4.0.11)\r\n",
      "Requirement already satisfied: contourpy>=1.0.1 in /usr/local/lib/python3.10/dist-packages (from matplotlib>=3.3->-r requirements.txt (line 6)) (1.3.0)\r\n",
      "Requirement already satisfied: cycler>=0.10 in /usr/local/lib/python3.10/dist-packages (from matplotlib>=3.3->-r requirements.txt (line 6)) (0.12.1)\r\n",
      "Requirement already satisfied: fonttools>=4.22.0 in /usr/local/lib/python3.10/dist-packages (from matplotlib>=3.3->-r requirements.txt (line 6)) (4.53.1)\r\n",
      "Requirement already satisfied: kiwisolver>=1.0.1 in /usr/local/lib/python3.10/dist-packages (from matplotlib>=3.3->-r requirements.txt (line 6)) (1.4.7)\r\n",
      "Requirement already satisfied: packaging>=20.0 in /usr/local/lib/python3.10/dist-packages (from matplotlib>=3.3->-r requirements.txt (line 6)) (24.1)\r\n",
      "Requirement already satisfied: pyparsing>=2.3.1 in /usr/local/lib/python3.10/dist-packages (from matplotlib>=3.3->-r requirements.txt (line 6)) (3.1.4)\r\n",
      "Requirement already satisfied: python-dateutil>=2.7 in /usr/local/lib/python3.10/dist-packages (from matplotlib>=3.3->-r requirements.txt (line 6)) (2.8.2)\r\n",
      "Requirement already satisfied: charset-normalizer<4,>=2 in /usr/local/lib/python3.10/dist-packages (from requests>=2.32.2->-r requirements.txt (line 12)) (3.3.2)\r\n",
      "Requirement already satisfied: idna<4,>=2.5 in /usr/local/lib/python3.10/dist-packages (from requests>=2.32.2->-r requirements.txt (line 12)) (3.10)\r\n",
      "Requirement already satisfied: urllib3<3,>=1.21.1 in /usr/local/lib/python3.10/dist-packages (from requests>=2.32.2->-r requirements.txt (line 12)) (2.2.3)\r\n",
      "Requirement already satisfied: certifi>=2017.4.17 in /usr/local/lib/python3.10/dist-packages (from requests>=2.32.2->-r requirements.txt (line 12)) (2024.8.30)\r\n",
      "Requirement already satisfied: filelock in /usr/local/lib/python3.10/dist-packages (from torch>=1.8.0->-r requirements.txt (line 15)) (3.16.1)\r\n",
      "Requirement already satisfied: typing-extensions>=4.8.0 in /usr/local/lib/python3.10/dist-packages (from torch>=1.8.0->-r requirements.txt (line 15)) (4.12.2)\r\n",
      "Requirement already satisfied: sympy in /usr/local/lib/python3.10/dist-packages (from torch>=1.8.0->-r requirements.txt (line 15)) (1.13.3)\r\n",
      "Requirement already satisfied: networkx in /usr/local/lib/python3.10/dist-packages (from torch>=1.8.0->-r requirements.txt (line 15)) (3.3)\r\n",
      "Requirement already satisfied: jinja2 in /usr/local/lib/python3.10/dist-packages (from torch>=1.8.0->-r requirements.txt (line 15)) (3.1.4)\r\n",
      "Requirement already satisfied: fsspec in /usr/local/lib/python3.10/dist-packages (from torch>=1.8.0->-r requirements.txt (line 15)) (2024.6.1)\r\n",
      "Requirement already satisfied: py-cpuinfo in /usr/local/lib/python3.10/dist-packages (from ultralytics>=8.2.34->-r requirements.txt (line 18)) (9.0.0)\r\n",
      "Collecting ultralytics-thop>=2.0.0 (from ultralytics>=8.2.34->-r requirements.txt (line 18))\r\n",
      "  Downloading ultralytics_thop-2.0.13-py3-none-any.whl.metadata (9.4 kB)\r\n",
      "Requirement already satisfied: pytz>=2020.1 in /usr/local/lib/python3.10/dist-packages (from pandas>=1.1.4->-r requirements.txt (line 27)) (2024.2)\r\n",
      "Requirement already satisfied: tzdata>=2022.1 in /usr/local/lib/python3.10/dist-packages (from pandas>=1.1.4->-r requirements.txt (line 27)) (2024.1)\r\n",
      "Requirement already satisfied: smmap<6,>=3.0.1 in /usr/local/lib/python3.10/dist-packages (from gitdb<5,>=4.0.1->gitpython>=3.1.30->-r requirements.txt (line 5)) (5.0.1)\r\n",
      "Requirement already satisfied: six>=1.5 in /usr/local/lib/python3.10/dist-packages (from python-dateutil>=2.7->matplotlib>=3.3->-r requirements.txt (line 6)) (1.16.0)\r\n",
      "Requirement already satisfied: MarkupSafe>=2.0 in /usr/local/lib/python3.10/dist-packages (from jinja2->torch>=1.8.0->-r requirements.txt (line 15)) (2.1.5)\r\n",
      "Requirement already satisfied: mpmath<1.4,>=1.1.0 in /usr/local/lib/python3.10/dist-packages (from sympy->torch>=1.8.0->-r requirements.txt (line 15)) (1.3.0)\r\n",
      "Downloading thop-0.1.1.post2209072238-py3-none-any.whl (15 kB)\r\n",
      "Downloading ultralytics-8.3.60-py3-none-any.whl (906 kB)\r\n",
      "\u001b[2K   \u001b[90m━━━━━━━━━━━━━━━━━━━━━━━━━━━━━━━━━━━━━━━━\u001b[0m \u001b[32m906.9/906.9 kB\u001b[0m \u001b[31m21.1 MB/s\u001b[0m eta \u001b[36m0:00:00\u001b[0m\r\n",
      "\u001b[?25hDownloading ultralytics_thop-2.0.13-py3-none-any.whl (26 kB)\r\n",
      "Installing collected packages: ultralytics-thop, thop, ultralytics\r\n",
      "Successfully installed thop-0.1.1.post2209072238 ultralytics-8.3.60 ultralytics-thop-2.0.13\r\n",
      "\u001b[2K   \u001b[90m━━━━━━━━━━━━━━━━━━━━━━━━━━━━━━━━━━━━━━━━\u001b[0m \u001b[32m710.6/710.6 kB\u001b[0m \u001b[31m16.2 MB/s\u001b[0m eta \u001b[36m0:00:00\u001b[0m\r\n",
      "\u001b[2K   \u001b[90m━━━━━━━━━━━━━━━━━━━━━━━━━━━━━━━━━━━━━━━━\u001b[0m \u001b[32m980.3/980.3 kB\u001b[0m \u001b[31m37.4 MB/s\u001b[0m eta \u001b[36m0:00:00\u001b[0m\r\n",
      "\u001b[2K   \u001b[90m━━━━━━━━━━━━━━━━━━━━━━━━━━━━━━━━━━━━━━━━\u001b[0m \u001b[32m3.3/3.3 MB\u001b[0m \u001b[31m83.4 MB/s\u001b[0m eta \u001b[36m0:00:00\u001b[0m\r\n",
      "\u001b[2K   \u001b[90m━━━━━━━━━━━━━━━━━━━━━━━━━━━━━━━━━━━━━━━━\u001b[0m \u001b[32m54.5/54.5 kB\u001b[0m \u001b[31m3.9 MB/s\u001b[0m eta \u001b[36m0:00:00\u001b[0m\r\n",
      "\u001b[2K   \u001b[90m━━━━━━━━━━━━━━━━━━━━━━━━━━━━━━━━━━━━━━━━\u001b[0m \u001b[32m137.9/137.9 kB\u001b[0m \u001b[31m10.3 MB/s\u001b[0m eta \u001b[36m0:00:00\u001b[0m\r\n",
      "\u001b[?25h"
     ]
    }
   ],
   "source": [
    "!pip install -r requirements.txt\n",
    "!pip install -q comet_ml"
   ]
  },
  {
   "cell_type": "markdown",
   "id": "cd64b95e",
   "metadata": {
    "papermill": {
     "duration": 0.1024,
     "end_time": "2025-01-13T16:46:49.159570",
     "exception": false,
     "start_time": "2025-01-13T16:46:49.057170",
     "status": "completed"
    },
    "tags": []
   },
   "source": [
    "### **Create YAML file**"
   ]
  },
  {
   "cell_type": "code",
   "execution_count": 4,
   "id": "502c9c1f",
   "metadata": {
    "execution": {
     "iopub.execute_input": "2025-01-13T16:46:49.370152Z",
     "iopub.status.busy": "2025-01-13T16:46:49.369786Z",
     "iopub.status.idle": "2025-01-13T16:46:49.407910Z",
     "shell.execute_reply": "2025-01-13T16:46:49.407015Z"
    },
    "papermill": {
     "duration": 0.145888,
     "end_time": "2025-01-13T16:46:49.409163",
     "exception": false,
     "start_time": "2025-01-13T16:46:49.263275",
     "status": "completed"
    },
    "tags": []
   },
   "outputs": [
    {
     "name": "stdout",
     "output_type": "stream",
     "text": [
      "YAML file has been created: ../yolo.yaml\n"
     ]
    }
   ],
   "source": [
    "import yaml\n",
    "\n",
    "# Define the data to be written into the YAML file\n",
    "data = {\n",
    "    \"names\": [\n",
    "        \"Person\", \"Ear\", \"Earmuffs\", \"Face\", \"Face-guard\", \"Face-mask-medical\",\n",
    "        \"Foot\", \"Tools\", \"Glasses\", \"Gloves\", \"Helmet\", \"Hands\", \"Head\",\n",
    "        \"Medical-suit\", \"Shoes\", \"Safety-suit\", \"Safety-vest\"\n",
    "    ],\n",
    "    \"nc\": 17,\n",
    "    \"test\": \"/kaggle/working/data/images/test\",\n",
    "    \"train\": \"/kaggle/working/data/images/train\",\n",
    "    \"val\": \"/kaggle/working/data/images/val\"\n",
    "}\n",
    "\n",
    "# Define the output path for the YAML file\n",
    "yaml_file_path = \"../yolo.yaml\"\n",
    "\n",
    "# Write the data to the YAML file\n",
    "with open(yaml_file_path, \"w\") as yaml_file:\n",
    "    yaml.dump(data, yaml_file, default_flow_style=False)\n",
    "\n",
    "print(f\"YAML file has been created: {yaml_file_path}\")"
   ]
  },
  {
   "cell_type": "markdown",
   "id": "0aec48aa",
   "metadata": {
    "papermill": {
     "duration": 0.101861,
     "end_time": "2025-01-13T16:46:49.619774",
     "exception": false,
     "start_time": "2025-01-13T16:46:49.517913",
     "status": "completed"
    },
    "tags": []
   },
   "source": [
    "### **Update AMP Autocast Syntax in train.py**"
   ]
  },
  {
   "cell_type": "code",
   "execution_count": 5,
   "id": "585478dd",
   "metadata": {
    "execution": {
     "iopub.execute_input": "2025-01-13T16:46:49.864911Z",
     "iopub.status.busy": "2025-01-13T16:46:49.864542Z",
     "iopub.status.idle": "2025-01-13T16:46:49.871241Z",
     "shell.execute_reply": "2025-01-13T16:46:49.870322Z"
    },
    "papermill": {
     "duration": 0.149512,
     "end_time": "2025-01-13T16:46:49.872618",
     "exception": false,
     "start_time": "2025-01-13T16:46:49.723106",
     "status": "completed"
    },
    "tags": []
   },
   "outputs": [
    {
     "name": "stdout",
     "output_type": "stream",
     "text": [
      "The deprecated `torch.cuda.amp.autocast` warnings in train.py have been updated!\n"
     ]
    }
   ],
   "source": [
    "# Define the file path for the script to be updated\n",
    "file_path = \"/kaggle/working/yolov5/train.py\"\n",
    "\n",
    "# Read the content of the file line by line\n",
    "with open(file_path, \"r\") as file:\n",
    "    lines = file.readlines()\n",
    "\n",
    "# Initialize a list to store updated lines\n",
    "updated_lines = []\n",
    "\n",
    "# Iterate through each line and update specific syntax\n",
    "for line in lines:\n",
    "    if \"with torch.cuda.amp.autocast(amp):\" in line:\n",
    "        # Replace the deprecated torch.cuda.amp.autocast syntax with the new syntax\n",
    "        line = line.replace(\n",
    "            \"with torch.cuda.amp.autocast(amp):\",\n",
    "            \"with torch.amp.autocast(device_type='cuda', dtype=torch.float16):\"\n",
    "        )\n",
    "    # Add the updated line to the list\n",
    "    updated_lines.append(line)\n",
    "\n",
    "# Write the modified content back to the file\n",
    "with open(file_path, \"w\") as file:\n",
    "    file.writelines(updated_lines)\n",
    "\n",
    "# Notify the user that the updates have been applied\n",
    "print(\"The deprecated `torch.cuda.amp.autocast` warnings in train.py have been updated!\")\n"
   ]
  },
  {
   "cell_type": "markdown",
   "id": "a75e5f72",
   "metadata": {
    "papermill": {
     "duration": 0.100581,
     "end_time": "2025-01-13T16:46:50.075964",
     "exception": false,
     "start_time": "2025-01-13T16:46:49.975383",
     "status": "completed"
    },
    "tags": []
   },
   "source": [
    "### **Train model YOLOv5**"
   ]
  },
  {
   "cell_type": "code",
   "execution_count": 6,
   "id": "4dc68966",
   "metadata": {
    "execution": {
     "iopub.execute_input": "2025-01-13T16:46:50.280691Z",
     "iopub.status.busy": "2025-01-13T16:46:50.280355Z",
     "iopub.status.idle": "2025-01-13T23:08:19.259573Z",
     "shell.execute_reply": "2025-01-13T23:08:19.258497Z"
    },
    "papermill": {
     "duration": 22889.085441,
     "end_time": "2025-01-13T23:08:19.262377",
     "exception": false,
     "start_time": "2025-01-13T16:46:50.176936",
     "status": "completed"
    },
    "tags": []
   },
   "outputs": [
    {
     "name": "stdout",
     "output_type": "stream",
     "text": [
      "Creating new Ultralytics Settings v0.0.6 file ✅ \r\n",
      "View Ultralytics Settings with 'yolo settings' or at '/root/.config/Ultralytics/settings.json'\r\n",
      "Update Settings with 'yolo settings key=value', i.e. 'yolo settings runs_dir=path/to/dir'. For help see https://docs.ultralytics.com/quickstart/#ultralytics-settings.\r\n",
      "\u001b[34m\u001b[1mwandb\u001b[0m: WARNING ⚠️ wandb is deprecated and will be removed in a future release. See supported integrations at https://github.com/ultralytics/yolov5#integrations.\r\n",
      "2025-01-13 16:47:02.660718: E external/local_xla/xla/stream_executor/cuda/cuda_fft.cc:485] Unable to register cuFFT factory: Attempting to register factory for plugin cuFFT when one has already been registered\r\n",
      "2025-01-13 16:47:02.857025: E external/local_xla/xla/stream_executor/cuda/cuda_dnn.cc:8454] Unable to register cuDNN factory: Attempting to register factory for plugin cuDNN when one has already been registered\r\n",
      "2025-01-13 16:47:02.918932: E external/local_xla/xla/stream_executor/cuda/cuda_blas.cc:1452] Unable to register cuBLAS factory: Attempting to register factory for plugin cuBLAS when one has already been registered\r\n",
      "\u001b[34m\u001b[1mwandb\u001b[0m: Using wandb-core as the SDK backend.  Please refer to https://wandb.me/wandb-core for more information.\r\n",
      "\u001b[34m\u001b[1mwandb\u001b[0m: (1) Create a W&B account\r\n",
      "\u001b[34m\u001b[1mwandb\u001b[0m: (2) Use an existing W&B account\r\n",
      "\u001b[34m\u001b[1mwandb\u001b[0m: (3) Don't visualize my results\r\n",
      "\u001b[34m\u001b[1mwandb\u001b[0m: Enter your choice: (30 second timeout) \r\n",
      "\u001b[34m\u001b[1mwandb\u001b[0m: W&B disabled due to login timeout.\r\n",
      "\u001b[34m\u001b[1mtrain: \u001b[0mweights=yolov5m.pt, cfg=, data=../yolo.yaml, hyp=data/hyps/hyp.scratch-low.yaml, epochs=10, batch_size=16, imgsz=640, rect=False, resume=False, nosave=False, noval=False, noautoanchor=False, noplots=False, evolve=None, evolve_population=data/hyps, resume_evolve=None, bucket=, cache=None, image_weights=False, device=, multi_scale=False, single_cls=False, optimizer=SGD, sync_bn=False, workers=8, project=/kaggle/working/results/yolov5/train, name=exp, exist_ok=False, quad=False, cos_lr=False, label_smoothing=0.0, patience=100, freeze=[0], save_period=-1, seed=0, local_rank=-1, entity=None, upload_dataset=False, bbox_interval=-1, artifact_alias=latest, ndjson_console=False, ndjson_file=False\r\n",
      "\u001b[34m\u001b[1mgithub: \u001b[0mup to date with https://github.com/ultralytics/yolov5 ✅\r\n",
      "YOLOv5 🚀 v7.0-395-g6420a1db Python-3.10.12 torch-2.4.1+cu121 CUDA:0 (Tesla P100-PCIE-16GB, 16269MiB)\r\n",
      "\r\n",
      "\u001b[34m\u001b[1mhyperparameters: \u001b[0mlr0=0.01, lrf=0.01, momentum=0.937, weight_decay=0.0005, warmup_epochs=3.0, warmup_momentum=0.8, warmup_bias_lr=0.1, box=0.05, cls=0.5, cls_pw=1.0, obj=1.0, obj_pw=1.0, iou_t=0.2, anchor_t=4.0, fl_gamma=0.0, hsv_h=0.015, hsv_s=0.7, hsv_v=0.4, degrees=0.0, translate=0.1, scale=0.5, shear=0.0, perspective=0.0, flipud=0.0, fliplr=0.5, mosaic=1.0, mixup=0.0, copy_paste=0.0\r\n",
      "\u001b[34m\u001b[1mTensorBoard: \u001b[0mStart with 'tensorboard --logdir /kaggle/working/results/yolov5/train', view at http://localhost:6006/\r\n",
      "\u001b[1;38;5;39mCOMET INFO:\u001b[0m Using '/kaggle/working/yolov5/.cometml-runs' path as offline directory. Pass 'offline_directory' parameter into constructor or set the 'COMET_OFFLINE_DIRECTORY' environment variable to manually choose where to store offline experiment archives.\r\n",
      "Downloading https://github.com/ultralytics/assets/releases/download/v0.0.0/Arial.ttf to /root/.config/Ultralytics/Arial.ttf...\r\n",
      "100%|████████████████████████████████████████| 755k/755k [00:00<00:00, 25.3MB/s]\r\n",
      "Downloading https://github.com/ultralytics/yolov5/releases/download/v7.0/yolov5m.pt to yolov5m.pt...\r\n",
      "100%|███████████████████████████████████████| 40.8M/40.8M [00:00<00:00, 114MB/s]\r\n",
      "\r\n",
      "Overriding model.yaml nc=80 with nc=17\r\n",
      "\r\n",
      "                 from  n    params  module                                  arguments                     \r\n",
      "  0                -1  1      5280  models.common.Conv                      [3, 48, 6, 2, 2]              \r\n",
      "  1                -1  1     41664  models.common.Conv                      [48, 96, 3, 2]                \r\n",
      "  2                -1  2     65280  models.common.C3                        [96, 96, 2]                   \r\n",
      "  3                -1  1    166272  models.common.Conv                      [96, 192, 3, 2]               \r\n",
      "  4                -1  4    444672  models.common.C3                        [192, 192, 4]                 \r\n",
      "  5                -1  1    664320  models.common.Conv                      [192, 384, 3, 2]              \r\n",
      "  6                -1  6   2512896  models.common.C3                        [384, 384, 6]                 \r\n",
      "  7                -1  1   2655744  models.common.Conv                      [384, 768, 3, 2]              \r\n",
      "  8                -1  2   4134912  models.common.C3                        [768, 768, 2]                 \r\n",
      "  9                -1  1   1476864  models.common.SPPF                      [768, 768, 5]                 \r\n",
      " 10                -1  1    295680  models.common.Conv                      [768, 384, 1, 1]              \r\n",
      " 11                -1  1         0  torch.nn.modules.upsampling.Upsample    [None, 2, 'nearest']          \r\n",
      " 12           [-1, 6]  1         0  models.common.Concat                    [1]                           \r\n",
      " 13                -1  2   1182720  models.common.C3                        [768, 384, 2, False]          \r\n",
      " 14                -1  1     74112  models.common.Conv                      [384, 192, 1, 1]              \r\n",
      " 15                -1  1         0  torch.nn.modules.upsampling.Upsample    [None, 2, 'nearest']          \r\n",
      " 16           [-1, 4]  1         0  models.common.Concat                    [1]                           \r\n",
      " 17                -1  2    296448  models.common.C3                        [384, 192, 2, False]          \r\n",
      " 18                -1  1    332160  models.common.Conv                      [192, 192, 3, 2]              \r\n",
      " 19          [-1, 14]  1         0  models.common.Concat                    [1]                           \r\n",
      " 20                -1  2   1035264  models.common.C3                        [384, 384, 2, False]          \r\n",
      " 21                -1  1   1327872  models.common.Conv                      [384, 384, 3, 2]              \r\n",
      " 22          [-1, 10]  1         0  models.common.Concat                    [1]                           \r\n",
      " 23                -1  2   4134912  models.common.C3                        [768, 768, 2, False]          \r\n",
      " 24      [17, 20, 23]  1     88902  models.yolo.Detect                      [17, [[10, 13, 16, 30, 33, 23], [30, 61, 62, 45, 59, 119], [116, 90, 156, 198, 373, 326]], [192, 384, 768]]\r\n",
      "Model summary: 291 layers, 20935974 parameters, 20935974 gradients, 48.4 GFLOPs\r\n",
      "\r\n",
      "Transferred 475/481 items from yolov5m.pt\r\n",
      "/kaggle/working/yolov5/models/common.py:895: FutureWarning: `torch.cuda.amp.autocast(args...)` is deprecated. Please use `torch.amp.autocast('cuda', args...)` instead.\r\n",
      "  with amp.autocast(autocast):\r\n",
      "/kaggle/working/yolov5/models/common.py:895: FutureWarning: `torch.cuda.amp.autocast(args...)` is deprecated. Please use `torch.amp.autocast('cuda', args...)` instead.\r\n",
      "  with amp.autocast(autocast):\r\n",
      "\u001b[34m\u001b[1mAMP: \u001b[0mchecks passed ✅\r\n",
      "\u001b[34m\u001b[1moptimizer:\u001b[0m SGD(lr=0.01) with parameter groups 79 weight(decay=0.0), 82 weight(decay=0.0005), 82 bias\r\n",
      "\u001b[34m\u001b[1malbumentations: \u001b[0mBlur(p=0.01, blur_limit=(3, 7)), MedianBlur(p=0.01, blur_limit=(3, 7)), ToGray(p=0.01, num_output_channels=3, method='weighted_average'), CLAHE(p=0.01, clip_limit=(1, 4.0), tile_grid_size=(8, 8))\r\n",
      "/usr/lib/python3.10/multiprocessing/popen_fork.py:66: RuntimeWarning: os.fork() was called. os.fork() is incompatible with multithreaded code, and JAX is multithreaded, so this will likely lead to a deadlock.\r\n",
      "  self.pid = os.fork()\r\n",
      "\u001b[34m\u001b[1mtrain: \u001b[0mScanning /kaggle/working/data/labels/train... 5183 images, 0 backgrounds,\u001b[0m\r\n",
      "\u001b[34m\u001b[1mtrain: \u001b[0mNew cache created: /kaggle/working/data/labels/train.cache\r\n",
      "\u001b[34m\u001b[1mval: \u001b[0mScanning /kaggle/working/data/labels/val... 1296 images, 0 backgrounds, 0 c\u001b[0m\r\n",
      "\u001b[34m\u001b[1mval: \u001b[0mNew cache created: /kaggle/working/data/labels/val.cache\r\n",
      "\r\n",
      "\u001b[34m\u001b[1mAutoAnchor: \u001b[0m4.62 anchors/target, 0.984 Best Possible Recall (BPR). Current anchors are a good fit to dataset ✅\r\n",
      "Plotting labels to /kaggle/working/results/yolov5/train/exp/labels.jpg... \r\n",
      "/usr/local/lib/python3.10/dist-packages/seaborn/_oldcore.py:1119: FutureWarning: use_inf_as_na option is deprecated and will be removed in a future version. Convert inf values to NaN before operating instead.\r\n",
      "  with pd.option_context('mode.use_inf_as_na', True):\r\n",
      "/usr/local/lib/python3.10/dist-packages/seaborn/_oldcore.py:1119: FutureWarning: use_inf_as_na option is deprecated and will be removed in a future version. Convert inf values to NaN before operating instead.\r\n",
      "  with pd.option_context('mode.use_inf_as_na', True):\r\n",
      "/usr/local/lib/python3.10/dist-packages/seaborn/_oldcore.py:1119: FutureWarning: use_inf_as_na option is deprecated and will be removed in a future version. Convert inf values to NaN before operating instead.\r\n",
      "  with pd.option_context('mode.use_inf_as_na', True):\r\n",
      "/usr/local/lib/python3.10/dist-packages/seaborn/_oldcore.py:1119: FutureWarning: use_inf_as_na option is deprecated and will be removed in a future version. Convert inf values to NaN before operating instead.\r\n",
      "  with pd.option_context('mode.use_inf_as_na', True):\r\n",
      "/usr/local/lib/python3.10/dist-packages/seaborn/_oldcore.py:1119: FutureWarning: use_inf_as_na option is deprecated and will be removed in a future version. Convert inf values to NaN before operating instead.\r\n",
      "  with pd.option_context('mode.use_inf_as_na', True):\r\n",
      "/usr/local/lib/python3.10/dist-packages/seaborn/_oldcore.py:1119: FutureWarning: use_inf_as_na option is deprecated and will be removed in a future version. Convert inf values to NaN before operating instead.\r\n",
      "  with pd.option_context('mode.use_inf_as_na', True):\r\n",
      "/usr/local/lib/python3.10/dist-packages/seaborn/_oldcore.py:1119: FutureWarning: use_inf_as_na option is deprecated and will be removed in a future version. Convert inf values to NaN before operating instead.\r\n",
      "  with pd.option_context('mode.use_inf_as_na', True):\r\n",
      "/usr/local/lib/python3.10/dist-packages/seaborn/_oldcore.py:1119: FutureWarning: use_inf_as_na option is deprecated and will be removed in a future version. Convert inf values to NaN before operating instead.\r\n",
      "  with pd.option_context('mode.use_inf_as_na', True):\r\n",
      "/usr/local/lib/python3.10/dist-packages/seaborn/_oldcore.py:1119: FutureWarning: use_inf_as_na option is deprecated and will be removed in a future version. Convert inf values to NaN before operating instead.\r\n",
      "  with pd.option_context('mode.use_inf_as_na', True):\r\n",
      "/usr/local/lib/python3.10/dist-packages/seaborn/_oldcore.py:1119: FutureWarning: use_inf_as_na option is deprecated and will be removed in a future version. Convert inf values to NaN before operating instead.\r\n",
      "  with pd.option_context('mode.use_inf_as_na', True):\r\n",
      "/usr/local/lib/python3.10/dist-packages/seaborn/_oldcore.py:1119: FutureWarning: use_inf_as_na option is deprecated and will be removed in a future version. Convert inf values to NaN before operating instead.\r\n",
      "  with pd.option_context('mode.use_inf_as_na', True):\r\n",
      "/usr/local/lib/python3.10/dist-packages/seaborn/_oldcore.py:1119: FutureWarning: use_inf_as_na option is deprecated and will be removed in a future version. Convert inf values to NaN before operating instead.\r\n",
      "  with pd.option_context('mode.use_inf_as_na', True):\r\n",
      "/usr/local/lib/python3.10/dist-packages/seaborn/_oldcore.py:1119: FutureWarning: use_inf_as_na option is deprecated and will be removed in a future version. Convert inf values to NaN before operating instead.\r\n",
      "  with pd.option_context('mode.use_inf_as_na', True):\r\n",
      "/usr/local/lib/python3.10/dist-packages/seaborn/_oldcore.py:1119: FutureWarning: use_inf_as_na option is deprecated and will be removed in a future version. Convert inf values to NaN before operating instead.\r\n",
      "  with pd.option_context('mode.use_inf_as_na', True):\r\n",
      "/usr/local/lib/python3.10/dist-packages/seaborn/_oldcore.py:1119: FutureWarning: use_inf_as_na option is deprecated and will be removed in a future version. Convert inf values to NaN before operating instead.\r\n",
      "  with pd.option_context('mode.use_inf_as_na', True):\r\n",
      "/usr/local/lib/python3.10/dist-packages/seaborn/_oldcore.py:1119: FutureWarning: use_inf_as_na option is deprecated and will be removed in a future version. Convert inf values to NaN before operating instead.\r\n",
      "  with pd.option_context('mode.use_inf_as_na', True):\r\n",
      "/usr/local/lib/python3.10/dist-packages/seaborn/_oldcore.py:1119: FutureWarning: use_inf_as_na option is deprecated and will be removed in a future version. Convert inf values to NaN before operating instead.\r\n",
      "  with pd.option_context('mode.use_inf_as_na', True):\r\n",
      "/usr/local/lib/python3.10/dist-packages/seaborn/_oldcore.py:1119: FutureWarning: use_inf_as_na option is deprecated and will be removed in a future version. Convert inf values to NaN before operating instead.\r\n",
      "  with pd.option_context('mode.use_inf_as_na', True):\r\n",
      "/usr/local/lib/python3.10/dist-packages/seaborn/_oldcore.py:1119: FutureWarning: use_inf_as_na option is deprecated and will be removed in a future version. Convert inf values to NaN before operating instead.\r\n",
      "  with pd.option_context('mode.use_inf_as_na', True):\r\n",
      "/usr/local/lib/python3.10/dist-packages/seaborn/_oldcore.py:1119: FutureWarning: use_inf_as_na option is deprecated and will be removed in a future version. Convert inf values to NaN before operating instead.\r\n",
      "  with pd.option_context('mode.use_inf_as_na', True):\r\n",
      "/kaggle/working/yolov5/train.py:355: FutureWarning: `torch.cuda.amp.GradScaler(args...)` is deprecated. Please use `torch.amp.GradScaler('cuda', args...)` instead.\r\n",
      "  scaler = torch.cuda.amp.GradScaler(enabled=amp)\r\n",
      "Image sizes 640 train, 640 val\r\n",
      "Using 4 dataloader workers\r\n",
      "Logging results to \u001b[1m/kaggle/working/results/yolov5/train/exp\u001b[0m\r\n",
      "Starting training for 10 epochs...\r\n",
      "\r\n",
      "      Epoch    GPU_mem   box_loss   obj_loss   cls_loss  Instances       Size\r\n",
      "        0/9      7.32G    0.08199    0.07938    0.05426        230        640: 1\r\n",
      "                 Class     Images  Instances          P          R      mAP50   \r\n",
      "                   all       1296      11701      0.831      0.187      0.175     0.0784\r\n",
      "\r\n",
      "      Epoch    GPU_mem   box_loss   obj_loss   cls_loss  Instances       Size\r\n",
      "        1/9      7.32G    0.06147    0.06789    0.03291        260        640: 1\r\n",
      "                 Class     Images  Instances          P          R      mAP50   \r\n",
      "                   all       1296      11701      0.869      0.235      0.257      0.128\r\n",
      "\r\n",
      "      Epoch    GPU_mem   box_loss   obj_loss   cls_loss  Instances       Size\r\n",
      "        2/9      7.32G    0.05606    0.06538    0.02709        276        640: 1\r\n",
      "                 Class     Images  Instances          P          R      mAP50   \r\n",
      "                   all       1296      11701      0.842      0.277      0.307      0.153\r\n",
      "\r\n",
      "      Epoch    GPU_mem   box_loss   obj_loss   cls_loss  Instances       Size\r\n",
      "        3/9      7.34G    0.05052    0.06472    0.02413        198        640: 1\r\n",
      "                 Class     Images  Instances          P          R      mAP50   \r\n",
      "                   all       1296      11701       0.86      0.302      0.338      0.185\r\n",
      "\r\n",
      "      Epoch    GPU_mem   box_loss   obj_loss   cls_loss  Instances       Size\r\n",
      "        4/9      7.34G    0.04802    0.06347    0.02231        268        640: 1\r\n",
      "                 Class     Images  Instances          P          R      mAP50   \r\n",
      "                   all       1296      11701      0.844       0.31      0.361      0.206\r\n",
      "\r\n",
      "      Epoch    GPU_mem   box_loss   obj_loss   cls_loss  Instances       Size\r\n",
      "        5/9      7.34G    0.04493    0.06208    0.02109        337        640: 1\r\n",
      "                 Class     Images  Instances          P          R      mAP50   \r\n",
      "                   all       1296      11701      0.844      0.335      0.388       0.22\r\n",
      "\r\n",
      "      Epoch    GPU_mem   box_loss   obj_loss   cls_loss  Instances       Size\r\n",
      "        6/9      7.34G    0.04346    0.06129       0.02        316        640: 1\r\n",
      "                 Class     Images  Instances          P          R      mAP50   \r\n",
      "                   all       1296      11701      0.766      0.382      0.425      0.244\r\n",
      "\r\n",
      "      Epoch    GPU_mem   box_loss   obj_loss   cls_loss  Instances       Size\r\n",
      "        7/9      7.34G    0.04177    0.05978    0.01914        253        640: 1\r\n",
      "                 Class     Images  Instances          P          R      mAP50   \r\n",
      "                   all       1296      11701      0.777      0.395      0.447      0.263\r\n",
      "\r\n",
      "      Epoch    GPU_mem   box_loss   obj_loss   cls_loss  Instances       Size\r\n",
      "        8/9      7.34G    0.04014    0.05843    0.01798        270        640: 1\r\n",
      "                 Class     Images  Instances          P          R      mAP50   \r\n",
      "                   all       1296      11701      0.795       0.41      0.459      0.271\r\n",
      "\r\n",
      "      Epoch    GPU_mem   box_loss   obj_loss   cls_loss  Instances       Size\r\n",
      "        9/9      7.34G    0.03872    0.05708    0.01731        223        640: 1\r\n",
      "                 Class     Images  Instances          P          R      mAP50   \r\n",
      "                   all       1296      11701      0.802       0.42      0.467      0.281\r\n",
      "\r\n",
      "10 epochs completed in 6.276 hours.\r\n",
      "Optimizer stripped from /kaggle/working/results/yolov5/train/exp/weights/last.pt, 42.3MB\r\n",
      "Optimizer stripped from /kaggle/working/results/yolov5/train/exp/weights/best.pt, 42.3MB\r\n",
      "\r\n",
      "Validating /kaggle/working/results/yolov5/train/exp/weights/best.pt...\r\n",
      "Fusing layers... \r\n",
      "Model summary: 212 layers, 20917590 parameters, 0 gradients, 48.1 GFLOPs\r\n",
      "                 Class     Images  Instances          P          R      mAP50   \r\n",
      "                   all       1296      11701      0.802       0.42      0.467      0.281\r\n",
      "                Person       1296       2154      0.883      0.862      0.907       0.69\r\n",
      "                   Ear       1296       1167      0.858       0.76      0.791      0.445\r\n",
      "              Earmuffs       1296         55          1          0      0.046     0.0234\r\n",
      "                  Face       1296       1378      0.826      0.845      0.876      0.601\r\n",
      "            Face-guard       1296         31          1          0     0.0945     0.0408\r\n",
      "     Face-mask-medical       1296         78      0.742      0.487      0.542      0.287\r\n",
      "                  Foot       1296        116          1          0     0.0819      0.032\r\n",
      "                 Tools       1296        727       0.52      0.293      0.303      0.152\r\n",
      "               Glasses       1296        286      0.472      0.255      0.264      0.095\r\n",
      "                Gloves       1296        446      0.761      0.564       0.64       0.38\r\n",
      "                Helmet       1296        150      0.706      0.567       0.63      0.339\r\n",
      "                 Hands       1296       2436      0.852      0.813      0.856      0.551\r\n",
      "                  Head       1296       1892      0.892      0.833      0.864      0.613\r\n",
      "          Medical-suit       1296         22          1          0      0.117     0.0794\r\n",
      "                 Shoes       1296        655      0.686      0.565      0.579      0.285\r\n",
      "           Safety-suit       1296         53          1          0     0.0912     0.0397\r\n",
      "           Safety-vest       1296         55      0.432      0.291      0.251      0.122\r\n",
      "Results saved to \u001b[1m/kaggle/working/results/yolov5/train/exp\u001b[0m\r\n",
      "\u001b[1;38;5;39mCOMET INFO:\u001b[0m ---------------------------------------------------------------------------------------\r\n",
      "\u001b[1;38;5;39mCOMET INFO:\u001b[0m Comet.ml OfflineExperiment Summary\r\n",
      "\u001b[1;38;5;39mCOMET INFO:\u001b[0m ---------------------------------------------------------------------------------------\r\n",
      "\u001b[1;38;5;39mCOMET INFO:\u001b[0m   Data:\r\n",
      "\u001b[1;38;5;39mCOMET INFO:\u001b[0m     display_summary_level : 1\r\n",
      "\u001b[1;38;5;39mCOMET INFO:\u001b[0m     name                  : exp\r\n",
      "\u001b[1;38;5;39mCOMET INFO:\u001b[0m     url                   : [OfflineExperiment will get URL after upload]\r\n",
      "\u001b[1;38;5;39mCOMET INFO:\u001b[0m   Metrics [count] (min, max):\r\n",
      "\u001b[1;38;5;39mCOMET INFO:\u001b[0m     loss [323]                : (1.3867961168289185, 4.80668830871582)\r\n",
      "\u001b[1;38;5;39mCOMET INFO:\u001b[0m     metrics/mAP_0.5 [20]      : (0.17466782409152667, 0.4667103335926241)\r\n",
      "\u001b[1;38;5;39mCOMET INFO:\u001b[0m     metrics/mAP_0.5:0.95 [20] : (0.07842713028865224, 0.28107300258793494)\r\n",
      "\u001b[1;38;5;39mCOMET INFO:\u001b[0m     metrics/precision [20]    : (0.765877483454725, 0.8685652212585451)\r\n",
      "\u001b[1;38;5;39mCOMET INFO:\u001b[0m     metrics/recall [20]       : (0.18745777397047086, 0.4199894465697897)\r\n",
      "\u001b[1;38;5;39mCOMET INFO:\u001b[0m     train/box_loss [20]       : (0.03871823847293854, 0.08198527991771698)\r\n",
      "\u001b[1;38;5;39mCOMET INFO:\u001b[0m     train/cls_loss [20]       : (0.017306536436080933, 0.05425878241658211)\r\n",
      "\u001b[1;38;5;39mCOMET INFO:\u001b[0m     train/obj_loss [20]       : (0.05708281323313713, 0.07937991619110107)\r\n",
      "\u001b[1;38;5;39mCOMET INFO:\u001b[0m     val/box_loss [20]         : (0.037842731922864914, 0.06152932345867157)\r\n",
      "\u001b[1;38;5;39mCOMET INFO:\u001b[0m     val/cls_loss [20]         : (0.01641523651778698, 0.037500616163015366)\r\n",
      "\u001b[1;38;5;39mCOMET INFO:\u001b[0m     val/obj_loss [20]         : (0.04569672420620918, 0.05090462416410446)\r\n",
      "\u001b[1;38;5;39mCOMET INFO:\u001b[0m     x/lr0 [20]                : (0.00208, 0.0700925925925926)\r\n",
      "\u001b[1;38;5;39mCOMET INFO:\u001b[0m     x/lr1 [20]                : (0.00208, 0.008011748971193416)\r\n",
      "\u001b[1;38;5;39mCOMET INFO:\u001b[0m     x/lr2 [20]                : (0.00208, 0.008011748971193416)\r\n",
      "\u001b[1;38;5;39mCOMET INFO:\u001b[0m   Others:\r\n",
      "\u001b[1;38;5;39mCOMET INFO:\u001b[0m     Name                        : exp\r\n",
      "\u001b[1;38;5;39mCOMET INFO:\u001b[0m     comet_log_batch_metrics     : False\r\n",
      "\u001b[1;38;5;39mCOMET INFO:\u001b[0m     comet_log_confusion_matrix  : True\r\n",
      "\u001b[1;38;5;39mCOMET INFO:\u001b[0m     comet_log_per_class_metrics : False\r\n",
      "\u001b[1;38;5;39mCOMET INFO:\u001b[0m     comet_max_image_uploads     : 100\r\n",
      "\u001b[1;38;5;39mCOMET INFO:\u001b[0m     comet_mode                  : online\r\n",
      "\u001b[1;38;5;39mCOMET INFO:\u001b[0m     comet_model_name            : yolov5\r\n",
      "\u001b[1;38;5;39mCOMET INFO:\u001b[0m     hasNestedParams             : True\r\n",
      "\u001b[1;38;5;39mCOMET INFO:\u001b[0m     offline_experiment          : True\r\n",
      "\u001b[1;38;5;39mCOMET INFO:\u001b[0m   Parameters:\r\n",
      "\u001b[1;38;5;39mCOMET INFO:\u001b[0m     anchor_t            : 4.0\r\n",
      "\u001b[1;38;5;39mCOMET INFO:\u001b[0m     artifact_alias      : latest\r\n",
      "\u001b[1;38;5;39mCOMET INFO:\u001b[0m     batch_size          : 16\r\n",
      "\u001b[1;38;5;39mCOMET INFO:\u001b[0m     bbox_interval       : -1\r\n",
      "\u001b[1;38;5;39mCOMET INFO:\u001b[0m     box                 : 0.05\r\n",
      "\u001b[1;38;5;39mCOMET INFO:\u001b[0m     bucket              : \r\n",
      "\u001b[1;38;5;39mCOMET INFO:\u001b[0m     cache               : None\r\n",
      "\u001b[1;38;5;39mCOMET INFO:\u001b[0m     cfg                 : \r\n",
      "\u001b[1;38;5;39mCOMET INFO:\u001b[0m     cls                 : 0.10625\r\n",
      "\u001b[1;38;5;39mCOMET INFO:\u001b[0m     cls_pw              : 1.0\r\n",
      "\u001b[1;38;5;39mCOMET INFO:\u001b[0m     copy_paste          : 0.0\r\n",
      "\u001b[1;38;5;39mCOMET INFO:\u001b[0m     cos_lr              : False\r\n",
      "\u001b[1;38;5;39mCOMET INFO:\u001b[0m     degrees             : 0.0\r\n",
      "\u001b[1;38;5;39mCOMET INFO:\u001b[0m     device              : \r\n",
      "\u001b[1;38;5;39mCOMET INFO:\u001b[0m     entity              : None\r\n",
      "\u001b[1;38;5;39mCOMET INFO:\u001b[0m     evolve              : None\r\n",
      "\u001b[1;38;5;39mCOMET INFO:\u001b[0m     evolve_population   : data/hyps\r\n",
      "\u001b[1;38;5;39mCOMET INFO:\u001b[0m     exist_ok            : False\r\n",
      "\u001b[1;38;5;39mCOMET INFO:\u001b[0m     fl_gamma            : 0.0\r\n",
      "\u001b[1;38;5;39mCOMET INFO:\u001b[0m     fliplr              : 0.5\r\n",
      "\u001b[1;38;5;39mCOMET INFO:\u001b[0m     flipud              : 0.0\r\n",
      "\u001b[1;38;5;39mCOMET INFO:\u001b[0m     freeze              : [0]\r\n",
      "\u001b[1;38;5;39mCOMET INFO:\u001b[0m     hsv_h               : 0.015\r\n",
      "\u001b[1;38;5;39mCOMET INFO:\u001b[0m     hsv_s               : 0.7\r\n",
      "\u001b[1;38;5;39mCOMET INFO:\u001b[0m     hsv_v               : 0.4\r\n",
      "\u001b[1;38;5;39mCOMET INFO:\u001b[0m     hyp|anchor_t        : 4.0\r\n",
      "\u001b[1;38;5;39mCOMET INFO:\u001b[0m     hyp|box             : 0.05\r\n",
      "\u001b[1;38;5;39mCOMET INFO:\u001b[0m     hyp|cls             : 0.5\r\n",
      "\u001b[1;38;5;39mCOMET INFO:\u001b[0m     hyp|cls_pw          : 1.0\r\n",
      "\u001b[1;38;5;39mCOMET INFO:\u001b[0m     hyp|copy_paste      : 0.0\r\n",
      "\u001b[1;38;5;39mCOMET INFO:\u001b[0m     hyp|degrees         : 0.0\r\n",
      "\u001b[1;38;5;39mCOMET INFO:\u001b[0m     hyp|fl_gamma        : 0.0\r\n",
      "\u001b[1;38;5;39mCOMET INFO:\u001b[0m     hyp|fliplr          : 0.5\r\n",
      "\u001b[1;38;5;39mCOMET INFO:\u001b[0m     hyp|flipud          : 0.0\r\n",
      "\u001b[1;38;5;39mCOMET INFO:\u001b[0m     hyp|hsv_h           : 0.015\r\n",
      "\u001b[1;38;5;39mCOMET INFO:\u001b[0m     hyp|hsv_s           : 0.7\r\n",
      "\u001b[1;38;5;39mCOMET INFO:\u001b[0m     hyp|hsv_v           : 0.4\r\n",
      "\u001b[1;38;5;39mCOMET INFO:\u001b[0m     hyp|iou_t           : 0.2\r\n",
      "\u001b[1;38;5;39mCOMET INFO:\u001b[0m     hyp|lr0             : 0.01\r\n",
      "\u001b[1;38;5;39mCOMET INFO:\u001b[0m     hyp|lrf             : 0.01\r\n",
      "\u001b[1;38;5;39mCOMET INFO:\u001b[0m     hyp|mixup           : 0.0\r\n",
      "\u001b[1;38;5;39mCOMET INFO:\u001b[0m     hyp|momentum        : 0.937\r\n",
      "\u001b[1;38;5;39mCOMET INFO:\u001b[0m     hyp|mosaic          : 1.0\r\n",
      "\u001b[1;38;5;39mCOMET INFO:\u001b[0m     hyp|obj             : 1.0\r\n",
      "\u001b[1;38;5;39mCOMET INFO:\u001b[0m     hyp|obj_pw          : 1.0\r\n",
      "\u001b[1;38;5;39mCOMET INFO:\u001b[0m     hyp|perspective     : 0.0\r\n",
      "\u001b[1;38;5;39mCOMET INFO:\u001b[0m     hyp|scale           : 0.5\r\n",
      "\u001b[1;38;5;39mCOMET INFO:\u001b[0m     hyp|shear           : 0.0\r\n",
      "\u001b[1;38;5;39mCOMET INFO:\u001b[0m     hyp|translate       : 0.1\r\n",
      "\u001b[1;38;5;39mCOMET INFO:\u001b[0m     hyp|warmup_bias_lr  : 0.1\r\n",
      "\u001b[1;38;5;39mCOMET INFO:\u001b[0m     hyp|warmup_epochs   : 3.0\r\n",
      "\u001b[1;38;5;39mCOMET INFO:\u001b[0m     hyp|warmup_momentum : 0.8\r\n",
      "\u001b[1;38;5;39mCOMET INFO:\u001b[0m     hyp|weight_decay    : 0.0005\r\n",
      "\u001b[1;38;5;39mCOMET INFO:\u001b[0m     image_weights       : False\r\n",
      "\u001b[1;38;5;39mCOMET INFO:\u001b[0m     imgsz               : 640\r\n",
      "\u001b[1;38;5;39mCOMET INFO:\u001b[0m     iou_t               : 0.2\r\n",
      "\u001b[1;38;5;39mCOMET INFO:\u001b[0m     label_smoothing     : 0.0\r\n",
      "\u001b[1;38;5;39mCOMET INFO:\u001b[0m     local_rank          : -1\r\n",
      "\u001b[1;38;5;39mCOMET INFO:\u001b[0m     lr0                 : 0.01\r\n",
      "\u001b[1;38;5;39mCOMET INFO:\u001b[0m     lrf                 : 0.01\r\n",
      "\u001b[1;38;5;39mCOMET INFO:\u001b[0m     mixup               : 0.0\r\n",
      "\u001b[1;38;5;39mCOMET INFO:\u001b[0m     momentum            : 0.937\r\n",
      "\u001b[1;38;5;39mCOMET INFO:\u001b[0m     mosaic              : 1.0\r\n",
      "\u001b[1;38;5;39mCOMET INFO:\u001b[0m     multi_scale         : False\r\n",
      "\u001b[1;38;5;39mCOMET INFO:\u001b[0m     name                : exp\r\n",
      "\u001b[1;38;5;39mCOMET INFO:\u001b[0m     ndjson_console      : False\r\n",
      "\u001b[1;38;5;39mCOMET INFO:\u001b[0m     ndjson_file         : False\r\n",
      "\u001b[1;38;5;39mCOMET INFO:\u001b[0m     noautoanchor        : False\r\n",
      "\u001b[1;38;5;39mCOMET INFO:\u001b[0m     noplots             : False\r\n",
      "\u001b[1;38;5;39mCOMET INFO:\u001b[0m     nosave              : False\r\n",
      "\u001b[1;38;5;39mCOMET INFO:\u001b[0m     noval               : False\r\n",
      "\u001b[1;38;5;39mCOMET INFO:\u001b[0m     obj                 : 1.0\r\n",
      "\u001b[1;38;5;39mCOMET INFO:\u001b[0m     obj_pw              : 1.0\r\n",
      "\u001b[1;38;5;39mCOMET INFO:\u001b[0m     optimizer           : SGD\r\n",
      "\u001b[1;38;5;39mCOMET INFO:\u001b[0m     patience            : 100\r\n",
      "\u001b[1;38;5;39mCOMET INFO:\u001b[0m     perspective         : 0.0\r\n",
      "\u001b[1;38;5;39mCOMET INFO:\u001b[0m     quad                : False\r\n",
      "\u001b[1;38;5;39mCOMET INFO:\u001b[0m     rect                : False\r\n",
      "\u001b[1;38;5;39mCOMET INFO:\u001b[0m     resume              : False\r\n",
      "\u001b[1;38;5;39mCOMET INFO:\u001b[0m     resume_evolve       : None\r\n",
      "\u001b[1;38;5;39mCOMET INFO:\u001b[0m     save_dir            : /kaggle/working/results/yolov5/train/exp\r\n",
      "\u001b[1;38;5;39mCOMET INFO:\u001b[0m     save_period         : -1\r\n",
      "\u001b[1;38;5;39mCOMET INFO:\u001b[0m     scale               : 0.5\r\n",
      "\u001b[1;38;5;39mCOMET INFO:\u001b[0m     seed                : 0\r\n",
      "\u001b[1;38;5;39mCOMET INFO:\u001b[0m     shear               : 0.0\r\n",
      "\u001b[1;38;5;39mCOMET INFO:\u001b[0m     single_cls          : False\r\n",
      "\u001b[1;38;5;39mCOMET INFO:\u001b[0m     sync_bn             : False\r\n",
      "\u001b[1;38;5;39mCOMET INFO:\u001b[0m     translate           : 0.1\r\n",
      "\u001b[1;38;5;39mCOMET INFO:\u001b[0m     upload_dataset      : False\r\n",
      "\u001b[1;38;5;39mCOMET INFO:\u001b[0m     val_conf_threshold  : 0.001\r\n",
      "\u001b[1;38;5;39mCOMET INFO:\u001b[0m     val_iou_threshold   : 0.6\r\n",
      "\u001b[1;38;5;39mCOMET INFO:\u001b[0m     warmup_bias_lr      : 0.1\r\n",
      "\u001b[1;38;5;39mCOMET INFO:\u001b[0m     warmup_epochs       : 3.0\r\n",
      "\u001b[1;38;5;39mCOMET INFO:\u001b[0m     warmup_momentum     : 0.8\r\n",
      "\u001b[1;38;5;39mCOMET INFO:\u001b[0m     weight_decay        : 0.0005\r\n",
      "\u001b[1;38;5;39mCOMET INFO:\u001b[0m     workers             : 8\r\n",
      "\u001b[1;38;5;39mCOMET INFO:\u001b[0m   Uploads:\r\n",
      "\u001b[1;38;5;39mCOMET INFO:\u001b[0m     asset               : 13 (2.79 MB)\r\n",
      "\u001b[1;38;5;39mCOMET INFO:\u001b[0m     confusion-matrix    : 1\r\n",
      "\u001b[1;38;5;39mCOMET INFO:\u001b[0m     environment details : 1\r\n",
      "\u001b[1;38;5;39mCOMET INFO:\u001b[0m     git metadata        : 1\r\n",
      "\u001b[1;38;5;39mCOMET INFO:\u001b[0m     images              : 106\r\n",
      "\u001b[1;38;5;39mCOMET INFO:\u001b[0m     installed packages  : 1\r\n",
      "\u001b[1;38;5;39mCOMET INFO:\u001b[0m     model graph         : 1\r\n",
      "\u001b[1;38;5;39mCOMET INFO:\u001b[0m     os packages         : 1\r\n",
      "\u001b[1;38;5;39mCOMET INFO:\u001b[0m \r\n",
      "\u001b[1;38;5;39mCOMET INFO:\u001b[0m Still saving offline stats to messages file before program termination (may take up to 120 seconds)\r\n",
      "\u001b[1;38;5;39mCOMET INFO:\u001b[0m Begin archiving the offline data.\r\n",
      "\u001b[1;38;5;39mCOMET INFO:\u001b[0m To upload this offline experiment, run:\r\n",
      "    comet upload /kaggle/working/yolov5/.cometml-runs/31f7edd51ab84a69a021a0decef93a24.zip\r\n"
     ]
    }
   ],
   "source": [
    "!python train.py --img 640 --epochs 10 --batch-size 16 --data ../yolo.yaml --weights yolov5m.pt --project /kaggle/working/results/yolov5/train"
   ]
  },
  {
   "cell_type": "markdown",
   "id": "7d6351a2",
   "metadata": {
    "papermill": {
     "duration": 0.381314,
     "end_time": "2025-01-13T23:08:19.940666",
     "exception": false,
     "start_time": "2025-01-13T23:08:19.559352",
     "status": "completed"
    },
    "tags": []
   },
   "source": [
    "### **Evaluate on validation set**"
   ]
  },
  {
   "cell_type": "code",
   "execution_count": 7,
   "id": "73224a03",
   "metadata": {
    "execution": {
     "iopub.execute_input": "2025-01-13T23:08:20.516861Z",
     "iopub.status.busy": "2025-01-13T23:08:20.516500Z",
     "iopub.status.idle": "2025-01-13T23:11:35.572241Z",
     "shell.execute_reply": "2025-01-13T23:11:35.571281Z"
    },
    "papermill": {
     "duration": 195.346509,
     "end_time": "2025-01-13T23:11:35.573864",
     "exception": false,
     "start_time": "2025-01-13T23:08:20.227355",
     "status": "completed"
    },
    "tags": []
   },
   "outputs": [
    {
     "name": "stdout",
     "output_type": "stream",
     "text": [
      "\u001b[34m\u001b[1mval: \u001b[0mdata=../yolo.yaml, weights=['/kaggle/working/results/yolov5/train/exp/weights/best.pt'], batch_size=16, imgsz=640, conf_thres=0.001, iou_thres=0.6, max_det=300, task=val, device=, workers=8, single_cls=False, augment=False, verbose=False, save_txt=False, save_hybrid=False, save_conf=False, save_json=False, project=/kaggle/working/results/yolov5/val, name=exp, exist_ok=False, half=False, dnn=False\r\n",
      "YOLOv5 🚀 v7.0-395-g6420a1db Python-3.10.12 torch-2.4.1+cu121 CUDA:0 (Tesla P100-PCIE-16GB, 16269MiB)\r\n",
      "\r\n",
      "Fusing layers... \r\n",
      "Model summary: 212 layers, 20917590 parameters, 0 gradients, 48.1 GFLOPs\r\n",
      "\u001b[34m\u001b[1mval: \u001b[0mScanning /kaggle/working/data/labels/val.cache... 1296 images, 0 background\u001b[0m\r\n",
      "                 Class     Images  Instances          P          R      mAP50   \r\n",
      "                   all       1296      11701      0.801      0.422      0.472      0.283\r\n",
      "                Person       1296       2154      0.884      0.864      0.908       0.69\r\n",
      "                   Ear       1296       1167      0.857       0.76      0.791      0.446\r\n",
      "              Earmuffs       1296         55          1          0     0.0462     0.0233\r\n",
      "                  Face       1296       1378      0.821      0.848      0.876      0.601\r\n",
      "            Face-guard       1296         31          1          0     0.0947      0.041\r\n",
      "     Face-mask-medical       1296         78      0.755      0.487      0.539      0.287\r\n",
      "                  Foot       1296        116          1          0     0.0827      0.032\r\n",
      "                 Tools       1296        727      0.519      0.294      0.304      0.153\r\n",
      "               Glasses       1296        286      0.475      0.262      0.264     0.0953\r\n",
      "                Gloves       1296        446      0.756      0.561      0.641      0.379\r\n",
      "                Helmet       1296        150      0.707      0.573      0.638      0.342\r\n",
      "                 Hands       1296       2436      0.852      0.813      0.857      0.552\r\n",
      "                  Head       1296       1892      0.888      0.835      0.862      0.612\r\n",
      "          Medical-suit       1296         22          1          0      0.189      0.114\r\n",
      "                 Shoes       1296        655      0.685      0.565      0.579      0.287\r\n",
      "           Safety-suit       1296         53          1          0     0.0929     0.0407\r\n",
      "           Safety-vest       1296         55      0.424      0.309      0.254      0.122\r\n",
      "Speed: 0.1ms pre-process, 5.7ms inference, 3.2ms NMS per image at shape (16, 3, 640, 640)\r\n",
      "Results saved to \u001b[1m/kaggle/working/results/yolov5/val/exp\u001b[0m\r\n"
     ]
    }
   ],
   "source": [
    "!python val.py --weights /kaggle/working/results/yolov5/train/exp/weights/best.pt \\\n",
    "               --data ../yolo.yaml \\\n",
    "               --img 640 \\\n",
    "               --batch-size 16 \\\n",
    "               --project /kaggle/working/results/yolov5/val"
   ]
  },
  {
   "cell_type": "markdown",
   "id": "fd0f89af",
   "metadata": {
    "papermill": {
     "duration": 0.398942,
     "end_time": "2025-01-13T23:11:36.266559",
     "exception": false,
     "start_time": "2025-01-13T23:11:35.867617",
     "status": "completed"
    },
    "tags": []
   },
   "source": [
    "### **Evaluate on test set**"
   ]
  },
  {
   "cell_type": "code",
   "execution_count": 8,
   "id": "c7b3671b",
   "metadata": {
    "execution": {
     "iopub.execute_input": "2025-01-13T23:11:36.848722Z",
     "iopub.status.busy": "2025-01-13T23:11:36.848398Z",
     "iopub.status.idle": "2025-01-13T23:11:42.248778Z",
     "shell.execute_reply": "2025-01-13T23:11:42.247912Z"
    },
    "papermill": {
     "duration": 5.690796,
     "end_time": "2025-01-13T23:11:42.250429",
     "exception": false,
     "start_time": "2025-01-13T23:11:36.559633",
     "status": "completed"
    },
    "tags": []
   },
   "outputs": [
    {
     "name": "stdout",
     "output_type": "stream",
     "text": [
      "usage: val.py [-h] [--data DATA] [--weights WEIGHTS [WEIGHTS ...]] [--batch-size BATCH_SIZE]\r\n",
      "              [--imgsz IMGSZ] [--conf-thres CONF_THRES] [--iou-thres IOU_THRES]\r\n",
      "              [--max-det MAX_DET] [--task TASK] [--device DEVICE] [--workers WORKERS]\r\n",
      "              [--single-cls] [--augment] [--verbose] [--save-txt] [--save-hybrid] [--save-conf]\r\n",
      "              [--save-json] [--project PROJECT] [--name NAME] [--exist-ok] [--half] [--dnn]\r\n",
      "val.py: error: unrecognized arguments: --tasks test\r\n"
     ]
    }
   ],
   "source": [
    "!python val.py --weights /kaggle/working/results/yolov5/train/exp/weights/best.pt \\\n",
    "               --data ../yolo.yaml \\\n",
    "               --img 640 \\\n",
    "               --batch-size 16 \\\n",
    "               --tasks test \\\n",
    "               --project /kaggle/working/results/yolov5/test"
   ]
  }
 ],
 "metadata": {
  "kaggle": {
   "accelerator": "gpu",
   "dataSources": [
    {
     "datasetId": 5329058,
     "sourceId": 8853182,
     "sourceType": "datasetVersion"
    }
   ],
   "dockerImageVersionId": 30823,
   "isGpuEnabled": true,
   "isInternetEnabled": true,
   "language": "python",
   "sourceType": "notebook"
  },
  "kernelspec": {
   "display_name": "Python 3",
   "language": "python",
   "name": "python3"
  },
  "language_info": {
   "codemirror_mode": {
    "name": "ipython",
    "version": 3
   },
   "file_extension": ".py",
   "mimetype": "text/x-python",
   "name": "python",
   "nbconvert_exporter": "python",
   "pygments_lexer": "ipython3",
   "version": "3.10.12"
  },
  "papermill": {
   "default_parameters": {},
   "duration": 23429.181836,
   "end_time": "2025-01-13T23:11:48.525761",
   "environment_variables": {},
   "exception": null,
   "input_path": "__notebook__.ipynb",
   "output_path": "__notebook__.ipynb",
   "parameters": {},
   "start_time": "2025-01-13T16:41:19.343925",
   "version": "2.6.0"
  }
 },
 "nbformat": 4,
 "nbformat_minor": 5
}
